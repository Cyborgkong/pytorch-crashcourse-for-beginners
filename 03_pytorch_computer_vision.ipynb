{
  "nbformat": 4,
  "nbformat_minor": 0,
  "metadata": {
    "colab": {
      "provenance": [],
      "gpuType": "T4",
      "authorship_tag": "ABX9TyMnMsJvjngBElpkbUlmkY3F",
      "include_colab_link": true
    },
    "kernelspec": {
      "name": "python3",
      "display_name": "Python 3"
    },
    "language_info": {
      "name": "python"
    },
    "widgets": {
     "state": {
      "application/vnd.jupyter.widget-state+json": {
       "state"{
        "a382faf2e8ff455e810ef9cf6823be3d": {
          "model_module": "@jupyter-widgets/controls",
          "model_name": "HBoxModel",
          "model_module_version": "1.5.0",
          "state": {
            "_dom_classes": [],
            "_model_module": "@jupyter-widgets/controls",
            "_model_module_version": "1.5.0",
            "_model_name": "HBoxModel",
            "_view_count": null,
            "_view_module": "@jupyter-widgets/controls",
            "_view_module_version": "1.5.0",
            "_view_name": "HBoxView",
            "box_style": "",
            "children": [
              "IPY_MODEL_f99e1871574145509288e3b79f5f318c",
              "IPY_MODEL_23f9e548ce9d42ec8f4e1f6d238de8b5",
              "IPY_MODEL_47210c9d24e940b0b692a3cfdbfe9817"
            ],
            "layout": "IPY_MODEL_d5c2e1dabcfa41cbb0be25ec0394f7ee"
           }
          }
         }
        },
        "f99e1871574145509288e3b79f5f318c": {
          "model_module": "@jupyter-widgets/controls",
          "model_name": "HTMLModel",
          "model_module_version": "1.5.0",
          "state": {
            "_dom_classes": [],
            "_model_module": "@jupyter-widgets/controls",
            "_model_module_version": "1.5.0",
            "_model_name": "HTMLModel",
            "_view_count": null,
            "_view_module": "@jupyter-widgets/controls",
            "_view_module_version": "1.5.0",
            "_view_name": "HTMLView",
            "description": "",
            "description_tooltip": null,
            "layout": "IPY_MODEL_2cf81db951d248f181d1fad3f0b69cdf",
            "placeholder": "​",
            "style": "IPY_MODEL_e8864c7ebcf44abb8bfe44ecf5a5db16",
            "value": "100%"
          }
        },
        "23f9e548ce9d42ec8f4e1f6d238de8b5": {
          "model_module": "@jupyter-widgets/controls",
          "model_name": "FloatProgressModel",
          "model_module_version": "1.5.0",
          "state": {
            "_dom_classes": [],
            "_model_module": "@jupyter-widgets/controls",
            "_model_module_version": "1.5.0",
            "_model_name": "FloatProgressModel",
            "_view_count": null,
            "_view_module": "@jupyter-widgets/controls",
            "_view_module_version": "1.5.0",
            "_view_name": "ProgressView",
            "bar_style": "success",
            "description": "",
            "description_tooltip": null,
            "layout": "IPY_MODEL_69b0439d011a4ed9b68a2f2fc8a24140",
            "max": 3,
            "min": 0,
            "orientation": "horizontal",
            "style": "IPY_MODEL_8e1c67aa0d264704bbc19960e4964ff7",
            "value": 3
          }
        },
        "47210c9d24e940b0b692a3cfdbfe9817": {
          "model_module": "@jupyter-widgets/controls",
          "model_name": "HTMLModel",
          "model_module_version": "1.5.0",
          "state": {
            "_dom_classes": [],
            "_model_module": "@jupyter-widgets/controls",
            "_model_module_version": "1.5.0",
            "_model_name": "HTMLModel",
            "_view_count": null,
            "_view_module": "@jupyter-widgets/controls",
            "_view_module_version": "1.5.0",
            "_view_name": "HTMLView",
            "description": "",
            "description_tooltip": null,
            "layout": "IPY_MODEL_91372b505ec14f9986eefee8a1539c32",
            "placeholder": "​",
            "style": "IPY_MODEL_38b40f7d54d04267a209a16c2951c172",
            "value": " 3/3 [00:28&lt;00:00,  9.58s/it]"
          }
        },
        "d5c2e1dabcfa41cbb0be25ec0394f7ee": {
          "model_module": "@jupyter-widgets/base",
          "model_name": "LayoutModel",
          "model_module_version": "1.2.0",
          "state": {
            "_model_module": "@jupyter-widgets/base",
            "_model_module_version": "1.2.0",
            "_model_name": "LayoutModel",
            "_view_count": null,
            "_view_module": "@jupyter-widgets/base",
            "_view_module_version": "1.2.0",
            "_view_name": "LayoutView",
            "align_content": null,
            "align_items": null,
            "align_self": null,
            "border": null,
            "bottom": null,
            "display": null,
            "flex": null,
            "flex_flow": null,
            "grid_area": null,
            "grid_auto_columns": null,
            "grid_auto_flow": null,
            "grid_auto_rows": null,
            "grid_column": null,
            "grid_gap": null,
            "grid_row": null,
            "grid_template_areas": null,
            "grid_template_columns": null,
            "grid_template_rows": null,
            "height": null,
            "justify_content": null,
            "justify_items": null,
            "left": null,
            "margin": null,
            "max_height": null,
            "max_width": null,
            "min_height": null,
            "min_width": null,
            "object_fit": null,
            "object_position": null,
            "order": null,
            "overflow": null,
            "overflow_x": null,
            "overflow_y": null,
            "padding": null,
            "right": null,
            "top": null,
            "visibility": null,
            "width": null
          }
        },
        "2cf81db951d248f181d1fad3f0b69cdf": {
          "model_module": "@jupyter-widgets/base",
          "model_name": "LayoutModel",
          "model_module_version": "1.2.0",
          "state": {
            "_model_module": "@jupyter-widgets/base",
            "_model_module_version": "1.2.0",
            "_model_name": "LayoutModel",
            "_view_count": null,
            "_view_module": "@jupyter-widgets/base",
            "_view_module_version": "1.2.0",
            "_view_name": "LayoutView",
            "align_content": null,
            "align_items": null,
            "align_self": null,
            "border": null,
            "bottom": null,
            "display": null,
            "flex": null,
            "flex_flow": null,
            "grid_area": null,
            "grid_auto_columns": null,
            "grid_auto_flow": null,
            "grid_auto_rows": null,
            "grid_column": null,
            "grid_gap": null,
            "grid_row": null,
            "grid_template_areas": null,
            "grid_template_columns": null,
            "grid_template_rows": null,
            "height": null,
            "justify_content": null,
            "justify_items": null,
            "left": null,
            "margin": null,
            "max_height": null,
            "max_width": null,
            "min_height": null,
            "min_width": null,
            "object_fit": null,
            "object_position": null,
            "order": null,
            "overflow": null,
            "overflow_x": null,
            "overflow_y": null,
            "padding": null,
            "right": null,
            "top": null,
            "visibility": null,
            "width": null
          }
        },
        "e8864c7ebcf44abb8bfe44ecf5a5db16": {
          "model_module": "@jupyter-widgets/controls",
          "model_name": "DescriptionStyleModel",
          "model_module_version": "1.5.0",
          "state": {
            "_model_module": "@jupyter-widgets/controls",
            "_model_module_version": "1.5.0",
            "_model_name": "DescriptionStyleModel",
            "_view_count": null,
            "_view_module": "@jupyter-widgets/base",
            "_view_module_version": "1.2.0",
            "_view_name": "StyleView",
            "description_width": ""
          }
        },
        "69b0439d011a4ed9b68a2f2fc8a24140": {
          "model_module": "@jupyter-widgets/base",
          "model_name": "LayoutModel",
          "model_module_version": "1.2.0",
          "state": {
            "_model_module": "@jupyter-widgets/base",
            "_model_module_version": "1.2.0",
            "_model_name": "LayoutModel",
            "_view_count": null,
            "_view_module": "@jupyter-widgets/base",
            "_view_module_version": "1.2.0",
            "_view_name": "LayoutView",
            "align_content": null,
            "align_items": null,
            "align_self": null,
            "border": null,
            "bottom": null,
            "display": null,
            "flex": null,
            "flex_flow": null,
            "grid_area": null,
            "grid_auto_columns": null,
            "grid_auto_flow": null,
            "grid_auto_rows": null,
            "grid_column": null,
            "grid_gap": null,
            "grid_row": null,
            "grid_template_areas": null,
            "grid_template_columns": null,
            "grid_template_rows": null,
            "height": null,
            "justify_content": null,
            "justify_items": null,
            "left": null,
            "margin": null,
            "max_height": null,
            "max_width": null,
            "min_height": null,
            "min_width": null,
            "object_fit": null,
            "object_position": null,
            "order": null,
            "overflow": null,
            "overflow_x": null,
            "overflow_y": null,
            "padding": null,
            "right": null,
            "top": null,
            "visibility": null,
            "width": null
          }
        },
        "8e1c67aa0d264704bbc19960e4964ff7": {
          "model_module": "@jupyter-widgets/controls",
          "model_name": "ProgressStyleModel",
          "model_module_version": "1.5.0",
          "state": {
            "_model_module": "@jupyter-widgets/controls",
            "_model_module_version": "1.5.0",
            "_model_name": "ProgressStyleModel",
            "_view_count": null,
            "_view_module": "@jupyter-widgets/base",
            "_view_module_version": "1.2.0",
            "_view_name": "StyleView",
            "bar_color": null,
            "description_width": ""
          }
        },
        "91372b505ec14f9986eefee8a1539c32": {
          "model_module": "@jupyter-widgets/base",
          "model_name": "LayoutModel",
          "model_module_version": "1.2.0",
          "state": {
            "_model_module": "@jupyter-widgets/base",
            "_model_module_version": "1.2.0",
            "_model_name": "LayoutModel",
            "_view_count": null,
            "_view_module": "@jupyter-widgets/base",
            "_view_module_version": "1.2.0",
            "_view_name": "LayoutView",
            "align_content": null,
            "align_items": null,
            "align_self": null,
            "border": null,
            "bottom": null,
            "display": null,
            "flex": null,
            "flex_flow": null,
            "grid_area": null,
            "grid_auto_columns": null,
            "grid_auto_flow": null,
            "grid_auto_rows": null,
            "grid_column": null,
            "grid_gap": null,
            "grid_row": null,
            "grid_template_areas": null,
            "grid_template_columns": null,
            "grid_template_rows": null,
            "height": null,
            "justify_content": null,
            "justify_items": null,
            "left": null,
            "margin": null,
            "max_height": null,
            "max_width": null,
            "min_height": null,
            "min_width": null,
            "object_fit": null,
            "object_position": null,
            "order": null,
            "overflow": null,
            "overflow_x": null,
            "overflow_y": null,
            "padding": null,
            "right": null,
            "top": null,
            "visibility": null,
            "width": null
          }
        },
        "38b40f7d54d04267a209a16c2951c172": {
          "model_module": "@jupyter-widgets/controls",
          "model_name": "DescriptionStyleModel",
          "model_module_version": "1.5.0",
          "state": {
            "_model_module": "@jupyter-widgets/controls",
            "_model_module_version": "1.5.0",
            "_model_name": "DescriptionStyleModel",
            "_view_count": null,
            "_view_module": "@jupyter-widgets/base",
            "_view_module_version": "1.2.0",
            "_view_name": "StyleView",
            "description_width": ""
          }
        },
        "cade333bd2b045f1bb6a84f29d466ba3": {
          "model_module": "@jupyter-widgets/controls",
          "model_name": "HBoxModel",
          "model_module_version": "1.5.0",
          "state": {
            "_dom_classes": [],
            "_model_module": "@jupyter-widgets/controls",
            "_model_module_version": "1.5.0",
            "_model_name": "HBoxModel",
            "_view_count": null,
            "_view_module": "@jupyter-widgets/controls",
            "_view_module_version": "1.5.0",
            "_view_name": "HBoxView",
            "box_style": "",
            "children": [
              "IPY_MODEL_74fcdca9160843e19eeacf4043b67b6c",
              "IPY_MODEL_ff887cd0a0ed48129762fe7d086235f2",
              "IPY_MODEL_5eb3817b128c4766a424a0208dd90390"
            ],
            "layout": "IPY_MODEL_43b5b7356d6d4726b5dcec23f47d006d"
          }
        },
        "74fcdca9160843e19eeacf4043b67b6c": {
          "model_module": "@jupyter-widgets/controls",
          "model_name": "HTMLModel",
          "model_module_version": "1.5.0",
          "state": {
            "_dom_classes": [],
            "_model_module": "@jupyter-widgets/controls",
            "_model_module_version": "1.5.0",
            "_model_name": "HTMLModel",
            "_view_count": null,
            "_view_module": "@jupyter-widgets/controls",
            "_view_module_version": "1.5.0",
            "_view_name": "HTMLView",
            "description": "",
            "description_tooltip": null,
            "layout": "IPY_MODEL_5d297169b5d64e65af21d7f0d506e05b",
            "placeholder": "​",
            "style": "IPY_MODEL_77170b048c2d456ebf2c4f84de55cb5c",
            "value": "100%"
          }
        },
        "ff887cd0a0ed48129762fe7d086235f2": {
          "model_module": "@jupyter-widgets/controls",
          "model_name": "FloatProgressModel",
          "model_module_version": "1.5.0",
          "state": {
            "_dom_classes": [],
            "_model_module": "@jupyter-widgets/controls",
            "_model_module_version": "1.5.0",
            "_model_name": "FloatProgressModel",
            "_view_count": null,
            "_view_module": "@jupyter-widgets/controls",
            "_view_module_version": "1.5.0",
            "_view_name": "ProgressView",
            "bar_style": "success",
            "description": "",
            "description_tooltip": null,
            "layout": "IPY_MODEL_37c3de59020346838552380bde9a6018",
            "max": 313,
            "min": 0,
            "orientation": "horizontal",
            "style": "IPY_MODEL_e81832ff2e48491eaae05c6952ad3613",
            "value": 313
          }
        },
        "5eb3817b128c4766a424a0208dd90390": {
          "model_module": "@jupyter-widgets/controls",
          "model_name": "HTMLModel",
          "model_module_version": "1.5.0",
          "state": {
            "_dom_classes": [],
            "_model_module": "@jupyter-widgets/controls",
            "_model_module_version": "1.5.0",
            "_model_name": "HTMLModel",
            "_view_count": null,
            "_view_module": "@jupyter-widgets/controls",
            "_view_module_version": "1.5.0",
            "_view_name": "HTMLView",
            "description": "",
            "description_tooltip": null,
            "layout": "IPY_MODEL_914d71590a67430ea2cf26a0933276ab",
            "placeholder": "​",
            "style": "IPY_MODEL_e71054eed62c446ea7f07421db83050e",
            "value": " 313/313 [00:01&lt;00:00, 267.83it/s]"
          }
        },
        "43b5b7356d6d4726b5dcec23f47d006d": {
          "model_module": "@jupyter-widgets/base",
          "model_name": "LayoutModel",
          "model_module_version": "1.2.0",
          "state": {
            "_model_module": "@jupyter-widgets/base",
            "_model_module_version": "1.2.0",
            "_model_name": "LayoutModel",
            "_view_count": null,
            "_view_module": "@jupyter-widgets/base",
            "_view_module_version": "1.2.0",
            "_view_name": "LayoutView",
            "align_content": null,
            "align_items": null,
            "align_self": null,
            "border": null,
            "bottom": null,
            "display": null,
            "flex": null,
            "flex_flow": null,
            "grid_area": null,
            "grid_auto_columns": null,
            "grid_auto_flow": null,
            "grid_auto_rows": null,
            "grid_column": null,
            "grid_gap": null,
            "grid_row": null,
            "grid_template_areas": null,
            "grid_template_columns": null,
            "grid_template_rows": null,
            "height": null,
            "justify_content": null,
            "justify_items": null,
            "left": null,
            "margin": null,
            "max_height": null,
            "max_width": null,
            "min_height": null,
            "min_width": null,
            "object_fit": null,
            "object_position": null,
            "order": null,
            "overflow": null,
            "overflow_x": null,
            "overflow_y": null,
            "padding": null,
            "right": null,
            "top": null,
            "visibility": null,
            "width": null
          }
        },
        "5d297169b5d64e65af21d7f0d506e05b": {
          "model_module": "@jupyter-widgets/base",
          "model_name": "LayoutModel",
          "model_module_version": "1.2.0",
          "state": {
            "_model_module": "@jupyter-widgets/base",
            "_model_module_version": "1.2.0",
            "_model_name": "LayoutModel",
            "_view_count": null,
            "_view_module": "@jupyter-widgets/base",
            "_view_module_version": "1.2.0",
            "_view_name": "LayoutView",
            "align_content": null,
            "align_items": null,
            "align_self": null,
            "border": null,
            "bottom": null,
            "display": null,
            "flex": null,
            "flex_flow": null,
            "grid_area": null,
            "grid_auto_columns": null,
            "grid_auto_flow": null,
            "grid_auto_rows": null,
            "grid_column": null,
            "grid_gap": null,
            "grid_row": null,
            "grid_template_areas": null,
            "grid_template_columns": null,
            "grid_template_rows": null,
            "height": null,
            "justify_content": null,
            "justify_items": null,
            "left": null,
            "margin": null,
            "max_height": null,
            "max_width": null,
            "min_height": null,
            "min_width": null,
            "object_fit": null,
            "object_position": null,
            "order": null,
            "overflow": null,
            "overflow_x": null,
            "overflow_y": null,
            "padding": null,
            "right": null,
            "top": null,
            "visibility": null,
            "width": null
          }
        },
        "77170b048c2d456ebf2c4f84de55cb5c": {
          "model_module": "@jupyter-widgets/controls",
          "model_name": "DescriptionStyleModel",
          "model_module_version": "1.5.0",
          "state": {
            "_model_module": "@jupyter-widgets/controls",
            "_model_module_version": "1.5.0",
            "_model_name": "DescriptionStyleModel",
            "_view_count": null,
            "_view_module": "@jupyter-widgets/base",
            "_view_module_version": "1.2.0",
            "_view_name": "StyleView",
            "description_width": ""
          }
        },
        "37c3de59020346838552380bde9a6018": {
          "model_module": "@jupyter-widgets/base",
          "model_name": "LayoutModel",
          "model_module_version": "1.2.0",
          "state": {
            "_model_module": "@jupyter-widgets/base",
            "_model_module_version": "1.2.0",
            "_model_name": "LayoutModel",
            "_view_count": null,
            "_view_module": "@jupyter-widgets/base",
            "_view_module_version": "1.2.0",
            "_view_name": "LayoutView",
            "align_content": null,
            "align_items": null,
            "align_self": null,
            "border": null,
            "bottom": null,
            "display": null,
            "flex": null,
            "flex_flow": null,
            "grid_area": null,
            "grid_auto_columns": null,
            "grid_auto_flow": null,
            "grid_auto_rows": null,
            "grid_column": null,
            "grid_gap": null,
            "grid_row": null,
            "grid_template_areas": null,
            "grid_template_columns": null,
            "grid_template_rows": null,
            "height": null,
            "justify_content": null,
            "justify_items": null,
            "left": null,
            "margin": null,
            "max_height": null,
            "max_width": null,
            "min_height": null,
            "min_width": null,
            "object_fit": null,
            "object_position": null,
            "order": null,
            "overflow": null,
            "overflow_x": null,
            "overflow_y": null,
            "padding": null,
            "right": null,
            "top": null,
            "visibility": null,
            "width": null
          }
        },
        "e81832ff2e48491eaae05c6952ad3613": {
          "model_module": "@jupyter-widgets/controls",
          "model_name": "ProgressStyleModel",
          "model_module_version": "1.5.0",
          "state": {
            "_model_module": "@jupyter-widgets/controls",
            "_model_module_version": "1.5.0",
            "_model_name": "ProgressStyleModel",
            "_view_count": null,
            "_view_module": "@jupyter-widgets/base",
            "_view_module_version": "1.2.0",
            "_view_name": "StyleView",
            "bar_color": null,
            "description_width": ""
          }
        },
        "914d71590a67430ea2cf26a0933276ab": {
          "model_module": "@jupyter-widgets/base",
          "model_name": "LayoutModel",
          "model_module_version": "1.2.0",
          "state": {
            "_model_module": "@jupyter-widgets/base",
            "_model_module_version": "1.2.0",
            "_model_name": "LayoutModel",
            "_view_count": null,
            "_view_module": "@jupyter-widgets/base",
            "_view_module_version": "1.2.0",
            "_view_name": "LayoutView",
            "align_content": null,
            "align_items": null,
            "align_self": null,
            "border": null,
            "bottom": null,
            "display": null,
            "flex": null,
            "flex_flow": null,
            "grid_area": null,
            "grid_auto_columns": null,
            "grid_auto_flow": null,
            "grid_auto_rows": null,
            "grid_column": null,
            "grid_gap": null,
            "grid_row": null,
            "grid_template_areas": null,
            "grid_template_columns": null,
            "grid_template_rows": null,
            "height": null,
            "justify_content": null,
            "justify_items": null,
            "left": null,
            "margin": null,
            "max_height": null,
            "max_width": null,
            "min_height": null,
            "min_width": null,
            "object_fit": null,
            "object_position": null,
            "order": null,
            "overflow": null,
            "overflow_x": null,
            "overflow_y": null,
            "padding": null,
            "right": null,
            "top": null,
            "visibility": null,
            "width": null
          }
        },
        "e71054eed62c446ea7f07421db83050e": {
          "model_module": "@jupyter-widgets/controls",
          "model_name": "DescriptionStyleModel",
          "model_module_version": "1.5.0",
          "state": {
            "_model_module": "@jupyter-widgets/controls",
            "_model_module_version": "1.5.0",
            "_model_name": "DescriptionStyleModel",
            "_view_count": null,
            "_view_module": "@jupyter-widgets/base",
            "_view_module_version": "1.2.0",
            "_view_name": "StyleView",
            "description_width": ""
          }
        },
        "89c782748dfc4162afee050a532e7322": {
          "model_module": "@jupyter-widgets/controls",
          "model_name": "HBoxModel",
          "model_module_version": "1.5.0",
          "state": {
            "_dom_classes": [],
            "_model_module": "@jupyter-widgets/controls",
            "_model_module_version": "1.5.0",
            "_model_name": "HBoxModel",
            "_view_count": null,
            "_view_module": "@jupyter-widgets/controls",
            "_view_module_version": "1.5.0",
            "_view_name": "HBoxView",
            "box_style": "",
            "children": [
              "IPY_MODEL_56a8d50be08e429d9e5f74ac9ac9cdf1",
              "IPY_MODEL_aa644369a82e4976ac83754aa16a9236",
              "IPY_MODEL_49e1fd5fbe6f44639780610c067ac9ce"
            ],
            "layout": "IPY_MODEL_ad3838cba6b345c994fe02102b55e5b8"
          }
        },
        "56a8d50be08e429d9e5f74ac9ac9cdf1": {
          "model_module": "@jupyter-widgets/controls",
          "model_name": "HTMLModel",
          "model_module_version": "1.5.0",
          "state": {
            "_dom_classes": [],
            "_model_module": "@jupyter-widgets/controls",
            "_model_module_version": "1.5.0",
            "_model_name": "HTMLModel",
            "_view_count": null,
            "_view_module": "@jupyter-widgets/controls",
            "_view_module_version": "1.5.0",
            "_view_name": "HTMLView",
            "description": "",
            "description_tooltip": null,
            "layout": "IPY_MODEL_b738a35138314613b5eaa03f85142b52",
            "placeholder": "​",
            "style": "IPY_MODEL_852ac7abd66446169c7e0bab01fbc772",
            "value": "100%"
          }
        },
        "aa644369a82e4976ac83754aa16a9236": {
          "model_module": "@jupyter-widgets/controls",
          "model_name": "FloatProgressModel",
          "model_module_version": "1.5.0",
          "state": {
            "_dom_classes": [],
            "_model_module": "@jupyter-widgets/controls",
            "_model_module_version": "1.5.0",
            "_model_name": "FloatProgressModel",
            "_view_count": null,
            "_view_module": "@jupyter-widgets/controls",
            "_view_module_version": "1.5.0",
            "_view_name": "ProgressView",
            "bar_style": "success",
            "description": "",
            "description_tooltip": null,
            "layout": "IPY_MODEL_0a2bfbd96b4d47fe8701b697a53ffe2e",
            "max": 3,
            "min": 0,
            "orientation": "horizontal",
            "style": "IPY_MODEL_ee27f7f90d494e01adcb55dd4d97a55e",
            "value": 3
          }
        },
        "49e1fd5fbe6f44639780610c067ac9ce": {
          "model_module": "@jupyter-widgets/controls",
          "model_name": "HTMLModel",
          "model_module_version": "1.5.0",
          "state": {
            "_dom_classes": [],
            "_model_module": "@jupyter-widgets/controls",
            "_model_module_version": "1.5.0",
            "_model_name": "HTMLModel",
            "_view_count": null,
            "_view_module": "@jupyter-widgets/controls",
            "_view_module_version": "1.5.0",
            "_view_name": "HTMLView",
            "description": "",
            "description_tooltip": null,
            "layout": "IPY_MODEL_718e9bd1624c4f47847a9419ecf975b4",
            "placeholder": "​",
            "style": "IPY_MODEL_eee58794c8664d85a0c080cec446c260",
            "value": " 3/3 [00:32&lt;00:00, 10.71s/it]"
          }
        },
        "ad3838cba6b345c994fe02102b55e5b8": {
          "model_module": "@jupyter-widgets/base",
          "model_name": "LayoutModel",
          "model_module_version": "1.2.0",
          "state": {
            "_model_module": "@jupyter-widgets/base",
            "_model_module_version": "1.2.0",
            "_model_name": "LayoutModel",
            "_view_count": null,
            "_view_module": "@jupyter-widgets/base",
            "_view_module_version": "1.2.0",
            "_view_name": "LayoutView",
            "align_content": null,
            "align_items": null,
            "align_self": null,
            "border": null,
            "bottom": null,
            "display": null,
            "flex": null,
            "flex_flow": null,
            "grid_area": null,
            "grid_auto_columns": null,
            "grid_auto_flow": null,
            "grid_auto_rows": null,
            "grid_column": null,
            "grid_gap": null,
            "grid_row": null,
            "grid_template_areas": null,
            "grid_template_columns": null,
            "grid_template_rows": null,
            "height": null,
            "justify_content": null,
            "justify_items": null,
            "left": null,
            "margin": null,
            "max_height": null,
            "max_width": null,
            "min_height": null,
            "min_width": null,
            "object_fit": null,
            "object_position": null,
            "order": null,
            "overflow": null,
            "overflow_x": null,
            "overflow_y": null,
            "padding": null,
            "right": null,
            "top": null,
            "visibility": null,
            "width": null
          }
        },
        "b738a35138314613b5eaa03f85142b52": {
          "model_module": "@jupyter-widgets/base",
          "model_name": "LayoutModel",
          "model_module_version": "1.2.0",
          "state": {
            "_model_module": "@jupyter-widgets/base",
            "_model_module_version": "1.2.0",
            "_model_name": "LayoutModel",
            "_view_count": null,
            "_view_module": "@jupyter-widgets/base",
            "_view_module_version": "1.2.0",
            "_view_name": "LayoutView",
            "align_content": null,
            "align_items": null,
            "align_self": null,
            "border": null,
            "bottom": null,
            "display": null,
            "flex": null,
            "flex_flow": null,
            "grid_area": null,
            "grid_auto_columns": null,
            "grid_auto_flow": null,
            "grid_auto_rows": null,
            "grid_column": null,
            "grid_gap": null,
            "grid_row": null,
            "grid_template_areas": null,
            "grid_template_columns": null,
            "grid_template_rows": null,
            "height": null,
            "justify_content": null,
            "justify_items": null,
            "left": null,
            "margin": null,
            "max_height": null,
            "max_width": null,
            "min_height": null,
            "min_width": null,
            "object_fit": null,
            "object_position": null,
            "order": null,
            "overflow": null,
            "overflow_x": null,
            "overflow_y": null,
            "padding": null,
            "right": null,
            "top": null,
            "visibility": null,
            "width": null
          }
        },
        "852ac7abd66446169c7e0bab01fbc772": {
          "model_module": "@jupyter-widgets/controls",
          "model_name": "DescriptionStyleModel",
          "model_module_version": "1.5.0",
          "state": {
            "_model_module": "@jupyter-widgets/controls",
            "_model_module_version": "1.5.0",
            "_model_name": "DescriptionStyleModel",
            "_view_count": null,
            "_view_module": "@jupyter-widgets/base",
            "_view_module_version": "1.2.0",
            "_view_name": "StyleView",
            "description_width": ""
          }
        },
        "0a2bfbd96b4d47fe8701b697a53ffe2e": {
          "model_module": "@jupyter-widgets/base",
          "model_name": "LayoutModel",
          "model_module_version": "1.2.0",
          "state": {
            "_model_module": "@jupyter-widgets/base",
            "_model_module_version": "1.2.0",
            "_model_name": "LayoutModel",
            "_view_count": null,
            "_view_module": "@jupyter-widgets/base",
            "_view_module_version": "1.2.0",
            "_view_name": "LayoutView",
            "align_content": null,
            "align_items": null,
            "align_self": null,
            "border": null,
            "bottom": null,
            "display": null,
            "flex": null,
            "flex_flow": null,
            "grid_area": null,
            "grid_auto_columns": null,
            "grid_auto_flow": null,
            "grid_auto_rows": null,
            "grid_column": null,
            "grid_gap": null,
            "grid_row": null,
            "grid_template_areas": null,
            "grid_template_columns": null,
            "grid_template_rows": null,
            "height": null,
            "justify_content": null,
            "justify_items": null,
            "left": null,
            "margin": null,
            "max_height": null,
            "max_width": null,
            "min_height": null,
            "min_width": null,
            "object_fit": null,
            "object_position": null,
            "order": null,
            "overflow": null,
            "overflow_x": null,
            "overflow_y": null,
            "padding": null,
            "right": null,
            "top": null,
            "visibility": null,
            "width": null
          }
        },
        "ee27f7f90d494e01adcb55dd4d97a55e": {
          "model_module": "@jupyter-widgets/controls",
          "model_name": "ProgressStyleModel",
          "model_module_version": "1.5.0",
          "state": {
            "_model_module": "@jupyter-widgets/controls",
            "_model_module_version": "1.5.0",
            "_model_name": "ProgressStyleModel",
            "_view_count": null,
            "_view_module": "@jupyter-widgets/base",
            "_view_module_version": "1.2.0",
            "_view_name": "StyleView",
            "bar_color": null,
            "description_width": ""
          }
        },
        "718e9bd1624c4f47847a9419ecf975b4": {
          "model_module": "@jupyter-widgets/base",
          "model_name": "LayoutModel",
          "model_module_version": "1.2.0",
          "state": {
            "_model_module": "@jupyter-widgets/base",
            "_model_module_version": "1.2.0",
            "_model_name": "LayoutModel",
            "_view_count": null,
            "_view_module": "@jupyter-widgets/base",
            "_view_module_version": "1.2.0",
            "_view_name": "LayoutView",
            "align_content": null,
            "align_items": null,
            "align_self": null,
            "border": null,
            "bottom": null,
            "display": null,
            "flex": null,
            "flex_flow": null,
            "grid_area": null,
            "grid_auto_columns": null,
            "grid_auto_flow": null,
            "grid_auto_rows": null,
            "grid_column": null,
            "grid_gap": null,
            "grid_row": null,
            "grid_template_areas": null,
            "grid_template_columns": null,
            "grid_template_rows": null,
            "height": null,
            "justify_content": null,
            "justify_items": null,
            "left": null,
            "margin": null,
            "max_height": null,
            "max_width": null,
            "min_height": null,
            "min_width": null,
            "object_fit": null,
            "object_position": null,
            "order": null,
            "overflow": null,
            "overflow_x": null,
            "overflow_y": null,
            "padding": null,
            "right": null,
            "top": null,
            "visibility": null,
            "width": null
          }
        },
        "eee58794c8664d85a0c080cec446c260": {
          "model_module": "@jupyter-widgets/controls",
          "model_name": "DescriptionStyleModel",
          "model_module_version": "1.5.0",
          "state": {
            "_model_module": "@jupyter-widgets/controls",
            "_model_module_version": "1.5.0",
            "_model_name": "DescriptionStyleModel",
            "_view_count": null,
            "_view_module": "@jupyter-widgets/base",
            "_view_module_version": "1.2.0",
            "_view_name": "StyleView",
            "description_width": ""
          }
        },
        "a8676ef1349c4ba8bc6b6ed50a6d72db": {
          "model_module": "@jupyter-widgets/controls",
          "model_name": "HBoxModel",
          "model_module_version": "1.5.0",
          "state": {
            "_dom_classes": [],
            "_model_module": "@jupyter-widgets/controls",
            "_model_module_version": "1.5.0",
            "_model_name": "HBoxModel",
            "_view_count": null,
            "_view_module": "@jupyter-widgets/controls",
            "_view_module_version": "1.5.0",
            "_view_name": "HBoxView",
            "box_style": "",
            "children": [
              "IPY_MODEL_577cc21dc59541c48cecce79a5473657",
              "IPY_MODEL_78da4761c37243de8f32e294d5031173",
              "IPY_MODEL_efc51f850b75460487f7beb81fe87cfc"
            ],
            "layout": "IPY_MODEL_7cb85d2f1e9c46228b69409a9c804bc3"
          }
        },
        "577cc21dc59541c48cecce79a5473657": {
          "model_module": "@jupyter-widgets/controls",
          "model_name": "HTMLModel",
          "model_module_version": "1.5.0",
          "state": {
            "_dom_classes": [],
            "_model_module": "@jupyter-widgets/controls",
            "_model_module_version": "1.5.0",
            "_model_name": "HTMLModel",
            "_view_count": null,
            "_view_module": "@jupyter-widgets/controls",
            "_view_module_version": "1.5.0",
            "_view_name": "HTMLView",
            "description": "",
            "description_tooltip": null,
            "layout": "IPY_MODEL_a0458aa482f54475bf86124be3783a8a",
            "placeholder": "​",
            "style": "IPY_MODEL_fed0ee11bad14cb0838b0f008a5977cc",
            "value": "100%"
          }
        },
        "78da4761c37243de8f32e294d5031173": {
          "model_module": "@jupyter-widgets/controls",
          "model_name": "FloatProgressModel",
          "model_module_version": "1.5.0",
          "state": {
            "_dom_classes": [],
            "_model_module": "@jupyter-widgets/controls",
            "_model_module_version": "1.5.0",
            "_model_name": "FloatProgressModel",
            "_view_count": null,
            "_view_module": "@jupyter-widgets/controls",
            "_view_module_version": "1.5.0",
            "_view_name": "ProgressView",
            "bar_style": "success",
            "description": "",
            "description_tooltip": null,
            "layout": "IPY_MODEL_2bffeb40281c46d8a7b28e7743f36793",
            "max": 313,
            "min": 0,
            "orientation": "horizontal",
            "style": "IPY_MODEL_f212946073014b7fb326965def3c9a3a",
            "value": 313
          }
        },
        "efc51f850b75460487f7beb81fe87cfc": {
          "model_module": "@jupyter-widgets/controls",
          "model_name": "HTMLModel",
          "model_module_version": "1.5.0",
          "state": {
            "_dom_classes": [],
            "_model_module": "@jupyter-widgets/controls",
            "_model_module_version": "1.5.0",
            "_model_name": "HTMLModel",
            "_view_count": null,
            "_view_module": "@jupyter-widgets/controls",
            "_view_module_version": "1.5.0",
            "_view_name": "HTMLView",
            "description": "",
            "description_tooltip": null,
            "layout": "IPY_MODEL_4ad102e6086245e9a131dbad3f4e6dc0",
            "placeholder": "​",
            "style": "IPY_MODEL_d8060f0c98484b8d90633df032058e47",
            "value": " 313/313 [00:01&lt;00:00, 274.82it/s]"
          }
        },
        "7cb85d2f1e9c46228b69409a9c804bc3": {
          "model_module": "@jupyter-widgets/base",
          "model_name": "LayoutModel",
          "model_module_version": "1.2.0",
          "state": {
            "_model_module": "@jupyter-widgets/base",
            "_model_module_version": "1.2.0",
            "_model_name": "LayoutModel",
            "_view_count": null,
            "_view_module": "@jupyter-widgets/base",
            "_view_module_version": "1.2.0",
            "_view_name": "LayoutView",
            "align_content": null,
            "align_items": null,
            "align_self": null,
            "border": null,
            "bottom": null,
            "display": null,
            "flex": null,
            "flex_flow": null,
            "grid_area": null,
            "grid_auto_columns": null,
            "grid_auto_flow": null,
            "grid_auto_rows": null,
            "grid_column": null,
            "grid_gap": null,
            "grid_row": null,
            "grid_template_areas": null,
            "grid_template_columns": null,
            "grid_template_rows": null,
            "height": null,
            "justify_content": null,
            "justify_items": null,
            "left": null,
            "margin": null,
            "max_height": null,
            "max_width": null,
            "min_height": null,
            "min_width": null,
            "object_fit": null,
            "object_position": null,
            "order": null,
            "overflow": null,
            "overflow_x": null,
            "overflow_y": null,
            "padding": null,
            "right": null,
            "top": null,
            "visibility": null,
            "width": null
          }
        },
        "a0458aa482f54475bf86124be3783a8a": {
          "model_module": "@jupyter-widgets/base",
          "model_name": "LayoutModel",
          "model_module_version": "1.2.0",
          "state": {
            "_model_module": "@jupyter-widgets/base",
            "_model_module_version": "1.2.0",
            "_model_name": "LayoutModel",
            "_view_count": null,
            "_view_module": "@jupyter-widgets/base",
            "_view_module_version": "1.2.0",
            "_view_name": "LayoutView",
            "align_content": null,
            "align_items": null,
            "align_self": null,
            "border": null,
            "bottom": null,
            "display": null,
            "flex": null,
            "flex_flow": null,
            "grid_area": null,
            "grid_auto_columns": null,
            "grid_auto_flow": null,
            "grid_auto_rows": null,
            "grid_column": null,
            "grid_gap": null,
            "grid_row": null,
            "grid_template_areas": null,
            "grid_template_columns": null,
            "grid_template_rows": null,
            "height": null,
            "justify_content": null,
            "justify_items": null,
            "left": null,
            "margin": null,
            "max_height": null,
            "max_width": null,
            "min_height": null,
            "min_width": null,
            "object_fit": null,
            "object_position": null,
            "order": null,
            "overflow": null,
            "overflow_x": null,
            "overflow_y": null,
            "padding": null,
            "right": null,
            "top": null,
            "visibility": null,
            "width": null
          }
        },
        "fed0ee11bad14cb0838b0f008a5977cc": {
          "model_module": "@jupyter-widgets/controls",
          "model_name": "DescriptionStyleModel",
          "model_module_version": "1.5.0",
          "state": {
            "_model_module": "@jupyter-widgets/controls",
            "_model_module_version": "1.5.0",
            "_model_name": "DescriptionStyleModel",
            "_view_count": null,
            "_view_module": "@jupyter-widgets/base",
            "_view_module_version": "1.2.0",
            "_view_name": "StyleView",
            "description_width": ""
          }
        },
        "2bffeb40281c46d8a7b28e7743f36793": {
          "model_module": "@jupyter-widgets/base",
          "model_name": "LayoutModel",
          "model_module_version": "1.2.0",
          "state": {
            "_model_module": "@jupyter-widgets/base",
            "_model_module_version": "1.2.0",
            "_model_name": "LayoutModel",
            "_view_count": null,
            "_view_module": "@jupyter-widgets/base",
            "_view_module_version": "1.2.0",
            "_view_name": "LayoutView",
            "align_content": null,
            "align_items": null,
            "align_self": null,
            "border": null,
            "bottom": null,
            "display": null,
            "flex": null,
            "flex_flow": null,
            "grid_area": null,
            "grid_auto_columns": null,
            "grid_auto_flow": null,
            "grid_auto_rows": null,
            "grid_column": null,
            "grid_gap": null,
            "grid_row": null,
            "grid_template_areas": null,
            "grid_template_columns": null,
            "grid_template_rows": null,
            "height": null,
            "justify_content": null,
            "justify_items": null,
            "left": null,
            "margin": null,
            "max_height": null,
            "max_width": null,
            "min_height": null,
            "min_width": null,
            "object_fit": null,
            "object_position": null,
            "order": null,
            "overflow": null,
            "overflow_x": null,
            "overflow_y": null,
            "padding": null,
            "right": null,
            "top": null,
            "visibility": null,
            "width": null
          }
        },
        "f212946073014b7fb326965def3c9a3a": {
          "model_module": "@jupyter-widgets/controls",
          "model_name": "ProgressStyleModel",
          "model_module_version": "1.5.0",
          "state": {
            "_model_module": "@jupyter-widgets/controls",
            "_model_module_version": "1.5.0",
            "_model_name": "ProgressStyleModel",
            "_view_count": null,
            "_view_module": "@jupyter-widgets/base",
            "_view_module_version": "1.2.0",
            "_view_name": "StyleView",
            "bar_color": null,
            "description_width": ""
          }
        },
        "4ad102e6086245e9a131dbad3f4e6dc0": {
          "model_module": "@jupyter-widgets/base",
          "model_name": "LayoutModel",
          "model_module_version": "1.2.0",
          "state": {
            "_model_module": "@jupyter-widgets/base",
            "_model_module_version": "1.2.0",
            "_model_name": "LayoutModel",
            "_view_count": null,
            "_view_module": "@jupyter-widgets/base",
            "_view_module_version": "1.2.0",
            "_view_name": "LayoutView",
            "align_content": null,
            "align_items": null,
            "align_self": null,
            "border": null,
            "bottom": null,
            "display": null,
            "flex": null,
            "flex_flow": null,
            "grid_area": null,
            "grid_auto_columns": null,
            "grid_auto_flow": null,
            "grid_auto_rows": null,
            "grid_column": null,
            "grid_gap": null,
            "grid_row": null,
            "grid_template_areas": null,
            "grid_template_columns": null,
            "grid_template_rows": null,
            "height": null,
            "justify_content": null,
            "justify_items": null,
            "left": null,
            "margin": null,
            "max_height": null,
            "max_width": null,
            "min_height": null,
            "min_width": null,
            "object_fit": null,
            "object_position": null,
            "order": null,
            "overflow": null,
            "overflow_x": null,
            "overflow_y": null,
            "padding": null,
            "right": null,
            "top": null,
            "visibility": null,
            "width": null
          }
        },
        "d8060f0c98484b8d90633df032058e47": {
          "model_module": "@jupyter-widgets/controls",
          "model_name": "DescriptionStyleModel",
          "model_module_version": "1.5.0",
          "state": {
            "_model_module": "@jupyter-widgets/controls",
            "_model_module_version": "1.5.0",
            "_model_name": "DescriptionStyleModel",
            "_view_count": null,
            "_view_module": "@jupyter-widgets/base",
            "_view_module_version": "1.2.0",
            "_view_name": "StyleView",
            "description_width": ""
          }
        },
        "589c001dfa5c42f7a8da4c342ebc98d7": {
          "model_module": "@jupyter-widgets/controls",
          "model_name": "HBoxModel",
          "model_module_version": "1.5.0",
          "state": {
            "_dom_classes": [],
            "_model_module": "@jupyter-widgets/controls",
            "_model_module_version": "1.5.0",
            "_model_name": "HBoxModel",
            "_view_count": null,
            "_view_module": "@jupyter-widgets/controls",
            "_view_module_version": "1.5.0",
            "_view_name": "HBoxView",
            "box_style": "",
            "children": [
              "IPY_MODEL_fbca3b8b5e8b4e649a433f661c537d85",
              "IPY_MODEL_15cc3ea81b6241f1bca36f6b92de0504",
              "IPY_MODEL_942b18cf7d5146c2988d3f1bab167ed8"
            ],
            "layout": "IPY_MODEL_4f7bdb69271d48358b4a6d7cfb1ac71a"
          }
        },
        "fbca3b8b5e8b4e649a433f661c537d85": {
          "model_module": "@jupyter-widgets/controls",
          "model_name": "HTMLModel",
          "model_module_version": "1.5.0",
          "state": {
            "_dom_classes": [],
            "_model_module": "@jupyter-widgets/controls",
            "_model_module_version": "1.5.0",
            "_model_name": "HTMLModel",
            "_view_count": null,
            "_view_module": "@jupyter-widgets/controls",
            "_view_module_version": "1.5.0",
            "_view_name": "HTMLView",
            "description": "",
            "description_tooltip": null,
            "layout": "IPY_MODEL_7991a7a9787f4913a82b33acb3e3f8da",
            "placeholder": "​",
            "style": "IPY_MODEL_f207bc77b64044848c6c4b1722a86a80",
            "value": "100%"
          }
        },
        "15cc3ea81b6241f1bca36f6b92de0504": {
          "model_module": "@jupyter-widgets/controls",
          "model_name": "FloatProgressModel",
          "model_module_version": "1.5.0",
          "state": {
            "_dom_classes": [],
            "_model_module": "@jupyter-widgets/controls",
            "_model_module_version": "1.5.0",
            "_model_name": "FloatProgressModel",
            "_view_count": null,
            "_view_module": "@jupyter-widgets/controls",
            "_view_module_version": "1.5.0",
            "_view_name": "ProgressView",
            "bar_style": "success",
            "description": "",
            "description_tooltip": null,
            "layout": "IPY_MODEL_a8d92eb67bbd4993969b698b457ab497",
            "max": 3,
            "min": 0,
            "orientation": "horizontal",
            "style": "IPY_MODEL_38f4db9079054dff9f92a38838127cda",
            "value": 3
          }
        },
        "942b18cf7d5146c2988d3f1bab167ed8": {
          "model_module": "@jupyter-widgets/controls",
          "model_name": "HTMLModel",
          "model_module_version": "1.5.0",
          "state": {
            "_dom_classes": [],
            "_model_module": "@jupyter-widgets/controls",
            "_model_module_version": "1.5.0",
            "_model_name": "HTMLModel",
            "_view_count": null,
            "_view_module": "@jupyter-widgets/controls",
            "_view_module_version": "1.5.0",
            "_view_name": "HTMLView",
            "description": "",
            "description_tooltip": null,
            "layout": "IPY_MODEL_beb873573de3426db6136e9da487f618",
            "placeholder": "​",
            "style": "IPY_MODEL_d35b527dcf1e4b9fbf8d4d0a60ff43ca",
            "value": " 3/3 [00:37&lt;00:00, 12.44s/it]"
          }
        },
        "4f7bdb69271d48358b4a6d7cfb1ac71a": {
          "model_module": "@jupyter-widgets/base",
          "model_name": "LayoutModel",
          "model_module_version": "1.2.0",
          "state": {
            "_model_module": "@jupyter-widgets/base",
            "_model_module_version": "1.2.0",
            "_model_name": "LayoutModel",
            "_view_count": null,
            "_view_module": "@jupyter-widgets/base",
            "_view_module_version": "1.2.0",
            "_view_name": "LayoutView",
            "align_content": null,
            "align_items": null,
            "align_self": null,
            "border": null,
            "bottom": null,
            "display": null,
            "flex": null,
            "flex_flow": null,
            "grid_area": null,
            "grid_auto_columns": null,
            "grid_auto_flow": null,
            "grid_auto_rows": null,
            "grid_column": null,
            "grid_gap": null,
            "grid_row": null,
            "grid_template_areas": null,
            "grid_template_columns": null,
            "grid_template_rows": null,
            "height": null,
            "justify_content": null,
            "justify_items": null,
            "left": null,
            "margin": null,
            "max_height": null,
            "max_width": null,
            "min_height": null,
            "min_width": null,
            "object_fit": null,
            "object_position": null,
            "order": null,
            "overflow": null,
            "overflow_x": null,
            "overflow_y": null,
            "padding": null,
            "right": null,
            "top": null,
            "visibility": null,
            "width": null
          }
        },
        "7991a7a9787f4913a82b33acb3e3f8da": {
          "model_module": "@jupyter-widgets/base",
          "model_name": "LayoutModel",
          "model_module_version": "1.2.0",
          "state": {
            "_model_module": "@jupyter-widgets/base",
            "_model_module_version": "1.2.0",
            "_model_name": "LayoutModel",
            "_view_count": null,
            "_view_module": "@jupyter-widgets/base",
            "_view_module_version": "1.2.0",
            "_view_name": "LayoutView",
            "align_content": null,
            "align_items": null,
            "align_self": null,
            "border": null,
            "bottom": null,
            "display": null,
            "flex": null,
            "flex_flow": null,
            "grid_area": null,
            "grid_auto_columns": null,
            "grid_auto_flow": null,
            "grid_auto_rows": null,
            "grid_column": null,
            "grid_gap": null,
            "grid_row": null,
            "grid_template_areas": null,
            "grid_template_columns": null,
            "grid_template_rows": null,
            "height": null,
            "justify_content": null,
            "justify_items": null,
            "left": null,
            "margin": null,
            "max_height": null,
            "max_width": null,
            "min_height": null,
            "min_width": null,
            "object_fit": null,
            "object_position": null,
            "order": null,
            "overflow": null,
            "overflow_x": null,
            "overflow_y": null,
            "padding": null,
            "right": null,
            "top": null,
            "visibility": null,
            "width": null
          }
        },
        "f207bc77b64044848c6c4b1722a86a80": {
          "model_module": "@jupyter-widgets/controls",
          "model_name": "DescriptionStyleModel",
          "model_module_version": "1.5.0",
          "state": {
            "_model_module": "@jupyter-widgets/controls",
            "_model_module_version": "1.5.0",
            "_model_name": "DescriptionStyleModel",
            "_view_count": null,
            "_view_module": "@jupyter-widgets/base",
            "_view_module_version": "1.2.0",
            "_view_name": "StyleView",
            "description_width": ""
          }
        },
        "a8d92eb67bbd4993969b698b457ab497": {
          "model_module": "@jupyter-widgets/base",
          "model_name": "LayoutModel",
          "model_module_version": "1.2.0",
          "state": {
            "_model_module": "@jupyter-widgets/base",
            "_model_module_version": "1.2.0",
            "_model_name": "LayoutModel",
            "_view_count": null,
            "_view_module": "@jupyter-widgets/base",
            "_view_module_version": "1.2.0",
            "_view_name": "LayoutView",
            "align_content": null,
            "align_items": null,
            "align_self": null,
            "border": null,
            "bottom": null,
            "display": null,
            "flex": null,
            "flex_flow": null,
            "grid_area": null,
            "grid_auto_columns": null,
            "grid_auto_flow": null,
            "grid_auto_rows": null,
            "grid_column": null,
            "grid_gap": null,
            "grid_row": null,
            "grid_template_areas": null,
            "grid_template_columns": null,
            "grid_template_rows": null,
            "height": null,
            "justify_content": null,
            "justify_items": null,
            "left": null,
            "margin": null,
            "max_height": null,
            "max_width": null,
            "min_height": null,
            "min_width": null,
            "object_fit": null,
            "object_position": null,
            "order": null,
            "overflow": null,
            "overflow_x": null,
            "overflow_y": null,
            "padding": null,
            "right": null,
            "top": null,
            "visibility": null,
            "width": null
          }
        },
        "38f4db9079054dff9f92a38838127cda": {
          "model_module": "@jupyter-widgets/controls",
          "model_name": "ProgressStyleModel",
          "model_module_version": "1.5.0",
          "state": {
            "_model_module": "@jupyter-widgets/controls",
            "_model_module_version": "1.5.0",
            "_model_name": "ProgressStyleModel",
            "_view_count": null,
            "_view_module": "@jupyter-widgets/base",
            "_view_module_version": "1.2.0",
            "_view_name": "StyleView",
            "bar_color": null,
            "description_width": ""
          }
        },
        "beb873573de3426db6136e9da487f618": {
          "model_module": "@jupyter-widgets/base",
          "model_name": "LayoutModel",
          "model_module_version": "1.2.0",
          "state": {
            "_model_module": "@jupyter-widgets/base",
            "_model_module_version": "1.2.0",
            "_model_name": "LayoutModel",
            "_view_count": null,
            "_view_module": "@jupyter-widgets/base",
            "_view_module_version": "1.2.0",
            "_view_name": "LayoutView",
            "align_content": null,
            "align_items": null,
            "align_self": null,
            "border": null,
            "bottom": null,
            "display": null,
            "flex": null,
            "flex_flow": null,
            "grid_area": null,
            "grid_auto_columns": null,
            "grid_auto_flow": null,
            "grid_auto_rows": null,
            "grid_column": null,
            "grid_gap": null,
            "grid_row": null,
            "grid_template_areas": null,
            "grid_template_columns": null,
            "grid_template_rows": null,
            "height": null,
            "justify_content": null,
            "justify_items": null,
            "left": null,
            "margin": null,
            "max_height": null,
            "max_width": null,
            "min_height": null,
            "min_width": null,
            "object_fit": null,
            "object_position": null,
            "order": null,
            "overflow": null,
            "overflow_x": null,
            "overflow_y": null,
            "padding": null,
            "right": null,
            "top": null,
            "visibility": null,
            "width": null
          }
        },
        "d35b527dcf1e4b9fbf8d4d0a60ff43ca": {
          "model_module": "@jupyter-widgets/controls",
          "model_name": "DescriptionStyleModel",
          "model_module_version": "1.5.0",
          "state": {
            "_model_module": "@jupyter-widgets/controls",
            "_model_module_version": "1.5.0",
            "_model_name": "DescriptionStyleModel",
            "_view_count": null,
            "_view_module": "@jupyter-widgets/base",
            "_view_module_version": "1.2.0",
            "_view_name": "StyleView",
            "description_width": ""
          }
        },
        "8bdc136dac0343048ba384284bb8ded7": {
          "model_module": "@jupyter-widgets/controls",
          "model_name": "HBoxModel",
          "model_module_version": "1.5.0",
          "state": {
            "_dom_classes": [],
            "_model_module": "@jupyter-widgets/controls",
            "_model_module_version": "1.5.0",
            "_model_name": "HBoxModel",
            "_view_count": null,
            "_view_module": "@jupyter-widgets/controls",
            "_view_module_version": "1.5.0",
            "_view_name": "HBoxView",
            "box_style": "",
            "children": [
              "IPY_MODEL_639ddd77601348ecbe4b5413f7ae7838",
              "IPY_MODEL_d73149a6efc5463ea08cc8a4bcf39b4d",
              "IPY_MODEL_7a8c770cf9144816aab4b1363233dc38"
            ],
            "layout": "IPY_MODEL_34b4a6f2639b42959f19210a98ffa2b7"
          }
        },
        "639ddd77601348ecbe4b5413f7ae7838": {
          "model_module": "@jupyter-widgets/controls",
          "model_name": "HTMLModel",
          "model_module_version": "1.5.0",
          "state": {
            "_dom_classes": [],
            "_model_module": "@jupyter-widgets/controls",
            "_model_module_version": "1.5.0",
            "_model_name": "HTMLModel",
            "_view_count": null,
            "_view_module": "@jupyter-widgets/controls",
            "_view_module_version": "1.5.0",
            "_view_name": "HTMLView",
            "description": "",
            "description_tooltip": null,
            "layout": "IPY_MODEL_043128e2ce5e47eda85223736b99a77a",
            "placeholder": "​",
            "style": "IPY_MODEL_82dc3fe5601c4d518480c141ac9a9961",
            "value": "100%"
          }
        },
        "d73149a6efc5463ea08cc8a4bcf39b4d": {
          "model_module": "@jupyter-widgets/controls",
          "model_name": "FloatProgressModel",
          "model_module_version": "1.5.0",
          "state": {
            "_dom_classes": [],
            "_model_module": "@jupyter-widgets/controls",
            "_model_module_version": "1.5.0",
            "_model_name": "FloatProgressModel",
            "_view_count": null,
            "_view_module": "@jupyter-widgets/controls",
            "_view_module_version": "1.5.0",
            "_view_name": "ProgressView",
            "bar_style": "success",
            "description": "",
            "description_tooltip": null,
            "layout": "IPY_MODEL_11a22dfb40214f8ea7f7045b7d5c764a",
            "max": 313,
            "min": 0,
            "orientation": "horizontal",
            "style": "IPY_MODEL_fa95a9695e5148c69c163992a70f7f33",
            "value": 313
          }
        },
        "7a8c770cf9144816aab4b1363233dc38": {
          "model_module": "@jupyter-widgets/controls",
          "model_name": "HTMLModel",
          "model_module_version": "1.5.0",
          "state": {
            "_dom_classes": [],
            "_model_module": "@jupyter-widgets/controls",
            "_model_module_version": "1.5.0",
            "_model_name": "HTMLModel",
            "_view_count": null,
            "_view_module": "@jupyter-widgets/controls",
            "_view_module_version": "1.5.0",
            "_view_name": "HTMLView",
            "description": "",
            "description_tooltip": null,
            "layout": "IPY_MODEL_7038d3eda9ac43178af10d13a825fb09",
            "placeholder": "​",
            "style": "IPY_MODEL_4e207966cd124c3684784e165f3fccfe",
            "value": " 313/313 [00:01&lt;00:00, 241.87it/s]"
          }
        },
        "34b4a6f2639b42959f19210a98ffa2b7": {
          "model_module": "@jupyter-widgets/base",
          "model_name": "LayoutModel",
          "model_module_version": "1.2.0",
          "state": {
            "_model_module": "@jupyter-widgets/base",
            "_model_module_version": "1.2.0",
            "_model_name": "LayoutModel",
            "_view_count": null,
            "_view_module": "@jupyter-widgets/base",
            "_view_module_version": "1.2.0",
            "_view_name": "LayoutView",
            "align_content": null,
            "align_items": null,
            "align_self": null,
            "border": null,
            "bottom": null,
            "display": null,
            "flex": null,
            "flex_flow": null,
            "grid_area": null,
            "grid_auto_columns": null,
            "grid_auto_flow": null,
            "grid_auto_rows": null,
            "grid_column": null,
            "grid_gap": null,
            "grid_row": null,
            "grid_template_areas": null,
            "grid_template_columns": null,
            "grid_template_rows": null,
            "height": null,
            "justify_content": null,
            "justify_items": null,
            "left": null,
            "margin": null,
            "max_height": null,
            "max_width": null,
            "min_height": null,
            "min_width": null,
            "object_fit": null,
            "object_position": null,
            "order": null,
            "overflow": null,
            "overflow_x": null,
            "overflow_y": null,
            "padding": null,
            "right": null,
            "top": null,
            "visibility": null,
            "width": null
          }
        },
        "043128e2ce5e47eda85223736b99a77a": {
          "model_module": "@jupyter-widgets/base",
          "model_name": "LayoutModel",
          "model_module_version": "1.2.0",
          "state": {
            "_model_module": "@jupyter-widgets/base",
            "_model_module_version": "1.2.0",
            "_model_name": "LayoutModel",
            "_view_count": null,
            "_view_module": "@jupyter-widgets/base",
            "_view_module_version": "1.2.0",
            "_view_name": "LayoutView",
            "align_content": null,
            "align_items": null,
            "align_self": null,
            "border": null,
            "bottom": null,
            "display": null,
            "flex": null,
            "flex_flow": null,
            "grid_area": null,
            "grid_auto_columns": null,
            "grid_auto_flow": null,
            "grid_auto_rows": null,
            "grid_column": null,
            "grid_gap": null,
            "grid_row": null,
            "grid_template_areas": null,
            "grid_template_columns": null,
            "grid_template_rows": null,
            "height": null,
            "justify_content": null,
            "justify_items": null,
            "left": null,
            "margin": null,
            "max_height": null,
            "max_width": null,
            "min_height": null,
            "min_width": null,
            "object_fit": null,
            "object_position": null,
            "order": null,
            "overflow": null,
            "overflow_x": null,
            "overflow_y": null,
            "padding": null,
            "right": null,
            "top": null,
            "visibility": null,
            "width": null
          }
        },
        "82dc3fe5601c4d518480c141ac9a9961": {
          "model_module": "@jupyter-widgets/controls",
          "model_name": "DescriptionStyleModel",
          "model_module_version": "1.5.0",
          "state": {
            "_model_module": "@jupyter-widgets/controls",
            "_model_module_version": "1.5.0",
            "_model_name": "DescriptionStyleModel",
            "_view_count": null,
            "_view_module": "@jupyter-widgets/base",
            "_view_module_version": "1.2.0",
            "_view_name": "StyleView",
            "description_width": ""
          }
        },
        "11a22dfb40214f8ea7f7045b7d5c764a": {
          "model_module": "@jupyter-widgets/base",
          "model_name": "LayoutModel",
          "model_module_version": "1.2.0",
          "state": {
            "_model_module": "@jupyter-widgets/base",
            "_model_module_version": "1.2.0",
            "_model_name": "LayoutModel",
            "_view_count": null,
            "_view_module": "@jupyter-widgets/base",
            "_view_module_version": "1.2.0",
            "_view_name": "LayoutView",
            "align_content": null,
            "align_items": null,
            "align_self": null,
            "border": null,
            "bottom": null,
            "display": null,
            "flex": null,
            "flex_flow": null,
            "grid_area": null,
            "grid_auto_columns": null,
            "grid_auto_flow": null,
            "grid_auto_rows": null,
            "grid_column": null,
            "grid_gap": null,
            "grid_row": null,
            "grid_template_areas": null,
            "grid_template_columns": null,
            "grid_template_rows": null,
            "height": null,
            "justify_content": null,
            "justify_items": null,
            "left": null,
            "margin": null,
            "max_height": null,
            "max_width": null,
            "min_height": null,
            "min_width": null,
            "object_fit": null,
            "object_position": null,
            "order": null,
            "overflow": null,
            "overflow_x": null,
            "overflow_y": null,
            "padding": null,
            "right": null,
            "top": null,
            "visibility": null,
            "width": null
          }
        },
        "fa95a9695e5148c69c163992a70f7f33": {
          "model_module": "@jupyter-widgets/controls",
          "model_name": "ProgressStyleModel",
          "model_module_version": "1.5.0",
          "state": {
            "_model_module": "@jupyter-widgets/controls",
            "_model_module_version": "1.5.0",
            "_model_name": "ProgressStyleModel",
            "_view_count": null,
            "_view_module": "@jupyter-widgets/base",
            "_view_module_version": "1.2.0",
            "_view_name": "StyleView",
            "bar_color": null,
            "description_width": ""
          }
        },
        "7038d3eda9ac43178af10d13a825fb09": {
          "model_module": "@jupyter-widgets/base",
          "model_name": "LayoutModel",
          "model_module_version": "1.2.0",
          "state": {
            "_model_module": "@jupyter-widgets/base",
            "_model_module_version": "1.2.0",
            "_model_name": "LayoutModel",
            "_view_count": null,
            "_view_module": "@jupyter-widgets/base",
            "_view_module_version": "1.2.0",
            "_view_name": "LayoutView",
            "align_content": null,
            "align_items": null,
            "align_self": null,
            "border": null,
            "bottom": null,
            "display": null,
            "flex": null,
            "flex_flow": null,
            "grid_area": null,
            "grid_auto_columns": null,
            "grid_auto_flow": null,
            "grid_auto_rows": null,
            "grid_column": null,
            "grid_gap": null,
            "grid_row": null,
            "grid_template_areas": null,
            "grid_template_columns": null,
            "grid_template_rows": null,
            "height": null,
            "justify_content": null,
            "justify_items": null,
            "left": null,
            "margin": null,
            "max_height": null,
            "max_width": null,
            "min_height": null,
            "min_width": null,
            "object_fit": null,
            "object_position": null,
            "order": null,
            "overflow": null,
            "overflow_x": null,
            "overflow_y": null,
            "padding": null,
            "right": null,
            "top": null,
            "visibility": null,
            "width": null
          }
        },
        "4e207966cd124c3684784e165f3fccfe": {
          "model_module": "@jupyter-widgets/controls",
          "model_name": "DescriptionStyleModel",
          "model_module_version": "1.5.0",
          "state": {
            "_model_module": "@jupyter-widgets/controls",
            "_model_module_version": "1.5.0",
            "_model_name": "DescriptionStyleModel",
            "_view_count": null,
            "_view_module": "@jupyter-widgets/base",
            "_view_module_version": "1.2.0",
            "_view_name": "StyleView",
            "description_width": ""
          }
        },
        "1f1f466c14684fa19c065bafc04d17c5": {
          "model_module": "@jupyter-widgets/controls",
          "model_name": "HBoxModel",
          "model_module_version": "1.5.0",
          "state": {
            "_dom_classes": [],
            "_model_module": "@jupyter-widgets/controls",
            "_model_module_version": "1.5.0",
            "_model_name": "HBoxModel",
            "_view_count": null,
            "_view_module": "@jupyter-widgets/controls",
            "_view_module_version": "1.5.0",
            "_view_name": "HBoxView",
            "box_style": "",
            "children": [
              "IPY_MODEL_005775a92aae4764bede99acd07ee32b",
              "IPY_MODEL_b942da9618d94a10b262498de0b1b62c",
              "IPY_MODEL_39c30fc2ecad427f850b66b591f56945"
            ],
            "layout": "IPY_MODEL_5ff2e90a3300428c91a68696f4e9fadd"
          }
        },
        "005775a92aae4764bede99acd07ee32b": {
          "model_module": "@jupyter-widgets/controls",
          "model_name": "HTMLModel",
          "model_module_version": "1.5.0",
          "state": {
            "_dom_classes": [],
            "_model_module": "@jupyter-widgets/controls",
            "_model_module_version": "1.5.0",
            "_model_name": "HTMLModel",
            "_view_count": null,
            "_view_module": "@jupyter-widgets/controls",
            "_view_module_version": "1.5.0",
            "_view_name": "HTMLView",
            "description": "",
            "description_tooltip": null,
            "layout": "IPY_MODEL_27866cd5e3be4846b3783b549956bf75",
            "placeholder": "​",
            "style": "IPY_MODEL_5c185781d495429a9e61b65c2eba0f04",
            "value": "Making predictions...: 100%"
          }
        },
        "b942da9618d94a10b262498de0b1b62c": {
          "model_module": "@jupyter-widgets/controls",
          "model_name": "FloatProgressModel",
          "model_module_version": "1.5.0",
          "state": {
            "_dom_classes": [],
            "_model_module": "@jupyter-widgets/controls",
            "_model_module_version": "1.5.0",
            "_model_name": "FloatProgressModel",
            "_view_count": null,
            "_view_module": "@jupyter-widgets/controls",
            "_view_module_version": "1.5.0",
            "_view_name": "ProgressView",
            "bar_style": "success",
            "description": "",
            "description_tooltip": null,
            "layout": "IPY_MODEL_0551a1ab245d4bf2bdf702eddcff2326",
            "max": 313,
            "min": 0,
            "orientation": "horizontal",
            "style": "IPY_MODEL_3f9037250ff949ad99fabf6e9c9e5096",
            "value": 313
          }
        },
        "39c30fc2ecad427f850b66b591f56945": {
          "model_module": "@jupyter-widgets/controls",
          "model_name": "HTMLModel",
          "model_module_version": "1.5.0",
          "state": {
            "_dom_classes": [],
            "_model_module": "@jupyter-widgets/controls",
            "_model_module_version": "1.5.0",
            "_model_name": "HTMLModel",
            "_view_count": null,
            "_view_module": "@jupyter-widgets/controls",
            "_view_module_version": "1.5.0",
            "_view_name": "HTMLView",
            "description": "",
            "description_tooltip": null,
            "layout": "IPY_MODEL_155a9443710d4a7688afa3ebc7e60dc4",
            "placeholder": "​",
            "style": "IPY_MODEL_161b90ce2d424ee3830e77bcbac84802",
            "value": " 313/313 [00:01&lt;00:00, 190.48it/s]"
          }
        },
        "5ff2e90a3300428c91a68696f4e9fadd": {
          "model_module": "@jupyter-widgets/base",
          "model_name": "LayoutModel",
          "model_module_version": "1.2.0",
          "state": {
            "_model_module": "@jupyter-widgets/base",
            "_model_module_version": "1.2.0",
            "_model_name": "LayoutModel",
            "_view_count": null,
            "_view_module": "@jupyter-widgets/base",
            "_view_module_version": "1.2.0",
            "_view_name": "LayoutView",
            "align_content": null,
            "align_items": null,
            "align_self": null,
            "border": null,
            "bottom": null,
            "display": null,
            "flex": null,
            "flex_flow": null,
            "grid_area": null,
            "grid_auto_columns": null,
            "grid_auto_flow": null,
            "grid_auto_rows": null,
            "grid_column": null,
            "grid_gap": null,
            "grid_row": null,
            "grid_template_areas": null,
            "grid_template_columns": null,
            "grid_template_rows": null,
            "height": null,
            "justify_content": null,
            "justify_items": null,
            "left": null,
            "margin": null,
            "max_height": null,
            "max_width": null,
            "min_height": null,
            "min_width": null,
            "object_fit": null,
            "object_position": null,
            "order": null,
            "overflow": null,
            "overflow_x": null,
            "overflow_y": null,
            "padding": null,
            "right": null,
            "top": null,
            "visibility": null,
            "width": null
          }
        },
        "27866cd5e3be4846b3783b549956bf75": {
          "model_module": "@jupyter-widgets/base",
          "model_name": "LayoutModel",
          "model_module_version": "1.2.0",
          "state": {
            "_model_module": "@jupyter-widgets/base",
            "_model_module_version": "1.2.0",
            "_model_name": "LayoutModel",
            "_view_count": null,
            "_view_module": "@jupyter-widgets/base",
            "_view_module_version": "1.2.0",
            "_view_name": "LayoutView",
            "align_content": null,
            "align_items": null,
            "align_self": null,
            "border": null,
            "bottom": null,
            "display": null,
            "flex": null,
            "flex_flow": null,
            "grid_area": null,
            "grid_auto_columns": null,
            "grid_auto_flow": null,
            "grid_auto_rows": null,
            "grid_column": null,
            "grid_gap": null,
            "grid_row": null,
            "grid_template_areas": null,
            "grid_template_columns": null,
            "grid_template_rows": null,
            "height": null,
            "justify_content": null,
            "justify_items": null,
            "left": null,
            "margin": null,
            "max_height": null,
            "max_width": null,
            "min_height": null,
            "min_width": null,
            "object_fit": null,
            "object_position": null,
            "order": null,
            "overflow": null,
            "overflow_x": null,
            "overflow_y": null,
            "padding": null,
            "right": null,
            "top": null,
            "visibility": null,
            "width": null
          }
        },
        "5c185781d495429a9e61b65c2eba0f04": {
          "model_module": "@jupyter-widgets/controls",
          "model_name": "DescriptionStyleModel",
          "model_module_version": "1.5.0",
          "state": {
            "_model_module": "@jupyter-widgets/controls",
            "_model_module_version": "1.5.0",
            "_model_name": "DescriptionStyleModel",
            "_view_count": null,
            "_view_module": "@jupyter-widgets/base",
            "_view_module_version": "1.2.0",
            "_view_name": "StyleView",
            "description_width": ""
          }
        },
        "0551a1ab245d4bf2bdf702eddcff2326": {
          "model_module": "@jupyter-widgets/base",
          "model_name": "LayoutModel",
          "model_module_version": "1.2.0",
          "state": {
            "_model_module": "@jupyter-widgets/base",
            "_model_module_version": "1.2.0",
            "_model_name": "LayoutModel",
            "_view_count": null,
            "_view_module": "@jupyter-widgets/base",
            "_view_module_version": "1.2.0",
            "_view_name": "LayoutView",
            "align_content": null,
            "align_items": null,
            "align_self": null,
            "border": null,
            "bottom": null,
            "display": null,
            "flex": null,
            "flex_flow": null,
            "grid_area": null,
            "grid_auto_columns": null,
            "grid_auto_flow": null,
            "grid_auto_rows": null,
            "grid_column": null,
            "grid_gap": null,
            "grid_row": null,
            "grid_template_areas": null,
            "grid_template_columns": null,
            "grid_template_rows": null,
            "height": null,
            "justify_content": null,
            "justify_items": null,
            "left": null,
            "margin": null,
            "max_height": null,
            "max_width": null,
            "min_height": null,
            "min_width": null,
            "object_fit": null,
            "object_position": null,
            "order": null,
            "overflow": null,
            "overflow_x": null,
            "overflow_y": null,
            "padding": null,
            "right": null,
            "top": null,
            "visibility": null,
            "width": null
          }
        },
        "3f9037250ff949ad99fabf6e9c9e5096": {
          "model_module": "@jupyter-widgets/controls",
          "model_name": "ProgressStyleModel",
          "model_module_version": "1.5.0",
          "state": {
            "_model_module": "@jupyter-widgets/controls",
            "_model_module_version": "1.5.0",
            "_model_name": "ProgressStyleModel",
            "_view_count": null,
            "_view_module": "@jupyter-widgets/base",
            "_view_module_version": "1.2.0",
            "_view_name": "StyleView",
            "bar_color": null,
            "description_width": ""
          }
        },
        "155a9443710d4a7688afa3ebc7e60dc4": {
          "model_module": "@jupyter-widgets/base",
          "model_name": "LayoutModel",
          "model_module_version": "1.2.0",
          "state": {
            "_model_module": "@jupyter-widgets/base",
            "_model_module_version": "1.2.0",
            "_model_name": "LayoutModel",
            "_view_count": null,
            "_view_module": "@jupyter-widgets/base",
            "_view_module_version": "1.2.0",
            "_view_name": "LayoutView",
            "align_content": null,
            "align_items": null,
            "align_self": null,
            "border": null,
            "bottom": null,
            "display": null,
            "flex": null,
            "flex_flow": null,
            "grid_area": null,
            "grid_auto_columns": null,
            "grid_auto_flow": null,
            "grid_auto_rows": null,
            "grid_column": null,
            "grid_gap": null,
            "grid_row": null,
            "grid_template_areas": null,
            "grid_template_columns": null,
            "grid_template_rows": null,
            "height": null,
            "justify_content": null,
            "justify_items": null,
            "left": null,
            "margin": null,
            "max_height": null,
            "max_width": null,
            "min_height": null,
            "min_width": null,
            "object_fit": null,
            "object_position": null,
            "order": null,
            "overflow": null,
            "overflow_x": null,
            "overflow_y": null,
            "padding": null,
            "right": null,
            "top": null,
            "visibility": null,
            "width": null
          }
        },
        "161b90ce2d424ee3830e77bcbac84802": {
          "model_module": "@jupyter-widgets/controls",
          "model_name": "DescriptionStyleModel",
          "model_module_version": "1.5.0",
          "state": {
            "_model_module": "@jupyter-widgets/controls",
            "_model_module_version": "1.5.0",
            "_model_name": "DescriptionStyleModel",
            "_view_count": null,
            "_view_module": "@jupyter-widgets/base",
            "_view_module_version": "1.2.0",
            "_view_name": "StyleView",
            "description_width": ""
          }
        }
      }
    },
    "accelerator": "GPU"
  },
  "cells": [
    {
      "cell_type": "markdown",
      "metadata": {
        "id": "view-in-github",
        "colab_type": "text"
      },
      "source": [
        "<a href=\"https://colab.research.google.com/github/Cyborgkong/pytorch-crashcourse-for-beginners/blob/main/03_pytorch_computer_vision.ipynb\" target=\"_parent\"><img src=\"https://colab.research.google.com/assets/colab-badge.svg\" alt=\"Open In Colab\"/></a>"
      ]
    },
    {
      "cell_type": "markdown",
      "source": [
        "# PyTorch Computer Vision"
      ],
      "metadata": {
        "id": "ow_JC5DbS14E"
      }
    },
    {
      "cell_type": "markdown",
      "source": [
        "## 0. Computer vision libraries in PyTorch\n",
        "\n",
        "* `torchvision` - base domain library for PyTorch computer vision\n",
        "* `torchvision.datasets` - get datasets and data loading functions for computer vision here\n",
        "* `torchvision.models` - get pretrained computer vision models that we can leverage for our problems\n",
        "* `torchvision.transform` - functions for manipulating your vision data (images) to be suitable for use with an ML model\n",
        "* `torch.utils.data.Dataset` - Base dataset class for PyTorch.\n",
        "* `torch.utils.data.DataLoader` - Creates a Python iterable over a dataset"
      ],
      "metadata": {
        "id": "l-rGF4afTUsb"
      }
    },
    {
      "cell_type": "code",
      "source": [
        "# Import PyTorch\n",
        "import torch\n",
        "from torch import nn\n",
        "\n",
        "# Import torchvision\n",
        "import torchvision\n",
        "from torchvision import datasets\n",
        "from torchvision import transforms\n",
        "from torchvision.transforms import ToTensor\n",
        "\n",
        "# Import matplotlib for visualization\n",
        "import matplotlib.pyplot as plt\n",
        "\n",
        "# Check versions\n",
        "print(torch.__version__)\n",
        "print(torchvision.__version__)"
      ],
      "metadata": {
        "colab": {
          "base_uri": "https://localhost:8080/"
        },
        "id": "Ept-RO7qVhCP",
        "outputId": "1a0d7abe-0614-4aef-c081-ee2d18eef3b4"
      },
      "execution_count": 1,
      "outputs": [
        {
          "output_type": "stream",
          "name": "stdout",
          "text": [
            "2.6.0+cu124\n",
            "0.21.0+cu124\n"
          ]
        }
      ]
    },
    {
      "cell_type": "markdown",
      "source": [
        "## 1. Getting a dataset\n",
        "\n",
        "The dataset we'll be using is FashionMNIST from torchvision.dataset"
      ],
      "metadata": {
        "id": "B3XmAB4xpp-L"
      }
    },
    {
      "cell_type": "code",
      "source": [
        "# Setup training data\n",
        "train_data = datasets.FashionMNIST(\n",
        "    root=\"data\", # Where to download data to\n",
        "    train=True, # Do we want the training dataset\n",
        "    download=True, # Do we want to download\n",
        "    transform=torchvision.transforms.ToTensor(), # How do we want to transform the data?\n",
        "    target_transform=None # How do we want to transform the labels/targets?\n",
        ")\n",
        "\n",
        "test_data = datasets.FashionMNIST(\n",
        "    root=\"data\",\n",
        "    train=False,\n",
        "    download=True,\n",
        "    transform=torchvision.transforms.ToTensor(),\n",
        "    target_transform=None\n",
        ")"
      ],
      "metadata": {
        "id": "zw6w-wkWppzU",
        "colab": {
          "base_uri": "https://localhost:8080/"
        },
        "outputId": "86db0c62-a790-44f3-c861-7bd1fcd00ef6"
      },
      "execution_count": 2,
      "outputs": [
        {
          "output_type": "stream",
          "name": "stderr",
          "text": [
            "100%|██████████| 26.4M/26.4M [00:00<00:00, 113MB/s]\n",
            "100%|██████████| 29.5k/29.5k [00:00<00:00, 3.35MB/s]\n",
            "100%|██████████| 4.42M/4.42M [00:00<00:00, 61.7MB/s]\n",
            "100%|██████████| 5.15k/5.15k [00:00<00:00, 20.4MB/s]\n"
          ]
        }
      ]
    },
    {
      "cell_type": "code",
      "source": [
        "len(train_data), len(test_data)"
      ],
      "metadata": {
        "id": "1W9UcUXar7qY",
        "colab": {
          "base_uri": "https://localhost:8080/"
        },
        "outputId": "20422fa2-d790-4c71-e51c-4b214c40a9cf"
      },
      "execution_count": 3,
      "outputs": [
        {
          "output_type": "execute_result",
          "data": {
            "text/plain": [
              "(60000, 10000)"
            ]
          },
          "metadata": {},
          "execution_count": 3
        }
      ]
    },
    {
      "cell_type": "code",
      "source": [
        "# See first training example\n",
        "image, label = train_data[0]\n",
        "image, label"
      ],
      "metadata": {
        "id": "QbEWwBIhppnE",
        "colab": {
          "base_uri": "https://localhost:8080/"
        },
        "outputId": "5b5bedba-b871-44dd-c157-7fcb4e5c02ce"
      },
      "execution_count": 4,
      "outputs": [
        {
          "output_type": "execute_result",
          "data": {
            "text/plain": [
              "(tensor([[[0.0000, 0.0000, 0.0000, 0.0000, 0.0000, 0.0000, 0.0000, 0.0000,\n",
              "           0.0000, 0.0000, 0.0000, 0.0000, 0.0000, 0.0000, 0.0000, 0.0000,\n",
              "           0.0000, 0.0000, 0.0000, 0.0000, 0.0000, 0.0000, 0.0000, 0.0000,\n",
              "           0.0000, 0.0000, 0.0000, 0.0000],\n",
              "          [0.0000, 0.0000, 0.0000, 0.0000, 0.0000, 0.0000, 0.0000, 0.0000,\n",
              "           0.0000, 0.0000, 0.0000, 0.0000, 0.0000, 0.0000, 0.0000, 0.0000,\n",
              "           0.0000, 0.0000, 0.0000, 0.0000, 0.0000, 0.0000, 0.0000, 0.0000,\n",
              "           0.0000, 0.0000, 0.0000, 0.0000],\n",
              "          [0.0000, 0.0000, 0.0000, 0.0000, 0.0000, 0.0000, 0.0000, 0.0000,\n",
              "           0.0000, 0.0000, 0.0000, 0.0000, 0.0000, 0.0000, 0.0000, 0.0000,\n",
              "           0.0000, 0.0000, 0.0000, 0.0000, 0.0000, 0.0000, 0.0000, 0.0000,\n",
              "           0.0000, 0.0000, 0.0000, 0.0000],\n",
              "          [0.0000, 0.0000, 0.0000, 0.0000, 0.0000, 0.0000, 0.0000, 0.0000,\n",
              "           0.0000, 0.0000, 0.0000, 0.0000, 0.0039, 0.0000, 0.0000, 0.0510,\n",
              "           0.2863, 0.0000, 0.0000, 0.0039, 0.0157, 0.0000, 0.0000, 0.0000,\n",
              "           0.0000, 0.0039, 0.0039, 0.0000],\n",
              "          [0.0000, 0.0000, 0.0000, 0.0000, 0.0000, 0.0000, 0.0000, 0.0000,\n",
              "           0.0000, 0.0000, 0.0000, 0.0000, 0.0118, 0.0000, 0.1412, 0.5333,\n",
              "           0.4980, 0.2431, 0.2118, 0.0000, 0.0000, 0.0000, 0.0039, 0.0118,\n",
              "           0.0157, 0.0000, 0.0000, 0.0118],\n",
              "          [0.0000, 0.0000, 0.0000, 0.0000, 0.0000, 0.0000, 0.0000, 0.0000,\n",
              "           0.0000, 0.0000, 0.0000, 0.0000, 0.0235, 0.0000, 0.4000, 0.8000,\n",
              "           0.6902, 0.5255, 0.5647, 0.4824, 0.0902, 0.0000, 0.0000, 0.0000,\n",
              "           0.0000, 0.0471, 0.0392, 0.0000],\n",
              "          [0.0000, 0.0000, 0.0000, 0.0000, 0.0000, 0.0000, 0.0000, 0.0000,\n",
              "           0.0000, 0.0000, 0.0000, 0.0000, 0.0000, 0.0000, 0.6078, 0.9255,\n",
              "           0.8118, 0.6980, 0.4196, 0.6118, 0.6314, 0.4275, 0.2510, 0.0902,\n",
              "           0.3020, 0.5098, 0.2824, 0.0588],\n",
              "          [0.0000, 0.0000, 0.0000, 0.0000, 0.0000, 0.0000, 0.0000, 0.0000,\n",
              "           0.0000, 0.0000, 0.0000, 0.0039, 0.0000, 0.2706, 0.8118, 0.8745,\n",
              "           0.8549, 0.8471, 0.8471, 0.6392, 0.4980, 0.4745, 0.4784, 0.5725,\n",
              "           0.5529, 0.3451, 0.6745, 0.2588],\n",
              "          [0.0000, 0.0000, 0.0000, 0.0000, 0.0000, 0.0000, 0.0000, 0.0000,\n",
              "           0.0000, 0.0039, 0.0039, 0.0039, 0.0000, 0.7843, 0.9098, 0.9098,\n",
              "           0.9137, 0.8980, 0.8745, 0.8745, 0.8431, 0.8353, 0.6431, 0.4980,\n",
              "           0.4824, 0.7686, 0.8980, 0.0000],\n",
              "          [0.0000, 0.0000, 0.0000, 0.0000, 0.0000, 0.0000, 0.0000, 0.0000,\n",
              "           0.0000, 0.0000, 0.0000, 0.0000, 0.0000, 0.7176, 0.8824, 0.8471,\n",
              "           0.8745, 0.8941, 0.9216, 0.8902, 0.8784, 0.8706, 0.8784, 0.8667,\n",
              "           0.8745, 0.9608, 0.6784, 0.0000],\n",
              "          [0.0000, 0.0000, 0.0000, 0.0000, 0.0000, 0.0000, 0.0000, 0.0000,\n",
              "           0.0000, 0.0000, 0.0000, 0.0000, 0.0000, 0.7569, 0.8941, 0.8549,\n",
              "           0.8353, 0.7765, 0.7059, 0.8314, 0.8235, 0.8275, 0.8353, 0.8745,\n",
              "           0.8627, 0.9529, 0.7922, 0.0000],\n",
              "          [0.0000, 0.0000, 0.0000, 0.0000, 0.0000, 0.0000, 0.0000, 0.0000,\n",
              "           0.0000, 0.0039, 0.0118, 0.0000, 0.0471, 0.8588, 0.8627, 0.8314,\n",
              "           0.8549, 0.7529, 0.6627, 0.8902, 0.8157, 0.8549, 0.8784, 0.8314,\n",
              "           0.8863, 0.7725, 0.8196, 0.2039],\n",
              "          [0.0000, 0.0000, 0.0000, 0.0000, 0.0000, 0.0000, 0.0000, 0.0000,\n",
              "           0.0000, 0.0000, 0.0235, 0.0000, 0.3882, 0.9569, 0.8706, 0.8627,\n",
              "           0.8549, 0.7961, 0.7765, 0.8667, 0.8431, 0.8353, 0.8706, 0.8627,\n",
              "           0.9608, 0.4667, 0.6549, 0.2196],\n",
              "          [0.0000, 0.0000, 0.0000, 0.0000, 0.0000, 0.0000, 0.0000, 0.0000,\n",
              "           0.0000, 0.0157, 0.0000, 0.0000, 0.2157, 0.9255, 0.8941, 0.9020,\n",
              "           0.8941, 0.9412, 0.9098, 0.8353, 0.8549, 0.8745, 0.9176, 0.8510,\n",
              "           0.8510, 0.8196, 0.3608, 0.0000],\n",
              "          [0.0000, 0.0000, 0.0039, 0.0157, 0.0235, 0.0275, 0.0078, 0.0000,\n",
              "           0.0000, 0.0000, 0.0000, 0.0000, 0.9294, 0.8863, 0.8510, 0.8745,\n",
              "           0.8706, 0.8588, 0.8706, 0.8667, 0.8471, 0.8745, 0.8980, 0.8431,\n",
              "           0.8549, 1.0000, 0.3020, 0.0000],\n",
              "          [0.0000, 0.0118, 0.0000, 0.0000, 0.0000, 0.0000, 0.0000, 0.0000,\n",
              "           0.0000, 0.2431, 0.5686, 0.8000, 0.8941, 0.8118, 0.8353, 0.8667,\n",
              "           0.8549, 0.8157, 0.8275, 0.8549, 0.8784, 0.8745, 0.8588, 0.8431,\n",
              "           0.8784, 0.9569, 0.6235, 0.0000],\n",
              "          [0.0000, 0.0000, 0.0000, 0.0000, 0.0706, 0.1725, 0.3216, 0.4196,\n",
              "           0.7412, 0.8941, 0.8627, 0.8706, 0.8510, 0.8863, 0.7843, 0.8039,\n",
              "           0.8275, 0.9020, 0.8784, 0.9176, 0.6902, 0.7373, 0.9804, 0.9725,\n",
              "           0.9137, 0.9333, 0.8431, 0.0000],\n",
              "          [0.0000, 0.2235, 0.7333, 0.8157, 0.8784, 0.8667, 0.8784, 0.8157,\n",
              "           0.8000, 0.8392, 0.8157, 0.8196, 0.7843, 0.6235, 0.9608, 0.7569,\n",
              "           0.8078, 0.8745, 1.0000, 1.0000, 0.8667, 0.9176, 0.8667, 0.8275,\n",
              "           0.8627, 0.9098, 0.9647, 0.0000],\n",
              "          [0.0118, 0.7922, 0.8941, 0.8784, 0.8667, 0.8275, 0.8275, 0.8392,\n",
              "           0.8039, 0.8039, 0.8039, 0.8627, 0.9412, 0.3137, 0.5882, 1.0000,\n",
              "           0.8980, 0.8667, 0.7373, 0.6039, 0.7490, 0.8235, 0.8000, 0.8196,\n",
              "           0.8706, 0.8941, 0.8824, 0.0000],\n",
              "          [0.3843, 0.9137, 0.7765, 0.8235, 0.8706, 0.8980, 0.8980, 0.9176,\n",
              "           0.9765, 0.8627, 0.7608, 0.8431, 0.8510, 0.9451, 0.2549, 0.2863,\n",
              "           0.4157, 0.4588, 0.6588, 0.8588, 0.8667, 0.8431, 0.8510, 0.8745,\n",
              "           0.8745, 0.8784, 0.8980, 0.1137],\n",
              "          [0.2941, 0.8000, 0.8314, 0.8000, 0.7569, 0.8039, 0.8275, 0.8824,\n",
              "           0.8471, 0.7255, 0.7725, 0.8078, 0.7765, 0.8353, 0.9412, 0.7647,\n",
              "           0.8902, 0.9608, 0.9373, 0.8745, 0.8549, 0.8314, 0.8196, 0.8706,\n",
              "           0.8627, 0.8667, 0.9020, 0.2627],\n",
              "          [0.1882, 0.7961, 0.7176, 0.7608, 0.8353, 0.7725, 0.7255, 0.7451,\n",
              "           0.7608, 0.7529, 0.7922, 0.8392, 0.8588, 0.8667, 0.8627, 0.9255,\n",
              "           0.8824, 0.8471, 0.7804, 0.8078, 0.7294, 0.7098, 0.6941, 0.6745,\n",
              "           0.7098, 0.8039, 0.8078, 0.4510],\n",
              "          [0.0000, 0.4784, 0.8588, 0.7569, 0.7020, 0.6706, 0.7176, 0.7686,\n",
              "           0.8000, 0.8235, 0.8353, 0.8118, 0.8275, 0.8235, 0.7843, 0.7686,\n",
              "           0.7608, 0.7490, 0.7647, 0.7490, 0.7765, 0.7529, 0.6902, 0.6118,\n",
              "           0.6549, 0.6941, 0.8235, 0.3608],\n",
              "          [0.0000, 0.0000, 0.2902, 0.7412, 0.8314, 0.7490, 0.6863, 0.6745,\n",
              "           0.6863, 0.7098, 0.7255, 0.7373, 0.7412, 0.7373, 0.7569, 0.7765,\n",
              "           0.8000, 0.8196, 0.8235, 0.8235, 0.8275, 0.7373, 0.7373, 0.7608,\n",
              "           0.7529, 0.8471, 0.6667, 0.0000],\n",
              "          [0.0078, 0.0000, 0.0000, 0.0000, 0.2588, 0.7843, 0.8706, 0.9294,\n",
              "           0.9373, 0.9490, 0.9647, 0.9529, 0.9569, 0.8667, 0.8627, 0.7569,\n",
              "           0.7490, 0.7020, 0.7137, 0.7137, 0.7098, 0.6902, 0.6510, 0.6588,\n",
              "           0.3882, 0.2275, 0.0000, 0.0000],\n",
              "          [0.0000, 0.0000, 0.0000, 0.0000, 0.0000, 0.0000, 0.0000, 0.1569,\n",
              "           0.2392, 0.1725, 0.2824, 0.1608, 0.1373, 0.0000, 0.0000, 0.0000,\n",
              "           0.0000, 0.0000, 0.0000, 0.0000, 0.0000, 0.0000, 0.0000, 0.0000,\n",
              "           0.0000, 0.0000, 0.0000, 0.0000],\n",
              "          [0.0000, 0.0000, 0.0000, 0.0000, 0.0000, 0.0000, 0.0000, 0.0000,\n",
              "           0.0000, 0.0000, 0.0000, 0.0000, 0.0000, 0.0000, 0.0000, 0.0000,\n",
              "           0.0000, 0.0000, 0.0000, 0.0000, 0.0000, 0.0000, 0.0000, 0.0000,\n",
              "           0.0000, 0.0000, 0.0000, 0.0000],\n",
              "          [0.0000, 0.0000, 0.0000, 0.0000, 0.0000, 0.0000, 0.0000, 0.0000,\n",
              "           0.0000, 0.0000, 0.0000, 0.0000, 0.0000, 0.0000, 0.0000, 0.0000,\n",
              "           0.0000, 0.0000, 0.0000, 0.0000, 0.0000, 0.0000, 0.0000, 0.0000,\n",
              "           0.0000, 0.0000, 0.0000, 0.0000]]]),\n",
              " 9)"
            ]
          },
          "metadata": {},
          "execution_count": 4
        }
      ]
    },
    {
      "cell_type": "code",
      "source": [
        "class_names = train_data.classes\n",
        "class_names"
      ],
      "metadata": {
        "colab": {
          "base_uri": "https://localhost:8080/"
        },
        "id": "a4KsvtUrSEHi",
        "outputId": "0b810e3a-108b-488f-e941-34681c42f434"
      },
      "execution_count": 5,
      "outputs": [
        {
          "output_type": "execute_result",
          "data": {
            "text/plain": [
              "['T-shirt/top',\n",
              " 'Trouser',\n",
              " 'Pullover',\n",
              " 'Dress',\n",
              " 'Coat',\n",
              " 'Sandal',\n",
              " 'Shirt',\n",
              " 'Sneaker',\n",
              " 'Bag',\n",
              " 'Ankle boot']"
            ]
          },
          "metadata": {},
          "execution_count": 5
        }
      ]
    },
    {
      "cell_type": "code",
      "source": [
        "class_to_idx = train_data.class_to_idx\n",
        "class_to_idx"
      ],
      "metadata": {
        "colab": {
          "base_uri": "https://localhost:8080/"
        },
        "id": "mk5h2bLaSEDb",
        "outputId": "7ca566be-3be2-4aca-9e4a-6178463b85be"
      },
      "execution_count": 6,
      "outputs": [
        {
          "output_type": "execute_result",
          "data": {
            "text/plain": [
              "{'T-shirt/top': 0,\n",
              " 'Trouser': 1,\n",
              " 'Pullover': 2,\n",
              " 'Dress': 3,\n",
              " 'Coat': 4,\n",
              " 'Sandal': 5,\n",
              " 'Shirt': 6,\n",
              " 'Sneaker': 7,\n",
              " 'Bag': 8,\n",
              " 'Ankle boot': 9}"
            ]
          },
          "metadata": {},
          "execution_count": 6
        }
      ]
    },
    {
      "cell_type": "markdown",
      "source": [
        "# Check the shape of our image"
      ],
      "metadata": {
        "id": "OfFGzH-ca_Tx"
      }
    },
    {
      "cell_type": "code",
      "source": [
        "print(f\"Image shape: {image.shape} -> [color_channels, height, width]\")\n",
        "print(f\"Image label: {class_names[label]}\")"
      ],
      "metadata": {
        "id": "RknWIukKppcb",
        "colab": {
          "base_uri": "https://localhost:8080/"
        },
        "outputId": "41a9368c-4a2a-4bf5-f5a9-5d2972a1446f"
      },
      "execution_count": 7,
      "outputs": [
        {
          "output_type": "stream",
          "name": "stdout",
          "text": [
            "Image shape: torch.Size([1, 28, 28]) -> [color_channels, height, width]\n",
            "Image label: Ankle boot\n"
          ]
        }
      ]
    },
    {
      "cell_type": "markdown",
      "source": [
        "### 1.2 Visualizing our data"
      ],
      "metadata": {
        "id": "yf_8nRkQppIC"
      }
    },
    {
      "cell_type": "code",
      "source": [
        "import matplotlib.pyplot as plt\n",
        "image, label = train_data[0]\n",
        "print(f\"Image shape: {image.shape}\")\n",
        "plt.imshow(image.squeeze())\n",
        "plt.title(label)"
      ],
      "metadata": {
        "id": "d81kiDOUpo1V",
        "colab": {
          "base_uri": "https://localhost:8080/",
          "height": 487
        },
        "outputId": "7f82b1bc-a541-4390-f5d4-472fa6781a18"
      },
      "execution_count": 8,
      "outputs": [
        {
          "output_type": "stream",
          "name": "stdout",
          "text": [
            "Image shape: torch.Size([1, 28, 28])\n"
          ]
        },
        {
          "output_type": "execute_result",
          "data": {
            "text/plain": [
              "Text(0.5, 1.0, '9')"
            ]
          },
          "metadata": {},
          "execution_count": 8
        },
        {
          "output_type": "display_data",
          "data": {
            "text/plain": [
              "<Figure size 640x480 with 1 Axes>"
            ],
            "image/png": "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\n"
          },
          "metadata": {}
        }
      ]
    },
    {
      "cell_type": "code",
      "source": [
        "plt.imshow(image.squeeze(), cmap=\"gray\")\n",
        "plt.title(class_names[label])\n",
        "plt.axis(False)"
      ],
      "metadata": {
        "colab": {
          "base_uri": "https://localhost:8080/",
          "height": 445
        },
        "id": "GSPKXBxESC4H",
        "outputId": "28b4b1ee-e16c-40dd-9186-fb617a1232e6"
      },
      "execution_count": 9,
      "outputs": [
        {
          "output_type": "execute_result",
          "data": {
            "text/plain": [
              "(np.float64(-0.5), np.float64(27.5), np.float64(27.5), np.float64(-0.5))"
            ]
          },
          "metadata": {},
          "execution_count": 9
        },
        {
          "output_type": "display_data",
          "data": {
            "text/plain": [
              "<Figure size 640x480 with 1 Axes>"
            ],
            "image/png": "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\n"
          },
          "metadata": {}
        }
      ]
    },
    {
      "cell_type": "code",
      "source": [
        "# Plot more images\n",
        "torch.manual_seed\n",
        "fig = plt.figure(figsize=(9, 9))\n",
        "rows, cols = 4, 4\n",
        "for i in range(1, rows * cols + 1):\n",
        "  random_idx = torch.randint(0, len(train_data), size=[1]).item()\n",
        "  img, label = train_data[random_idx]\n",
        "  fig.add_subplot(rows, cols, i)\n",
        "  plt.imshow(img.squeeze(), cmap=\"gray\")\n",
        "  plt.title(class_names[label])\n",
        "  plt.axis(False)"
      ],
      "metadata": {
        "colab": {
          "base_uri": "https://localhost:8080/",
          "height": 752
        },
        "id": "jb9NF0ZfSCxi",
        "outputId": "c6178762-dd13-4423-9413-846b08c997b3"
      },
      "execution_count": 10,
      "outputs": [
        {
          "output_type": "display_data",
          "data": {
            "text/plain": [
              "<Figure size 900x900 with 16 Axes>"
            ],
            "image/png": "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\n"
          },
          "metadata": {}
        }
      ]
    },
    {
      "cell_type": "markdown",
      "source": [
        "Do you think these items of clothing (images) could be modelled with pure linear lines? Or do you think we'll need non-linearity?"
      ],
      "metadata": {
        "id": "urvP7d9ESCs4"
      }
    },
    {
      "cell_type": "code",
      "source": [
        "train_data, test_data"
      ],
      "metadata": {
        "colab": {
          "base_uri": "https://localhost:8080/"
        },
        "id": "bQYhF-hdiBLa",
        "outputId": "c5ebea42-8ccf-4543-8b23-ed4b194db8c6"
      },
      "execution_count": 11,
      "outputs": [
        {
          "output_type": "execute_result",
          "data": {
            "text/plain": [
              "(Dataset FashionMNIST\n",
              "     Number of datapoints: 60000\n",
              "     Root location: data\n",
              "     Split: Train\n",
              "     StandardTransform\n",
              " Transform: ToTensor(),\n",
              " Dataset FashionMNIST\n",
              "     Number of datapoints: 10000\n",
              "     Root location: data\n",
              "     Split: Test\n",
              "     StandardTransform\n",
              " Transform: ToTensor())"
            ]
          },
          "metadata": {},
          "execution_count": 11
        }
      ]
    },
    {
      "cell_type": "markdown",
      "source": [
        "## 2. Prepare DataLoader\n",
        "\n",
        "Right now our data is in the form of PyTorch datasets.\n",
        "\n",
        "DataLoader turcs our database into a Python iterable.\n",
        "\n",
        "More specifically, we want to turn our data into batches (or mini-batches).\n",
        "\n",
        "Why would we do this?\n",
        "\n",
        "1. It is more computationally efficient, as in, your computer hardware may not be able to look (store in memory) at 60000 images in one hit. So we break it down to 32 images at a time (batch size of 32).\n",
        "2. It gives our neural network more chances to update its gradients per epoch."
      ],
      "metadata": {
        "id": "XbsZ6Cv-huna"
      }
    },
    {
      "cell_type": "code",
      "source": [
        "from torch.utils.data import DataLoader\n",
        "\n",
        "# Setup the batch size hyperparameter\n",
        "BATCH_SIZE = 32\n",
        "\n",
        "# Turn datasets into iterables (batches)\n",
        "train_dataloader = DataLoader(dataset=train_data,\n",
        "                          batch_size=BATCH_SIZE,\n",
        "                          shuffle=True)\n",
        "\n",
        "test_dataloader = DataLoader(dataset=test_data,\n",
        "                         batch_size=BATCH_SIZE,\n",
        "                         shuffle=False)\n",
        "\n",
        "train_dataloader, test_dataloader"
      ],
      "metadata": {
        "colab": {
          "base_uri": "https://localhost:8080/"
        },
        "id": "5QqMwlFFZFqN",
        "outputId": "1e662395-8eda-4e46-b2f3-27cc0de5e36a"
      },
      "execution_count": 12,
      "outputs": [
        {
          "output_type": "execute_result",
          "data": {
            "text/plain": [
              "(<torch.utils.data.dataloader.DataLoader at 0x7a4b07311350>,\n",
              " <torch.utils.data.dataloader.DataLoader at 0x7a4b0733a610>)"
            ]
          },
          "metadata": {},
          "execution_count": 12
        }
      ]
    },
    {
      "cell_type": "code",
      "source": [
        "# Let's check out what we've created\n",
        "print(f\"Dataloaders: {train_dataloader, train_dataloader}\")\n",
        "print(f\"Length of train_dataloader: {len(train_dataloader)} batches of {BATCH_SIZE}\")\n",
        "print(f\"Length of test_dataloader: {len(test_dataloader)} batches of {BATCH_SIZE}\")"
      ],
      "metadata": {
        "colab": {
          "base_uri": "https://localhost:8080/"
        },
        "id": "DCuTpazcZFlG",
        "outputId": "5c44ee08-dbb1-481e-8f12-a203f9485ba7"
      },
      "execution_count": 13,
      "outputs": [
        {
          "output_type": "stream",
          "name": "stdout",
          "text": [
            "Dataloaders: (<torch.utils.data.dataloader.DataLoader object at 0x7a4b07311350>, <torch.utils.data.dataloader.DataLoader object at 0x7a4b07311350>)\n",
            "Length of train_dataloader: 1875 batches of 32\n",
            "Length of test_dataloader: 313 batches of 32\n"
          ]
        }
      ]
    },
    {
      "cell_type": "code",
      "source": [
        "# Check out what's inside the training dataloader\n",
        "train_features_batch, train_labels_batch = next(iter(train_dataloader))\n",
        "train_features_batch.shape, train_labels_batch.shape"
      ],
      "metadata": {
        "colab": {
          "base_uri": "https://localhost:8080/"
        },
        "id": "G8fDPKFnTtxb",
        "outputId": "caed127e-f57e-46f6-aa12-5a294f914049"
      },
      "execution_count": 14,
      "outputs": [
        {
          "output_type": "execute_result",
          "data": {
            "text/plain": [
              "(torch.Size([32, 1, 28, 28]), torch.Size([32]))"
            ]
          },
          "metadata": {},
          "execution_count": 14
        }
      ]
    },
    {
      "cell_type": "code",
      "source": [
        "# Show a sample\n",
        "#torch.manual_seed(42)\n",
        "random_idx = torch.randint(0, len(train_features_batch), size=[1]).item()\n",
        "img, label = train_features_batch[random_idx], train_labels_batch[random_idx]\n",
        "plt.imshow(img.squeeze(), cmap=\"gray\")\n",
        "plt.title(class_names[label])\n",
        "plt.axis(False)\n",
        "print(f\"Image size: {img.shape}\")\n",
        "print(f\"Label: {label}, label size: {label.shape}\")"
      ],
      "metadata": {
        "colab": {
          "base_uri": "https://localhost:8080/",
          "height": 463
        },
        "id": "tGcaNecRZFgy",
        "outputId": "6c7f9321-cd39-4f08-8fd4-e903727d2b90"
      },
      "execution_count": 15,
      "outputs": [
        {
          "output_type": "stream",
          "name": "stdout",
          "text": [
            "Image size: torch.Size([1, 28, 28])\n",
            "Label: 3, label size: torch.Size([])\n"
          ]
        },
        {
          "output_type": "display_data",
          "data": {
            "text/plain": [
              "<Figure size 640x480 with 1 Axes>"
            ],
            "image/png": "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\n"
          },
          "metadata": {}
        }
      ]
    },
    {
      "cell_type": "markdown",
      "source": [
        "## 3. Model 0: Build a baseline model\n",
        "\n",
        "when starting to build a series of machine learning modelling experiments, it's best to start with a baseline model.\n",
        "\n",
        "A baseline model is a simple model you will try and improve upon with subsequent models/experiments.\n",
        "\n",
        "In other words: start simply and add complexity when necessary."
      ],
      "metadata": {
        "id": "qhyztJowZD-c"
      }
    },
    {
      "cell_type": "code",
      "source": [
        "# Creating a  flatten layer\n",
        "flatten_model = nn.Flatten()\n",
        "\n",
        "# Get a single sample\n",
        "x = train_features_batch[0]\n",
        "\n",
        "# Flatten the sample\n",
        "output = flatten_model(x) # perform forward pass\n",
        "\n",
        "# Print out what happened\n",
        "print(f\"Shape before flattening: {x.shape} -> [color_channels, height, width]\")\n",
        "print(f\"Shape after flattening: {output.shape} -> [color_channels, height*width]\")"
      ],
      "metadata": {
        "colab": {
          "base_uri": "https://localhost:8080/"
        },
        "id": "k0TfNf62ZD7e",
        "outputId": "be5e2f18-9f4e-4169-a0b5-ce35dd67afc0"
      },
      "execution_count": 16,
      "outputs": [
        {
          "output_type": "stream",
          "name": "stdout",
          "text": [
            "Shape before flattening: torch.Size([1, 28, 28]) -> [color_channels, height, width]\n",
            "Shape after flattening: torch.Size([1, 784]) -> [color_channels, height*width]\n"
          ]
        }
      ]
    },
    {
      "cell_type": "code",
      "source": [
        "from torch import nn\n",
        "class FashionMNISTModelV0(nn.Module):\n",
        "  def __init__(self,\n",
        "               input_shape: int,\n",
        "               hidden_units: int,\n",
        "               output_shape: int):\n",
        "    super().__init__()\n",
        "    self.layer_stack = nn.Sequential(\n",
        "        nn.Flatten(),\n",
        "        nn.Linear(in_features=input_shape,\n",
        "                  out_features=hidden_units),\n",
        "        nn.Linear(in_features=hidden_units,\n",
        "                  out_features=output_shape,)\n",
        "    )\n",
        "  def forward(self, x):\n",
        "    return self.layer_stack(x)"
      ],
      "metadata": {
        "id": "8WTMHpPCZD1x"
      },
      "execution_count": 17,
      "outputs": []
    },
    {
      "cell_type": "code",
      "source": [
        "torch.manual_seed(42)\n",
        "\n",
        "# Setup model with input parameters\n",
        "model_0 = FashionMNISTModelV0(\n",
        "    input_shape=784, # this is 28*28\n",
        "    hidden_units=10, # how many units in the hidden layer\n",
        "    output_shape=len(class_names) # one for every class\n",
        ").to(\"cpu\")\n",
        "model_0"
      ],
      "metadata": {
        "colab": {
          "base_uri": "https://localhost:8080/"
        },
        "id": "lcpOGO_-ZDQe",
        "outputId": "804102ae-0b3b-42e6-c147-c0aea2467048"
      },
      "execution_count": 18,
      "outputs": [
        {
          "output_type": "execute_result",
          "data": {
            "text/plain": [
              "FashionMNISTModelV0(\n",
              "  (layer_stack): Sequential(\n",
              "    (0): Flatten(start_dim=1, end_dim=-1)\n",
              "    (1): Linear(in_features=784, out_features=10, bias=True)\n",
              "    (2): Linear(in_features=10, out_features=10, bias=True)\n",
              "  )\n",
              ")"
            ]
          },
          "metadata": {},
          "execution_count": 18
        }
      ]
    },
    {
      "cell_type": "code",
      "source": [
        "dummy_x = torch.rand([1, 1, 28, 28])\n",
        "model_0(dummy_x)"
      ],
      "metadata": {
        "colab": {
          "base_uri": "https://localhost:8080/"
        },
        "id": "_bE-TCf-huYk",
        "outputId": "3d205d9b-4b12-4f37-ee66-5c608f33cbfb"
      },
      "execution_count": 19,
      "outputs": [
        {
          "output_type": "execute_result",
          "data": {
            "text/plain": [
              "tensor([[-0.0315,  0.3171,  0.0531, -0.2525,  0.5959,  0.2112,  0.3233,  0.2694,\n",
              "         -0.1004,  0.0157]], grad_fn=<AddmmBackward0>)"
            ]
          },
          "metadata": {},
          "execution_count": 19
        }
      ]
    },
    {
      "cell_type": "code",
      "source": [
        "model_0.state_dict()"
      ],
      "metadata": {
        "colab": {
          "base_uri": "https://localhost:8080/"
        },
        "id": "pncVySTMdOYt",
        "outputId": "95efd898-6347-4969-96b9-4c2b75d60617"
      },
      "execution_count": 20,
      "outputs": [
        {
          "output_type": "execute_result",
          "data": {
            "text/plain": [
              "OrderedDict([('layer_stack.1.weight',\n",
              "              tensor([[ 0.0273,  0.0296, -0.0084,  ..., -0.0142,  0.0093,  0.0135],\n",
              "                      [-0.0188, -0.0354,  0.0187,  ..., -0.0106, -0.0001,  0.0115],\n",
              "                      [-0.0008,  0.0017,  0.0045,  ..., -0.0127, -0.0188,  0.0059],\n",
              "                      ...,\n",
              "                      [-0.0116,  0.0273, -0.0344,  ...,  0.0176,  0.0283, -0.0011],\n",
              "                      [-0.0230,  0.0257,  0.0291,  ..., -0.0187, -0.0087,  0.0001],\n",
              "                      [ 0.0176, -0.0147,  0.0053,  ..., -0.0336, -0.0221,  0.0205]])),\n",
              "             ('layer_stack.1.bias',\n",
              "              tensor([-0.0093,  0.0283, -0.0033,  0.0255,  0.0017,  0.0037, -0.0302, -0.0123,\n",
              "                       0.0018,  0.0163])),\n",
              "             ('layer_stack.2.weight',\n",
              "              tensor([[ 0.0614, -0.0687,  0.0021,  0.2718,  0.2109,  0.1079, -0.2279, -0.1063,\n",
              "                        0.2019,  0.2847],\n",
              "                      [-0.1495,  0.1344, -0.0740,  0.2006, -0.0475, -0.2514, -0.3130, -0.0118,\n",
              "                        0.0932, -0.1864],\n",
              "                      [ 0.2488,  0.1500,  0.1907,  0.1457, -0.3050, -0.0580,  0.1643,  0.1565,\n",
              "                       -0.2877, -0.1792],\n",
              "                      [ 0.2305, -0.2618,  0.2397, -0.0610,  0.0232,  0.1542,  0.0851, -0.2027,\n",
              "                        0.1030, -0.2715],\n",
              "                      [-0.1596, -0.0555, -0.0633,  0.2302, -0.1726,  0.2654,  0.1473,  0.1029,\n",
              "                        0.2252, -0.2160],\n",
              "                      [-0.2725,  0.0118,  0.1559,  0.1596,  0.0132,  0.3024,  0.1124,  0.1366,\n",
              "                       -0.1533,  0.0965],\n",
              "                      [-0.1184, -0.2555, -0.2057, -0.1909, -0.0477, -0.1324,  0.2905,  0.1307,\n",
              "                       -0.2629,  0.0133],\n",
              "                      [ 0.2727, -0.0127,  0.0513,  0.0863, -0.1043, -0.2047, -0.1185, -0.0825,\n",
              "                        0.2488, -0.2571],\n",
              "                      [ 0.0425, -0.1209, -0.0336, -0.0281, -0.1227,  0.0730,  0.0747, -0.1816,\n",
              "                        0.1943,  0.2853],\n",
              "                      [-0.1310,  0.0645, -0.1171,  0.2168, -0.0245, -0.2820,  0.0736,  0.2621,\n",
              "                        0.0012, -0.0810]])),\n",
              "             ('layer_stack.2.bias',\n",
              "              tensor([-0.0087,  0.1791,  0.2712, -0.0791,  0.1685,  0.1762,  0.2825,  0.2266,\n",
              "                      -0.2612, -0.2613]))])"
            ]
          },
          "metadata": {},
          "execution_count": 20
        }
      ]
    },
    {
      "cell_type": "markdown",
      "source": [
        "### 3.1 Setup loss, optimizer and evaluation metrics\n",
        "\n",
        "* Loss funtion - since we're working  with multi-class data, our loss function will be `nn.CrossEntropyLoss()`\n",
        "* Optimizer - our optimizer `torch.optim.SGD()` (Stochastic Gradient Descent)\n",
        "* Evalution metric - since we are working on a classification problem, let's use accuracy as our evalution metric"
      ],
      "metadata": {
        "id": "jAHh80F_dOSZ"
      }
    },
    {
      "cell_type": "code",
      "source": [
        "import requests\n",
        "from pathlib import Path\n",
        "\n",
        "# Download helper functions from Learn PyTorch repo\n",
        "if Path(\"helper_functions.py\").is_file():\n",
        "  print(\"helper_functions.py already exists, skipping download\")\n",
        "else:\n",
        "  print(\"Downloading helper_functions.py\")\n",
        "  request = requests.get(\"https://raw.githubusercontent.com/mrdbourke/pytorch-deep-learning/main/helper_functions.py\")\n",
        "  with open(\"helper_functions.py\", \"wb\") as f:\n",
        "    f.write(request.content)"
      ],
      "metadata": {
        "colab": {
          "base_uri": "https://localhost:8080/"
        },
        "id": "eqCTsLaZdOND",
        "outputId": "7c706793-d554-460f-ef73-c27511425c28"
      },
      "execution_count": 21,
      "outputs": [
        {
          "output_type": "stream",
          "name": "stdout",
          "text": [
            "Downloading helper_functions.py\n"
          ]
        }
      ]
    },
    {
      "cell_type": "code",
      "source": [
        "# Import accuracy metric\n",
        "from helper_functions import accuracy_fn\n",
        "\n",
        "# Setup loss function and optimizer\n",
        "loss_fn = nn.CrossEntropyLoss()\n",
        "optimizer = torch.optim.SGD(params=model_0.parameters(),\n",
        "                            lr=0.01)"
      ],
      "metadata": {
        "id": "Fa-7jCfwdNuW"
      },
      "execution_count": 22,
      "outputs": []
    },
    {
      "cell_type": "markdown",
      "source": [
        "### Creating a function to time our experiments\n",
        "\n",
        "Machine leaning is very experimental.\n",
        "\n",
        "Two of the main things you'll often want to track are:\n",
        "1. Model's performance (loss and accuracy values etc)\n",
        "2. How fast it runs"
      ],
      "metadata": {
        "id": "3nmAfdAXjPLb"
      }
    },
    {
      "cell_type": "code",
      "source": [
        "from timeit import default_timer as timer\n",
        "def print_train_time(start: float,\n",
        "                     end: float,\n",
        "                     device: torch.device = None):\n",
        "  \"\"\"Prints difference between start and end time.\"\"\"\n",
        "  total_time = end - start\n",
        "  print(f\"Train time on {device}: {total_time:.3f} seconds\")\n",
        "  return total_time"
      ],
      "metadata": {
        "id": "mfqyNphwdNk6"
      },
      "execution_count": 23,
      "outputs": []
    },
    {
      "cell_type": "code",
      "source": [
        "start_time = timer()\n",
        "# some code...\n",
        "end_time = timer()\n",
        "print_train_time(start=start_time,\n",
        "                 end=end_time,\n",
        "                 device=\"cpu\")"
      ],
      "metadata": {
        "colab": {
          "base_uri": "https://localhost:8080/"
        },
        "id": "wvKekAkFdNev",
        "outputId": "130c14d5-ad8e-42e0-8c5c-9d1e974646f9"
      },
      "execution_count": 24,
      "outputs": [
        {
          "output_type": "stream",
          "name": "stdout",
          "text": [
            "Train time on cpu: 0.000 seconds\n"
          ]
        },
        {
          "output_type": "execute_result",
          "data": {
            "text/plain": [
              "2.485299999932522e-05"
            ]
          },
          "metadata": {},
          "execution_count": 24
        }
      ]
    },
    {
      "cell_type": "markdown",
      "source": [
        "### 3.3 Creating a training loop and training a model on batches of data\n",
        "\n",
        "1. Loop through epochs.\n",
        "2. Loop through training batches, perform training steps, calculate the training loss *per batch*.\n",
        "3. Loop through testing batches, perform testing steps, calculate the test loss *per batch*.\n",
        "4. Print out what's happening.\n",
        "5. Time it all (for fun)."
      ],
      "metadata": {
        "id": "k2weuUdAEd3Q"
      }
    },
    {
      "cell_type": "code",
      "source": [
        "# Import tqdm for progress bar\n",
        "from tqdm.auto import tqdm\n",
        "\n",
        "# Set the seed and start the timer\n",
        "torch.manual_seed(42)\n",
        "train_time_start_on_cpu = timer()\n",
        "\n",
        "# Set the number of epochs (we'll keep this small for faster time)\n",
        "epochs = 3\n",
        "\n",
        "# Create training and test loop\n",
        "for epoch in tqdm(range(epochs)):\n",
        "  print(f\"Epoch: {epochs}\\n------\")\n",
        "  ### Training\n",
        "  train_loss = 0\n",
        "  # Add a loop to loop through the training batches\n",
        "  for batch, (X, y) in enumerate(train_dataloader):\n",
        "    model_0.train()\n",
        "    # 1. Forward pass\n",
        "    y_pred = model_0(X)\n",
        "\n",
        "    # 2. Calculate loss (per batch)\n",
        "    loss = loss_fn(y_pred, y)\n",
        "    train_loss += loss # accumulate train loss\n",
        "\n",
        "    # 3. Optimizer zero grad\n",
        "    optimizer.zero_grad()\n",
        "\n",
        "    # 4. Loss backward\n",
        "    loss.backward()\n",
        "\n",
        "    # 5. Optimizer step\n",
        "    optimizer.step()\n",
        "\n",
        "    # Print out what's happening\n",
        "    if batch % 400 == 0:\n",
        "      print(f\"Looked at {batch * len(X)}/{len(train_dataloader.dataset)} samples.\")\n",
        "  # Divide total train loss by length of train dataloader\n",
        "  train_loss /= len(train_dataloader)\n",
        "\n",
        "  ### Testing\n",
        "  test_loss, test_acc = 0, 0\n",
        "  model_0.eval()\n",
        "  with torch.inference_mode():\n",
        "    for X_test, y_test in test_dataloader:\n",
        "      # 1. Forward pass (prediction)\n",
        "      test_pred = model_0(X_test)\n",
        "\n",
        "      # 2. Calculate loss (accumulatively)\n",
        "      test_loss += loss_fn(test_pred, y_test)\n",
        "\n",
        "      # 3. Calculate accuracy (accumulatively)\n",
        "      test_acc += accuracy_fn(y_true=y_test,\n",
        "                               y_pred=test_pred.argmax(dim=1))\n",
        "\n",
        "    # Calculate the test loss average per batch\n",
        "    test_loss /= len(test_dataloader)\n",
        "\n",
        "    # Calculate the test accuracy average per batch\n",
        "    test_acc /= len(test_dataloader)\n",
        "\n",
        "  # Print out what's happening\n",
        "  print(f\"\\nTrain loss: {train_loss:.4f} | Test loss: {test_loss:.4f}, Test acc: {test_acc:.4f}\")\n",
        "\n",
        "# Calculate the training time\n",
        "train_time_end_on_cpu = timer()\n",
        "total_train_time_model_0 = print_train_time(start=train_time_start_on_cpu,\n",
        "                                            end=train_time_end_on_cpu,\n",
        "                                            device=str(next(model_0.parameters()).device))"
      ],
      "metadata": {
        "colab": {
          "base_uri": "https://localhost:8080/",
          "height": 535,
          "referenced_widgets": [
            "a382faf2e8ff455e810ef9cf6823be3d",
            "f99e1871574145509288e3b79f5f318c",
            "23f9e548ce9d42ec8f4e1f6d238de8b5",
            "47210c9d24e940b0b692a3cfdbfe9817",
            "d5c2e1dabcfa41cbb0be25ec0394f7ee",
            "2cf81db951d248f181d1fad3f0b69cdf",
            "e8864c7ebcf44abb8bfe44ecf5a5db16",
            "69b0439d011a4ed9b68a2f2fc8a24140",
            "8e1c67aa0d264704bbc19960e4964ff7",
            "91372b505ec14f9986eefee8a1539c32",
            "38b40f7d54d04267a209a16c2951c172"
          ]
        },
        "id": "GAKTlEmcEdzB",
        "outputId": "03480ea7-b79a-44d7-abff-6af8a0f5b5b2"
      },
      "execution_count": 25,
      "outputs": [
        {
          "output_type": "display_data",
          "data": {
            "text/plain": [
              "  0%|          | 0/3 [00:00<?, ?it/s]"
            ],
            "application/vnd.jupyter.widget-view+json": {
              "version_major": 2,
              "version_minor": 0,
              "model_id": "a382faf2e8ff455e810ef9cf6823be3d"
            }
          },
          "metadata": {}
        },
        {
          "output_type": "stream",
          "name": "stdout",
          "text": [
            "Epoch: 3\n",
            "------\n",
            "Looked at 0/60000 samples.\n",
            "Looked at 12800/60000 samples.\n",
            "Looked at 25600/60000 samples.\n",
            "Looked at 38400/60000 samples.\n",
            "Looked at 51200/60000 samples.\n",
            "\n",
            "Train loss: 0.9096 | Test loss: 0.6290, Test acc: 78.6342\n",
            "Epoch: 3\n",
            "------\n",
            "Looked at 0/60000 samples.\n",
            "Looked at 12800/60000 samples.\n",
            "Looked at 25600/60000 samples.\n",
            "Looked at 38400/60000 samples.\n",
            "Looked at 51200/60000 samples.\n",
            "\n",
            "Train loss: 0.5573 | Test loss: 0.5441, Test acc: 81.1302\n",
            "Epoch: 3\n",
            "------\n",
            "Looked at 0/60000 samples.\n",
            "Looked at 12800/60000 samples.\n",
            "Looked at 25600/60000 samples.\n",
            "Looked at 38400/60000 samples.\n",
            "Looked at 51200/60000 samples.\n",
            "\n",
            "Train loss: 0.5027 | Test loss: 0.5137, Test acc: 81.9988\n",
            "Train time on cpu: 28.664 seconds\n"
          ]
        }
      ]
    },
    {
      "cell_type": "markdown",
      "source": [
        "### 4. Make predictions and get Model 0 results"
      ],
      "metadata": {
        "id": "_v_z2-7sLvcW"
      }
    },
    {
      "cell_type": "code",
      "source": [
        "torch.manual_seed(42)\n",
        "def eval_model(model: torch.nn.Module,\n",
        "               data_loader: torch.utils.data.DataLoader,\n",
        "               loss_fn: torch.nn.Module,\n",
        "               accuracy_fn):\n",
        "  '''Returns a dictionary containing the results of model predicting on data_loader.'''\n",
        "  loss, acc = 0, 0\n",
        "  model.eval()\n",
        "  with torch.inference_mode():\n",
        "    for X, y in tqdm(data_loader):\n",
        "      # Make predictions\n",
        "      y_pred = model(X)\n",
        "\n",
        "      # Accumulate the loss and acc values per batch\n",
        "      loss += loss_fn(y_pred, y)\n",
        "      acc += accuracy_fn(y_true=y,\n",
        "                         y_pred=y_pred.argmax(dim=1))\n",
        "\n",
        "    # Scale loss and acc to find the average loss/acc per batch\n",
        "    loss /= len(data_loader)\n",
        "    acc /= len(data_loader)\n",
        "\n",
        "  return {\"model_name\": model.__class__.__name__, # Only works when model was created with a class\n",
        "          \"model_loss\": loss.item(),\n",
        "          \"model_acc\": acc}\n",
        "\n",
        "# Calculate model 0 results on the test dataset\n",
        "model_0_results = eval_model(model=model_0,\n",
        "                             data_loader=test_dataloader,\n",
        "                             loss_fn=loss_fn,\n",
        "                             accuracy_fn=accuracy_fn)\n",
        "model_0_results"
      ],
      "metadata": {
        "id": "29m7QZOMKr70",
        "colab": {
          "base_uri": "https://localhost:8080/",
          "height": 101,
          "referenced_widgets": [
            "cade333bd2b045f1bb6a84f29d466ba3",
            "74fcdca9160843e19eeacf4043b67b6c",
            "ff887cd0a0ed48129762fe7d086235f2",
            "5eb3817b128c4766a424a0208dd90390",
            "43b5b7356d6d4726b5dcec23f47d006d",
            "5d297169b5d64e65af21d7f0d506e05b",
            "77170b048c2d456ebf2c4f84de55cb5c",
            "37c3de59020346838552380bde9a6018",
            "e81832ff2e48491eaae05c6952ad3613",
            "914d71590a67430ea2cf26a0933276ab",
            "e71054eed62c446ea7f07421db83050e"
          ]
        },
        "outputId": "6d4a4000-e96c-4328-9bb4-e1d5eb24c3b4"
      },
      "execution_count": 26,
      "outputs": [
        {
          "output_type": "display_data",
          "data": {
            "text/plain": [
              "  0%|          | 0/313 [00:00<?, ?it/s]"
            ],
            "application/vnd.jupyter.widget-view+json": {
              "version_major": 2,
              "version_minor": 0,
              "model_id": "cade333bd2b045f1bb6a84f29d466ba3"
            }
          },
          "metadata": {}
        },
        {
          "output_type": "execute_result",
          "data": {
            "text/plain": [
              "{'model_name': 'FashionMNISTModelV0',\n",
              " 'model_loss': 0.5136752128601074,\n",
              " 'model_acc': 81.9988019169329}"
            ]
          },
          "metadata": {},
          "execution_count": 26
        }
      ]
    },
    {
      "cell_type": "markdown",
      "source": [
        "## 5. Setup device agnostic-code (for using a GPU if there is one)"
      ],
      "metadata": {
        "id": "sAnp0YxthuPl"
      }
    },
    {
      "cell_type": "code",
      "source": [
        "# Setup device-agnostic code\n",
        "import torch\n",
        "device = \"cuda\" if torch.cuda.is_available() else \"cpu\"\n",
        "device"
      ],
      "metadata": {
        "id": "bnlLUyvNhuLp",
        "colab": {
          "base_uri": "https://localhost:8080/",
          "height": 35
        },
        "outputId": "0157b5c5-d130-4521-908e-f5c8b0f605a6"
      },
      "execution_count": 27,
      "outputs": [
        {
          "output_type": "execute_result",
          "data": {
            "text/plain": [
              "'cuda'"
            ],
            "application/vnd.google.colaboratory.intrinsic+json": {
              "type": "string"
            }
          },
          "metadata": {},
          "execution_count": 27
        }
      ]
    },
    {
      "cell_type": "markdown",
      "source": [
        "## 6. Model 1: Building a better model with non-linearity\n",
        "\n",
        "We learned about the power of non-linearity in notebook 02."
      ],
      "metadata": {
        "id": "PNiatl0f3aAr"
      }
    },
    {
      "cell_type": "code",
      "source": [
        "# Creating a model with non-linear and linear layers\n",
        "class FashionMNISTModelV1(nn.Module):\n",
        "  def __init__(self,\n",
        "               input_shape: int,\n",
        "               hidden_units: int,\n",
        "               output_shape: int):\n",
        "    super().__init__()\n",
        "    self.layer_stack = nn.Sequential(\n",
        "        nn.Flatten(), # flatten inputs into a single vector\n",
        "        nn.Linear(in_features=input_shape,\n",
        "                  out_features=hidden_units),\n",
        "        nn.ReLU(),\n",
        "        nn.Linear(in_features=hidden_units,\n",
        "                  out_features=hidden_units),\n",
        "        nn.ReLU(),\n",
        "        nn.Linear(in_features=hidden_units,\n",
        "                  out_features=output_shape),\n",
        "        nn.ReLU()\n",
        "    )\n",
        "\n",
        "  def forward(self, x: torch.Tensor):\n",
        "    return self.layer_stack(x)"
      ],
      "metadata": {
        "id": "tNFqkubr3ZeM"
      },
      "execution_count": 28,
      "outputs": []
    },
    {
      "cell_type": "code",
      "source": [
        "# Create an instance of model_1\n",
        "torch.manual_seed(42)\n",
        "model_1 = FashionMNISTModelV1(input_shape=784, # this is the output of the flatten after our 28*28 image goes in\n",
        "                              hidden_units=10,\n",
        "                              output_shape=len(class_names)).to(device)\n",
        "next(model_1.parameters()).device"
      ],
      "metadata": {
        "colab": {
          "base_uri": "https://localhost:8080/"
        },
        "id": "Dodz4xGa8R5m",
        "outputId": "601e970b-7b44-4e7f-c65a-5f58b1d1552b"
      },
      "execution_count": 29,
      "outputs": [
        {
          "output_type": "execute_result",
          "data": {
            "text/plain": [
              "device(type='cuda', index=0)"
            ]
          },
          "metadata": {},
          "execution_count": 29
        }
      ]
    },
    {
      "cell_type": "markdown",
      "source": [
        "### 6.1 Setup loss, optimizer, and evaluation metrics"
      ],
      "metadata": {
        "id": "1jiOJPqL8RiQ"
      }
    },
    {
      "cell_type": "code",
      "source": [
        "from helper_functions import accuracy_fn\n",
        "loss_fn = nn.CrossEntropyLoss() # measure how wrong our model is\n",
        "optimizer = torch.optim.SGD(params=model_1.parameters(), # tries to update our model's parameters to reduce the loss\n",
        "                            lr=0.01)"
      ],
      "metadata": {
        "id": "Ks1HEbEo8ReX"
      },
      "execution_count": 30,
      "outputs": []
    },
    {
      "cell_type": "markdown",
      "source": [
        "### 6.2 Functionizing training and evaluation/testing loops\n",
        "\n",
        "Let's create a function for:\n",
        "* training loop - `train_step()`\n",
        "* testing loop - `test_step()`"
      ],
      "metadata": {
        "id": "MNsDD6dBA26c"
      }
    },
    {
      "cell_type": "code",
      "source": [
        "def train_step(model: torch.nn.Module,\n",
        "                data_loader: torch.utils.data.DataLoader,\n",
        "                loss_fn: torch.nn.Module,\n",
        "                optimizer: torch.optim.Optimizer,\n",
        "                accuracy_fn,\n",
        "                device: torch.device = device):\n",
        "    '''Performs a training with model trying to learn on data loader.'''\n",
        "    train_loss, train_acc = 0, 0\n",
        "\n",
        "    # Put model into training mode\n",
        "    model.train()\n",
        "\n",
        "    # Add a loop to loop through the training batches\n",
        "    for batch, (X, y) in enumerate(data_loader):\n",
        "      # Put data on target device\n",
        "      X, y = X.to(device), y.to(device)\n",
        "\n",
        "      # 1. Forward pass\n",
        "      y_pred = model(X)\n",
        "\n",
        "      # 2. Calculate loss (per batch)\n",
        "      loss = loss_fn(y_pred, y)\n",
        "      train_loss += loss # accumulate train loss\n",
        "      train_acc += accuracy_fn(y_true=y,\n",
        "                             y_pred=y_pred.argmax(dim=1)) # accumulate train accuracy\n",
        "      # 3. Optimizer zero grad\n",
        "      optimizer.zero_grad()\n",
        "\n",
        "      # 4. Loss backward\n",
        "      loss.backward()\n",
        "\n",
        "      # 5. Optimizer step\n",
        "      optimizer.step()\n",
        "\n",
        "    # Divide total train loss and acc by length of train dataloader\n",
        "    train_loss /= len(data_loader)\n",
        "    train_acc /= len(data_loader)\n",
        "    print(f\"Train loss: {train_loss:.5f} | Train acc: {train_acc:.2f}%\")"
      ],
      "metadata": {
        "id": "9E9dkPknA20X"
      },
      "execution_count": 31,
      "outputs": []
    },
    {
      "cell_type": "code",
      "source": [
        "def test_step(model: torch.nn.Module,\n",
        "              data_loader: torch.utils.data.DataLoader,\n",
        "              loss_fn: torch.nn.Module,\n",
        "              accuracy_fn,\n",
        "              device: torch.device = device):\n",
        "  '''Performs a testing with model trying to learn on data loader.'''\n",
        "  test_loss, test_acc = 0, 0\n",
        "\n",
        "  # Put the model in eval mode\n",
        "  model.eval()\n",
        "\n",
        "  # Turn on inference mode context manager\n",
        "  with torch.inference_mode():\n",
        "    for X, y in data_loader:\n",
        "      # Send the data to the target device\n",
        "      X, y = X.to(device), y.to(device)\n",
        "\n",
        "      # 1. Forward pass (outputs raw logits)\n",
        "      test_pred = model(X)\n",
        "\n",
        "      # Calculate the loss/acc\n",
        "      test_loss += loss_fn(test_pred, y)\n",
        "      test_acc += accuracy_fn(y_true=y,\n",
        "                              y_pred=test_pred.argmax(dim=1))\n",
        "    # Adjust metrics and print out\n",
        "    test_loss /= len(data_loader)\n",
        "    test_acc /= len(data_loader)\n",
        "    print(f\"Test loss: {test_loss:.5f} | Test acc: {test_acc:.2f}%\\n\")"
      ],
      "metadata": {
        "id": "w3DBsJLYA2so"
      },
      "execution_count": 32,
      "outputs": []
    },
    {
      "cell_type": "code",
      "source": [
        "torch.manual_seed(42)\n",
        "\n",
        "# Measure time\n",
        "from timeit import default_timer as timer\n",
        "train_time_start_on_gpu = timer()\n",
        "\n",
        "# Set the number of epochs\n",
        "epochs = 3\n",
        "for epoch in tqdm(range(epochs)):\n",
        "  print(f\"Epoch: {epoch}\\n---------\")\n",
        "  train_step(model=model_1,\n",
        "             data_loader=train_dataloader,\n",
        "             loss_fn=loss_fn,\n",
        "             optimizer=optimizer,\n",
        "             accuracy_fn=accuracy_fn,\n",
        "             device=device)\n",
        "\n",
        "  test_step(model=model_1,\n",
        "            data_loader=test_dataloader,\n",
        "            loss_fn=loss_fn,\n",
        "            accuracy_fn=accuracy_fn,\n",
        "            device=device)\n",
        "\n",
        "  train_time_end_on_gpu = timer()\n",
        "  total_train_time_model_1 = print_train_time(start=train_time_start_on_gpu,\n",
        "                                             end=train_time_end_on_gpu,\n",
        "                                             device=device)"
      ],
      "metadata": {
        "colab": {
          "base_uri": "https://localhost:8080/",
          "height": 361,
          "referenced_widgets": [
            "89c782748dfc4162afee050a532e7322",
            "56a8d50be08e429d9e5f74ac9ac9cdf1",
            "aa644369a82e4976ac83754aa16a9236",
            "49e1fd5fbe6f44639780610c067ac9ce",
            "ad3838cba6b345c994fe02102b55e5b8",
            "b738a35138314613b5eaa03f85142b52",
            "852ac7abd66446169c7e0bab01fbc772",
            "0a2bfbd96b4d47fe8701b697a53ffe2e",
            "ee27f7f90d494e01adcb55dd4d97a55e",
            "718e9bd1624c4f47847a9419ecf975b4",
            "eee58794c8664d85a0c080cec446c260"
          ]
        },
        "id": "RmRW8vLO8RYf",
        "outputId": "7a1a109d-9884-4f11-bfbd-50f7285cfb77"
      },
      "execution_count": 33,
      "outputs": [
        {
          "output_type": "display_data",
          "data": {
            "text/plain": [
              "  0%|          | 0/3 [00:00<?, ?it/s]"
            ],
            "application/vnd.jupyter.widget-view+json": {
              "version_major": 2,
              "version_minor": 0,
              "model_id": "89c782748dfc4162afee050a532e7322"
            }
          },
          "metadata": {}
        },
        {
          "output_type": "stream",
          "name": "stdout",
          "text": [
            "Epoch: 0\n",
            "---------\n",
            "Train loss: 1.53671 | Train acc: 49.98%\n",
            "Test loss: 1.00275 | Test acc: 63.42%\n",
            "\n",
            "Train time on cuda: 11.280 seconds\n",
            "Epoch: 1\n",
            "---------\n",
            "Train loss: 0.88010 | Train acc: 68.41%\n",
            "Test loss: 0.83507 | Test acc: 70.15%\n",
            "\n",
            "Train time on cuda: 21.874 seconds\n",
            "Epoch: 2\n",
            "---------\n",
            "Train loss: 0.60896 | Train acc: 78.76%\n",
            "Test loss: 0.57333 | Test acc: 79.84%\n",
            "\n",
            "Train time on cuda: 32.396 seconds\n"
          ]
        }
      ]
    },
    {
      "cell_type": "markdown",
      "source": [
        "**Note:** Sometimes, depending on you data/hardware you might find that your model trains faster on CPU than GPU.\n",
        "\n",
        "Why is this?\n",
        "\n",
        "1. It could be that the overhead for cpoying data/model to and from the GPU outweighs the compute benefits offered by the GPU.\n",
        "2. The hardware you're using has a better CPU in terms of compute capability than the GPU."
      ],
      "metadata": {
        "id": "xTdAlwVAbVVp"
      }
    },
    {
      "cell_type": "code",
      "source": [
        "model_0_results"
      ],
      "metadata": {
        "colab": {
          "base_uri": "https://localhost:8080/"
        },
        "id": "b8QptOt-8Q6b",
        "outputId": "13bc0fde-b262-4cbe-a5a5-feb44314e325"
      },
      "execution_count": 34,
      "outputs": [
        {
          "output_type": "execute_result",
          "data": {
            "text/plain": [
              "{'model_name': 'FashionMNISTModelV0',\n",
              " 'model_loss': 0.5136752128601074,\n",
              " 'model_acc': 81.9988019169329}"
            ]
          },
          "metadata": {},
          "execution_count": 34
        }
      ]
    },
    {
      "cell_type": "code",
      "source": [
        "total_train_time_model_0"
      ],
      "metadata": {
        "colab": {
          "base_uri": "https://localhost:8080/"
        },
        "id": "PJJFBNLm3ZRr",
        "outputId": "fb1fa134-ba23-45a4-e6e0-cddafa2483d3"
      },
      "execution_count": 35,
      "outputs": [
        {
          "output_type": "execute_result",
          "data": {
            "text/plain": [
              "28.664424595"
            ]
          },
          "metadata": {},
          "execution_count": 35
        }
      ]
    },
    {
      "cell_type": "code",
      "source": [
        "torch.manual_seed(42)\n",
        "def eval_model(model: torch.nn.Module,\n",
        "               data_loader: torch.utils.data.DataLoader,\n",
        "               loss_fn: torch.nn.Module,\n",
        "               accuracy_fn,\n",
        "               device=device):\n",
        "  '''Returns a dictionary containing the results of model predicting on data_loader.'''\n",
        "  loss, acc = 0, 0\n",
        "  model.eval()\n",
        "  with torch.inference_mode():\n",
        "    for X, y in tqdm(data_loader):\n",
        "      # Make our data device agnostic\n",
        "      X, y = X.to(device), y.to(device)\n",
        "      # Make predictions\n",
        "      y_pred = model(X)\n",
        "\n",
        "      # Accumulate the loss and acc values per batch\n",
        "      loss += loss_fn(y_pred, y)\n",
        "      acc += accuracy_fn(y_true=y,\n",
        "                         y_pred=y_pred.argmax(dim=1))\n",
        "\n",
        "    # Scale loss and acc to find the average loss/acc per batch\n",
        "    loss /= len(data_loader)\n",
        "    acc /= len(data_loader)\n",
        "\n",
        "  return {\"model_name\": model.__class__.__name__, # Only works when model was created with a class\n",
        "          \"model_loss\": loss.item(),\n",
        "          \"model_acc\": acc}"
      ],
      "metadata": {
        "id": "XHOe33lbj0zs"
      },
      "execution_count": 36,
      "outputs": []
    },
    {
      "cell_type": "code",
      "source": [
        "# Get model_1 results dictionar\n",
        "model_1_results = eval_model(model=model_1,\n",
        "                             data_loader=test_dataloader,\n",
        "                             loss_fn=loss_fn,\n",
        "                             accuracy_fn=accuracy_fn,\n",
        "                             device=device)\n",
        "model_1_results"
      ],
      "metadata": {
        "colab": {
          "base_uri": "https://localhost:8080/",
          "height": 101,
          "referenced_widgets": [
            "a8676ef1349c4ba8bc6b6ed50a6d72db",
            "577cc21dc59541c48cecce79a5473657",
            "78da4761c37243de8f32e294d5031173",
            "efc51f850b75460487f7beb81fe87cfc",
            "7cb85d2f1e9c46228b69409a9c804bc3",
            "a0458aa482f54475bf86124be3783a8a",
            "fed0ee11bad14cb0838b0f008a5977cc",
            "2bffeb40281c46d8a7b28e7743f36793",
            "f212946073014b7fb326965def3c9a3a",
            "4ad102e6086245e9a131dbad3f4e6dc0",
            "d8060f0c98484b8d90633df032058e47"
          ]
        },
        "id": "F8BsKfBmkSM5",
        "outputId": "93e9e3cf-2388-423e-a3b8-cd839f8020ae"
      },
      "execution_count": 37,
      "outputs": [
        {
          "output_type": "display_data",
          "data": {
            "text/plain": [
              "  0%|          | 0/313 [00:00<?, ?it/s]"
            ],
            "application/vnd.jupyter.widget-view+json": {
              "version_major": 2,
              "version_minor": 0,
              "model_id": "a8676ef1349c4ba8bc6b6ed50a6d72db"
            }
          },
          "metadata": {}
        },
        {
          "output_type": "execute_result",
          "data": {
            "text/plain": [
              "{'model_name': 'FashionMNISTModelV1',\n",
              " 'model_loss': 0.57332843542099,\n",
              " 'model_acc': 79.84225239616613}"
            ]
          },
          "metadata": {},
          "execution_count": 37
        }
      ]
    },
    {
      "cell_type": "code",
      "source": [
        "model_0_results"
      ],
      "metadata": {
        "colab": {
          "base_uri": "https://localhost:8080/"
        },
        "id": "aIhhYzOYkn7e",
        "outputId": "f6624ad7-7549-412a-9e14-e19310e22d9e"
      },
      "execution_count": 38,
      "outputs": [
        {
          "output_type": "execute_result",
          "data": {
            "text/plain": [
              "{'model_name': 'FashionMNISTModelV0',\n",
              " 'model_loss': 0.5136752128601074,\n",
              " 'model_acc': 81.9988019169329}"
            ]
          },
          "metadata": {},
          "execution_count": 38
        }
      ]
    },
    {
      "cell_type": "markdown",
      "source": [
        "## Model 2: Building a Convolutional Neural Network (CNN)\n",
        "\n",
        "CNN's are also known as ConvNets.\n",
        "\n",
        "CNN's are known for their capabilities to find patterns in visual data.\n",
        "\n",
        "To find out what's happening inside our CNN, see this website: https://poloclub.github.io/cnn-explainer/#article-pooling"
      ],
      "metadata": {
        "id": "9iuQJrLOlOAP"
      }
    },
    {
      "cell_type": "code",
      "source": [
        "# Create a convolutional neural network\n",
        "class FashionMNISTModelV2(nn.Module):\n",
        "  '''\n",
        "  Model architecture that replicates the TinyVGG\n",
        "  model from CNN explainer website.\n",
        "  '''\n",
        "  def __init__(self,\n",
        "               input_shape: int,\n",
        "               hidden_units: int,\n",
        "               output_shape: int):\n",
        "    super().__init__()\n",
        "    self.conv_block_1 = nn.Sequential(\n",
        "        nn.Conv2d(in_channels=input_shape,\n",
        "                  out_channels=hidden_units,\n",
        "                  kernel_size=3,\n",
        "                  stride=1,\n",
        "                  padding=1), # values we can set ourselves in our NN's are called hyperparameters\n",
        "        nn.ReLU(),\n",
        "        nn.Conv2d(in_channels=hidden_units,\n",
        "                  out_channels=hidden_units,\n",
        "                  kernel_size=3,\n",
        "                  stride=1,\n",
        "                  padding=1),\n",
        "        nn.ReLU(),\n",
        "        nn.MaxPool2d(kernel_size=2,\n",
        "                     stride=2)\n",
        "    )\n",
        "    self.conv_block_2 = nn.Sequential(\n",
        "        nn.Conv2d(in_channels=hidden_units,\n",
        "                  out_channels=hidden_units,\n",
        "                  kernel_size=3,\n",
        "                  stride=1,\n",
        "                  padding=1),\n",
        "        nn.ReLU(),\n",
        "        nn.Conv2d(in_channels=hidden_units,\n",
        "                  out_channels=hidden_units,\n",
        "                  kernel_size=3,\n",
        "                  stride=1,\n",
        "                  padding=1),\n",
        "        nn.ReLU(),\n",
        "        nn.MaxPool2d(kernel_size=2)\n",
        "    )\n",
        "    self.classifier = nn.Sequential(\n",
        "        nn.Flatten(),\n",
        "        nn.Linear(in_features=hidden_units*7*7, # adjusted for the output size after conv/pool layers\n",
        "                  out_features=output_shape)\n",
        "    )\n",
        "\n",
        "  def forward(self, x):\n",
        "    x = self.conv_block_1(x)\n",
        "   # print(f\"Output shape of conv_block_1: {x.shape}\")\n",
        "    x = self.conv_block_2(x)\n",
        "   # print(f\"Output shape of conv_block_2: {x.shape}\")\n",
        "    x = self.classifier(x)\n",
        "   # print(f\"Output shape of classifier: {x.shape}\")\n",
        "    return x"
      ],
      "metadata": {
        "id": "jBoi-hoMuT-R"
      },
      "execution_count": 39,
      "outputs": []
    },
    {
      "cell_type": "code",
      "source": [
        "torch.manual_seed(42)\n",
        "model_2 = FashionMNISTModelV2(input_shape=1,\n",
        "                              hidden_units=10,\n",
        "                              output_shape=len(class_names)).to(device)"
      ],
      "metadata": {
        "id": "ysMl0EFavFAe"
      },
      "execution_count": 40,
      "outputs": []
    },
    {
      "cell_type": "code",
      "source": [
        "rand_image_tensor = torch.randn(size=(1, 28, 28))\n",
        "rand_image_tensor.shape"
      ],
      "metadata": {
        "colab": {
          "base_uri": "https://localhost:8080/"
        },
        "id": "1J3yYGsdlyae",
        "outputId": "68e382ae-0ba6-4658-ea14-ce975a2c86b0"
      },
      "execution_count": 41,
      "outputs": [
        {
          "output_type": "execute_result",
          "data": {
            "text/plain": [
              "torch.Size([1, 28, 28])"
            ]
          },
          "metadata": {},
          "execution_count": 41
        }
      ]
    },
    {
      "cell_type": "code",
      "source": [
        "# Pass image through model\n",
        "model_2(rand_image_tensor.unsqueeze(0).to(device))"
      ],
      "metadata": {
        "colab": {
          "base_uri": "https://localhost:8080/"
        },
        "id": "J72dZVkSkSrE",
        "outputId": "309eb10e-130d-45f8-e8fc-eabb8f8319f2"
      },
      "execution_count": 42,
      "outputs": [
        {
          "output_type": "execute_result",
          "data": {
            "text/plain": [
              "tensor([[ 0.0366, -0.0940,  0.0686, -0.0485,  0.0068,  0.0290,  0.0132,  0.0084,\n",
              "         -0.0030, -0.0185]], device='cuda:0', grad_fn=<AddmmBackward0>)"
            ]
          },
          "metadata": {},
          "execution_count": 42
        }
      ]
    },
    {
      "cell_type": "code",
      "source": [
        "plt.imshow(image.squeeze(), cmap=\"gray\")"
      ],
      "metadata": {
        "colab": {
          "base_uri": "https://localhost:8080/",
          "height": 447
        },
        "id": "tn64FJkEjfWU",
        "outputId": "dce6b321-be99-46a8-f12a-644e5b704e59"
      },
      "execution_count": 43,
      "outputs": [
        {
          "output_type": "execute_result",
          "data": {
            "text/plain": [
              "<matplotlib.image.AxesImage at 0x7a4b06c75790>"
            ]
          },
          "metadata": {},
          "execution_count": 43
        },
        {
          "output_type": "display_data",
          "data": {
            "text/plain": [
              "<Figure size 640x480 with 1 Axes>"
            ],
            "image/png": "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\n"
          },
          "metadata": {}
        }
      ]
    },
    {
      "cell_type": "markdown",
      "source": [
        "### 7.1 Stepping through `nn.Conv2d()`"
      ],
      "metadata": {
        "id": "qD4vGC9_vEkJ"
      }
    },
    {
      "cell_type": "code",
      "source": [
        "torch.manual_seed(42)\n",
        "\n",
        "# Create a batch of images\n",
        "images = torch.randn(size=(32, 3, 64, 64))\n",
        "test_image = images[0]\n",
        "\n",
        "print(f\"Image batch shape: {images.shape}\")\n",
        "print(f\"Single image shape: {test_image.shape}\")\n",
        "print(f\"Test image:\\n {test_image}\")"
      ],
      "metadata": {
        "id": "hiBTYpAKvEfZ",
        "colab": {
          "base_uri": "https://localhost:8080/"
        },
        "outputId": "70b1411c-8f85-44c4-a677-0e9fda6fb62f"
      },
      "execution_count": 44,
      "outputs": [
        {
          "output_type": "stream",
          "name": "stdout",
          "text": [
            "Image batch shape: torch.Size([32, 3, 64, 64])\n",
            "Single image shape: torch.Size([3, 64, 64])\n",
            "Test image:\n",
            " tensor([[[ 1.9269,  1.4873,  0.9007,  ...,  1.8446, -1.1845,  1.3835],\n",
            "         [ 1.4451,  0.8564,  2.2181,  ...,  0.3399,  0.7200,  0.4114],\n",
            "         [ 1.9312,  1.0119, -1.4364,  ..., -0.5558,  0.7043,  0.7099],\n",
            "         ...,\n",
            "         [-0.5610, -0.4830,  0.4770,  ..., -0.2713, -0.9537, -0.6737],\n",
            "         [ 0.3076, -0.1277,  0.0366,  ..., -2.0060,  0.2824, -0.8111],\n",
            "         [-1.5486,  0.0485, -0.7712,  ..., -0.1403,  0.9416, -0.0118]],\n",
            "\n",
            "        [[-0.5197,  1.8524,  1.8365,  ...,  0.8935, -1.5114, -0.8515],\n",
            "         [ 2.0818,  1.0677, -1.4277,  ...,  1.6612, -2.6223, -0.4319],\n",
            "         [-0.1010, -0.4388, -1.9775,  ...,  0.2106,  0.2536, -0.7318],\n",
            "         ...,\n",
            "         [ 0.2779,  0.7342, -0.3736,  ..., -0.4601,  0.1815,  0.1850],\n",
            "         [ 0.7205, -0.2833,  0.0937,  ..., -0.1002, -2.3609,  2.2465],\n",
            "         [-1.3242, -0.1973,  0.2920,  ...,  0.5409,  0.6940,  1.8563]],\n",
            "\n",
            "        [[-0.7978,  1.0261,  1.1465,  ...,  1.2134,  0.9354, -0.0780],\n",
            "         [-1.4647, -1.9571,  0.1017,  ..., -1.9986, -0.7409,  0.7011],\n",
            "         [-1.3938,  0.8466, -1.7191,  ..., -1.1867,  0.1320,  0.3407],\n",
            "         ...,\n",
            "         [ 0.8206, -0.3745,  1.2499,  ..., -0.0676,  0.0385,  0.6335],\n",
            "         [-0.5589, -0.3393,  0.2347,  ...,  2.1181,  2.4569,  1.3083],\n",
            "         [-0.4092,  1.5199,  0.2401,  ..., -0.2558,  0.7870,  0.9924]]])\n"
          ]
        }
      ]
    },
    {
      "cell_type": "code",
      "source": [
        "# Create a single conv2d layer\n",
        "conv_layer = nn.Conv2d(in_channels=3,\n",
        "                       out_channels=10,\n",
        "                       kernel_size=(3, 3),\n",
        "                       stride=1,\n",
        "                       padding=1)\n",
        "\n",
        "# Pass the data through the convolutional layer\n",
        "conv_output = conv_layer(test_image)\n",
        "conv_output.shape"
      ],
      "metadata": {
        "id": "h77TzKMovEYa",
        "colab": {
          "base_uri": "https://localhost:8080/"
        },
        "outputId": "7b678b01-f431-4808-aa76-ddf752ff687c"
      },
      "execution_count": 45,
      "outputs": [
        {
          "output_type": "execute_result",
          "data": {
            "text/plain": [
              "torch.Size([10, 64, 64])"
            ]
          },
          "metadata": {},
          "execution_count": 45
        }
      ]
    },
    {
      "cell_type": "markdown",
      "source": [
        "### 7.3 Setup a loss function and optimizer for `model_2`"
      ],
      "metadata": {
        "id": "Vq3kYkyWbmBM"
      }
    },
    {
      "cell_type": "code",
      "source": [
        "# Setup loss function/eval metrics/optimizer\n",
        "from helper_functions import accuracy_fn\n",
        "\n",
        "loss_fn = nn.CrossEntropyLoss()\n",
        "optimizer = torch.optim.SGD(params=model_2.parameters(),\n",
        "                            lr=0.1)"
      ],
      "metadata": {
        "id": "Fb8Cq2zgblyr"
      },
      "execution_count": 46,
      "outputs": []
    },
    {
      "cell_type": "markdown",
      "source": [
        "### 7.4 Training and testing model_2 using our training and testing functions"
      ],
      "metadata": {
        "id": "4U_w0ugyblZy"
      }
    },
    {
      "cell_type": "code",
      "source": [
        "torch.manual_seed(42)\n",
        "torch.cuda.manual_seed(42)\n",
        "\n",
        "# Measure time\n",
        "from timeit import default_timer as timer\n",
        "train_time_start_model_2 = timer()\n",
        "\n",
        "# Train and test model\n",
        "epochs = 3\n",
        "for epoch in tqdm(range(epochs)):\n",
        "  print(f\"Epoch: {epoch}\\n---------\")\n",
        "  train_step(model=model_2,\n",
        "           data_loader=train_dataloader,\n",
        "             loss_fn=loss_fn,\n",
        "             optimizer=optimizer,\n",
        "             accuracy_fn=accuracy_fn,\n",
        "             device=device)\n",
        "\n",
        "  test_step(model=model_2,\n",
        "            data_loader=test_dataloader,\n",
        "            loss_fn=loss_fn,\n",
        "            accuracy_fn=accuracy_fn,\n",
        "            device=device)\n",
        "\n",
        "train_time_end_model_2 = timer()\n",
        "total_train_time_model_2 = print_train_time(start=train_time_start_model_2,\n",
        "                                             end=train_time_end_model_2,\n",
        "                                             device=device)"
      ],
      "metadata": {
        "id": "TYK-y55fblTn",
        "colab": {
          "base_uri": "https://localhost:8080/",
          "height": 327,
          "referenced_widgets": [
            "589c001dfa5c42f7a8da4c342ebc98d7",
            "fbca3b8b5e8b4e649a433f661c537d85",
            "15cc3ea81b6241f1bca36f6b92de0504",
            "942b18cf7d5146c2988d3f1bab167ed8",
            "4f7bdb69271d48358b4a6d7cfb1ac71a",
            "7991a7a9787f4913a82b33acb3e3f8da",
            "f207bc77b64044848c6c4b1722a86a80",
            "a8d92eb67bbd4993969b698b457ab497",
            "38f4db9079054dff9f92a38838127cda",
            "beb873573de3426db6136e9da487f618",
            "d35b527dcf1e4b9fbf8d4d0a60ff43ca"
          ]
        },
        "outputId": "a827f020-e9de-4515-d3e1-1b1087d2b2e2"
      },
      "execution_count": 47,
      "outputs": [
        {
          "output_type": "display_data",
          "data": {
            "text/plain": [
              "  0%|          | 0/3 [00:00<?, ?it/s]"
            ],
            "application/vnd.jupyter.widget-view+json": {
              "version_major": 2,
              "version_minor": 0,
              "model_id": "589c001dfa5c42f7a8da4c342ebc98d7"
            }
          },
          "metadata": {}
        },
        {
          "output_type": "stream",
          "name": "stdout",
          "text": [
            "Epoch: 0\n",
            "---------\n",
            "Train loss: 0.59277 | Train acc: 78.49%\n",
            "Test loss: 0.39566 | Test acc: 85.80%\n",
            "\n",
            "Epoch: 1\n",
            "---------\n",
            "Train loss: 0.35996 | Train acc: 87.04%\n",
            "Test loss: 0.34937 | Test acc: 86.83%\n",
            "\n",
            "Epoch: 2\n",
            "---------\n",
            "Train loss: 0.32257 | Train acc: 88.37%\n",
            "Test loss: 0.32283 | Test acc: 88.19%\n",
            "\n",
            "Train time on cuda: 37.435 seconds\n"
          ]
        }
      ]
    },
    {
      "cell_type": "code",
      "source": [
        "# Get model_2 results\n",
        "model_2_results = eval_model(model=model_2,\n",
        "                             data_loader=test_dataloader,\n",
        "                             loss_fn=loss_fn,\n",
        "                             accuracy_fn=accuracy_fn,\n",
        "                             device=device)\n",
        "model_2_results"
      ],
      "metadata": {
        "id": "ofeWOZkTbkzx",
        "colab": {
          "base_uri": "https://localhost:8080/",
          "height": 101,
          "referenced_widgets": [
            "8bdc136dac0343048ba384284bb8ded7",
            "639ddd77601348ecbe4b5413f7ae7838",
            "d73149a6efc5463ea08cc8a4bcf39b4d",
            "7a8c770cf9144816aab4b1363233dc38",
            "34b4a6f2639b42959f19210a98ffa2b7",
            "043128e2ce5e47eda85223736b99a77a",
            "82dc3fe5601c4d518480c141ac9a9961",
            "11a22dfb40214f8ea7f7045b7d5c764a",
            "fa95a9695e5148c69c163992a70f7f33",
            "7038d3eda9ac43178af10d13a825fb09",
            "4e207966cd124c3684784e165f3fccfe"
          ]
        },
        "outputId": "49377c75-d2a4-4f49-a979-553579691e0d"
      },
      "execution_count": 48,
      "outputs": [
        {
          "output_type": "display_data",
          "data": {
            "text/plain": [
              "  0%|          | 0/313 [00:00<?, ?it/s]"
            ],
            "application/vnd.jupyter.widget-view+json": {
              "version_major": 2,
              "version_minor": 0,
              "model_id": "8bdc136dac0343048ba384284bb8ded7"
            }
          },
          "metadata": {}
        },
        {
          "output_type": "execute_result",
          "data": {
            "text/plain": [
              "{'model_name': 'FashionMNISTModelV2',\n",
              " 'model_loss': 0.322832852602005,\n",
              " 'model_acc': 88.18889776357827}"
            ]
          },
          "metadata": {},
          "execution_count": 48
        }
      ]
    },
    {
      "cell_type": "code",
      "source": [
        "model_0_results"
      ],
      "metadata": {
        "id": "ek0IMXDpuT3s",
        "colab": {
          "base_uri": "https://localhost:8080/"
        },
        "outputId": "d53a075d-2ddf-44bf-c312-1567ed0889b0"
      },
      "execution_count": 49,
      "outputs": [
        {
          "output_type": "execute_result",
          "data": {
            "text/plain": [
              "{'model_name': 'FashionMNISTModelV0',\n",
              " 'model_loss': 0.5136752128601074,\n",
              " 'model_acc': 81.9988019169329}"
            ]
          },
          "metadata": {},
          "execution_count": 49
        }
      ]
    },
    {
      "cell_type": "markdown",
      "source": [
        "## 8. Compare model results and training time"
      ],
      "metadata": {
        "id": "R4xWpm1ruTui"
      }
    },
    {
      "cell_type": "code",
      "metadata": {
        "id": "8923ec4d",
        "colab": {
          "base_uri": "https://localhost:8080/",
          "height": 144
        },
        "outputId": "ee007938-141d-4bbd-a43d-4c51fa98ffd6"
      },
      "source": [
        "import pandas as pd\n",
        "compare_results = pd.DataFrame([model_0_results,\n",
        "                                model_1_results,\n",
        "                                model_2_results])\n",
        "compare_results"
      ],
      "execution_count": 50,
      "outputs": [
        {
          "output_type": "execute_result",
          "data": {
            "text/plain": [
              "            model_name  model_loss  model_acc\n",
              "0  FashionMNISTModelV0    0.513675  81.998802\n",
              "1  FashionMNISTModelV1    0.573328  79.842252\n",
              "2  FashionMNISTModelV2    0.322833  88.188898"
            ],
            "text/html": [
              "\n",
              "  <div id=\"df-0e1fc77d-82f8-4368-b4e5-4b089e140687\" class=\"colab-df-container\">\n",
              "    <div>\n",
              "<style scoped>\n",
              "    .dataframe tbody tr th:only-of-type {\n",
              "        vertical-align: middle;\n",
              "    }\n",
              "\n",
              "    .dataframe tbody tr th {\n",
              "        vertical-align: top;\n",
              "    }\n",
              "\n",
              "    .dataframe thead th {\n",
              "        text-align: right;\n",
              "    }\n",
              "</style>\n",
              "<table border=\"1\" class=\"dataframe\">\n",
              "  <thead>\n",
              "    <tr style=\"text-align: right;\">\n",
              "      <th></th>\n",
              "      <th>model_name</th>\n",
              "      <th>model_loss</th>\n",
              "      <th>model_acc</th>\n",
              "    </tr>\n",
              "  </thead>\n",
              "  <tbody>\n",
              "    <tr>\n",
              "      <th>0</th>\n",
              "      <td>FashionMNISTModelV0</td>\n",
              "      <td>0.513675</td>\n",
              "      <td>81.998802</td>\n",
              "    </tr>\n",
              "    <tr>\n",
              "      <th>1</th>\n",
              "      <td>FashionMNISTModelV1</td>\n",
              "      <td>0.573328</td>\n",
              "      <td>79.842252</td>\n",
              "    </tr>\n",
              "    <tr>\n",
              "      <th>2</th>\n",
              "      <td>FashionMNISTModelV2</td>\n",
              "      <td>0.322833</td>\n",
              "      <td>88.188898</td>\n",
              "    </tr>\n",
              "  </tbody>\n",
              "</table>\n",
              "</div>\n",
              "    <div class=\"colab-df-buttons\">\n",
              "\n",
              "  <div class=\"colab-df-container\">\n",
              "    <button class=\"colab-df-convert\" onclick=\"convertToInteractive('df-0e1fc77d-82f8-4368-b4e5-4b089e140687')\"\n",
              "            title=\"Convert this dataframe to an interactive table.\"\n",
              "            style=\"display:none;\">\n",
              "\n",
              "  <svg xmlns=\"http://www.w3.org/2000/svg\" height=\"24px\" viewBox=\"0 -960 960 960\">\n",
              "    <path d=\"M120-120v-720h720v720H120Zm60-500h600v-160H180v160Zm220 220h160v-160H400v160Zm0 220h160v-160H400v160ZM180-400h160v-160H180v160Zm440 0h160v-160H620v160ZM180-180h160v-160H180v160Zm440 0h160v-160H620v160Z\"/>\n",
              "  </svg>\n",
              "    </button>\n",
              "\n",
              "  <style>\n",
              "    .colab-df-container {\n",
              "      display:flex;\n",
              "      gap: 12px;\n",
              "    }\n",
              "\n",
              "    .colab-df-convert {\n",
              "      background-color: #E8F0FE;\n",
              "      border: none;\n",
              "      border-radius: 50%;\n",
              "      cursor: pointer;\n",
              "      display: none;\n",
              "      fill: #1967D2;\n",
              "      height: 32px;\n",
              "      padding: 0 0 0 0;\n",
              "      width: 32px;\n",
              "    }\n",
              "\n",
              "    .colab-df-convert:hover {\n",
              "      background-color: #E2EBFA;\n",
              "      box-shadow: 0px 1px 2px rgba(60, 64, 67, 0.3), 0px 1px 3px 1px rgba(60, 64, 67, 0.15);\n",
              "      fill: #174EA6;\n",
              "    }\n",
              "\n",
              "    .colab-df-buttons div {\n",
              "      margin-bottom: 4px;\n",
              "    }\n",
              "\n",
              "    [theme=dark] .colab-df-convert {\n",
              "      background-color: #3B4455;\n",
              "      fill: #D2E3FC;\n",
              "    }\n",
              "\n",
              "    [theme=dark] .colab-df-convert:hover {\n",
              "      background-color: #434B5C;\n",
              "      box-shadow: 0px 1px 3px 1px rgba(0, 0, 0, 0.15);\n",
              "      filter: drop-shadow(0px 1px 2px rgba(0, 0, 0, 0.3));\n",
              "      fill: #FFFFFF;\n",
              "    }\n",
              "  </style>\n",
              "\n",
              "    <script>\n",
              "      const buttonEl =\n",
              "        document.querySelector('#df-0e1fc77d-82f8-4368-b4e5-4b089e140687 button.colab-df-convert');\n",
              "      buttonEl.style.display =\n",
              "        google.colab.kernel.accessAllowed ? 'block' : 'none';\n",
              "\n",
              "      async function convertToInteractive(key) {\n",
              "        const element = document.querySelector('#df-0e1fc77d-82f8-4368-b4e5-4b089e140687');\n",
              "        const dataTable =\n",
              "          await google.colab.kernel.invokeFunction('convertToInteractive',\n",
              "                                                    [key], {});\n",
              "        if (!dataTable) return;\n",
              "\n",
              "        const docLinkHtml = 'Like what you see? Visit the ' +\n",
              "          '<a target=\"_blank\" href=https://colab.research.google.com/notebooks/data_table.ipynb>data table notebook</a>'\n",
              "          + ' to learn more about interactive tables.';\n",
              "        element.innerHTML = '';\n",
              "        dataTable['output_type'] = 'display_data';\n",
              "        await google.colab.output.renderOutput(dataTable, element);\n",
              "        const docLink = document.createElement('div');\n",
              "        docLink.innerHTML = docLinkHtml;\n",
              "        element.appendChild(docLink);\n",
              "      }\n",
              "    </script>\n",
              "  </div>\n",
              "\n",
              "\n",
              "    <div id=\"df-ec7d82fb-5e5c-4cd9-a1fd-627403002862\">\n",
              "      <button class=\"colab-df-quickchart\" onclick=\"quickchart('df-ec7d82fb-5e5c-4cd9-a1fd-627403002862')\"\n",
              "                title=\"Suggest charts\"\n",
              "                style=\"display:none;\">\n",
              "\n",
              "<svg xmlns=\"http://www.w3.org/2000/svg\" height=\"24px\"viewBox=\"0 0 24 24\"\n",
              "     width=\"24px\">\n",
              "    <g>\n",
              "        <path d=\"M19 3H5c-1.1 0-2 .9-2 2v14c0 1.1.9 2 2 2h14c1.1 0 2-.9 2-2V5c0-1.1-.9-2-2-2zM9 17H7v-7h2v7zm4 0h-2V7h2v10zm4 0h-2v-4h2v4z\"/>\n",
              "    </g>\n",
              "</svg>\n",
              "      </button>\n",
              "\n",
              "<style>\n",
              "  .colab-df-quickchart {\n",
              "      --bg-color: #E8F0FE;\n",
              "      --fill-color: #1967D2;\n",
              "      --hover-bg-color: #E2EBFA;\n",
              "      --hover-fill-color: #174EA6;\n",
              "      --disabled-fill-color: #AAA;\n",
              "      --disabled-bg-color: #DDD;\n",
              "  }\n",
              "\n",
              "  [theme=dark] .colab-df-quickchart {\n",
              "      --bg-color: #3B4455;\n",
              "      --fill-color: #D2E3FC;\n",
              "      --hover-bg-color: #434B5C;\n",
              "      --hover-fill-color: #FFFFFF;\n",
              "      --disabled-bg-color: #3B4455;\n",
              "      --disabled-fill-color: #666;\n",
              "  }\n",
              "\n",
              "  .colab-df-quickchart {\n",
              "    background-color: var(--bg-color);\n",
              "    border: none;\n",
              "    border-radius: 50%;\n",
              "    cursor: pointer;\n",
              "    display: none;\n",
              "    fill: var(--fill-color);\n",
              "    height: 32px;\n",
              "    padding: 0;\n",
              "    width: 32px;\n",
              "  }\n",
              "\n",
              "  .colab-df-quickchart:hover {\n",
              "    background-color: var(--hover-bg-color);\n",
              "    box-shadow: 0 1px 2px rgba(60, 64, 67, 0.3), 0 1px 3px 1px rgba(60, 64, 67, 0.15);\n",
              "    fill: var(--button-hover-fill-color);\n",
              "  }\n",
              "\n",
              "  .colab-df-quickchart-complete:disabled,\n",
              "  .colab-df-quickchart-complete:disabled:hover {\n",
              "    background-color: var(--disabled-bg-color);\n",
              "    fill: var(--disabled-fill-color);\n",
              "    box-shadow: none;\n",
              "  }\n",
              "\n",
              "  .colab-df-spinner {\n",
              "    border: 2px solid var(--fill-color);\n",
              "    border-color: transparent;\n",
              "    border-bottom-color: var(--fill-color);\n",
              "    animation:\n",
              "      spin 1s steps(1) infinite;\n",
              "  }\n",
              "\n",
              "  @keyframes spin {\n",
              "    0% {\n",
              "      border-color: transparent;\n",
              "      border-bottom-color: var(--fill-color);\n",
              "      border-left-color: var(--fill-color);\n",
              "    }\n",
              "    20% {\n",
              "      border-color: transparent;\n",
              "      border-left-color: var(--fill-color);\n",
              "      border-top-color: var(--fill-color);\n",
              "    }\n",
              "    30% {\n",
              "      border-color: transparent;\n",
              "      border-left-color: var(--fill-color);\n",
              "      border-top-color: var(--fill-color);\n",
              "      border-right-color: var(--fill-color);\n",
              "    }\n",
              "    40% {\n",
              "      border-color: transparent;\n",
              "      border-right-color: var(--fill-color);\n",
              "      border-top-color: var(--fill-color);\n",
              "    }\n",
              "    60% {\n",
              "      border-color: transparent;\n",
              "      border-right-color: var(--fill-color);\n",
              "    }\n",
              "    80% {\n",
              "      border-color: transparent;\n",
              "      border-right-color: var(--fill-color);\n",
              "      border-bottom-color: var(--fill-color);\n",
              "    }\n",
              "    90% {\n",
              "      border-color: transparent;\n",
              "      border-bottom-color: var(--fill-color);\n",
              "    }\n",
              "  }\n",
              "</style>\n",
              "\n",
              "      <script>\n",
              "        async function quickchart(key) {\n",
              "          const quickchartButtonEl =\n",
              "            document.querySelector('#' + key + ' button');\n",
              "          quickchartButtonEl.disabled = true;  // To prevent multiple clicks.\n",
              "          quickchartButtonEl.classList.add('colab-df-spinner');\n",
              "          try {\n",
              "            const charts = await google.colab.kernel.invokeFunction(\n",
              "                'suggestCharts', [key], {});\n",
              "          } catch (error) {\n",
              "            console.error('Error during call to suggestCharts:', error);\n",
              "          }\n",
              "          quickchartButtonEl.classList.remove('colab-df-spinner');\n",
              "          quickchartButtonEl.classList.add('colab-df-quickchart-complete');\n",
              "        }\n",
              "        (() => {\n",
              "          let quickchartButtonEl =\n",
              "            document.querySelector('#df-ec7d82fb-5e5c-4cd9-a1fd-627403002862 button');\n",
              "          quickchartButtonEl.style.display =\n",
              "            google.colab.kernel.accessAllowed ? 'block' : 'none';\n",
              "        })();\n",
              "      </script>\n",
              "    </div>\n",
              "\n",
              "  <div id=\"id_be32e971-1138-4d23-bbd3-5fdc5ec133bb\">\n",
              "    <style>\n",
              "      .colab-df-generate {\n",
              "        background-color: #E8F0FE;\n",
              "        border: none;\n",
              "        border-radius: 50%;\n",
              "        cursor: pointer;\n",
              "        display: none;\n",
              "        fill: #1967D2;\n",
              "        height: 32px;\n",
              "        padding: 0 0 0 0;\n",
              "        width: 32px;\n",
              "      }\n",
              "\n",
              "      .colab-df-generate:hover {\n",
              "        background-color: #E2EBFA;\n",
              "        box-shadow: 0px 1px 2px rgba(60, 64, 67, 0.3), 0px 1px 3px 1px rgba(60, 64, 67, 0.15);\n",
              "        fill: #174EA6;\n",
              "      }\n",
              "\n",
              "      [theme=dark] .colab-df-generate {\n",
              "        background-color: #3B4455;\n",
              "        fill: #D2E3FC;\n",
              "      }\n",
              "\n",
              "      [theme=dark] .colab-df-generate:hover {\n",
              "        background-color: #434B5C;\n",
              "        box-shadow: 0px 1px 3px 1px rgba(0, 0, 0, 0.15);\n",
              "        filter: drop-shadow(0px 1px 2px rgba(0, 0, 0, 0.3));\n",
              "        fill: #FFFFFF;\n",
              "      }\n",
              "    </style>\n",
              "    <button class=\"colab-df-generate\" onclick=\"generateWithVariable('compare_results')\"\n",
              "            title=\"Generate code using this dataframe.\"\n",
              "            style=\"display:none;\">\n",
              "\n",
              "  <svg xmlns=\"http://www.w3.org/2000/svg\" height=\"24px\"viewBox=\"0 0 24 24\"\n",
              "       width=\"24px\">\n",
              "    <path d=\"M7,19H8.4L18.45,9,17,7.55,7,17.6ZM5,21V16.75L18.45,3.32a2,2,0,0,1,2.83,0l1.4,1.43a1.91,1.91,0,0,1,.58,1.4,1.91,1.91,0,0,1-.58,1.4L9.25,21ZM18.45,9,17,7.55Zm-12,3A5.31,5.31,0,0,0,4.9,8.1,5.31,5.31,0,0,0,1,6.5,5.31,5.31,0,0,0,4.9,4.9,5.31,5.31,0,0,0,6.5,1,5.31,5.31,0,0,0,8.1,4.9,5.31,5.31,0,0,0,12,6.5,5.46,5.46,0,0,0,6.5,12Z\"/>\n",
              "  </svg>\n",
              "    </button>\n",
              "    <script>\n",
              "      (() => {\n",
              "      const buttonEl =\n",
              "        document.querySelector('#id_be32e971-1138-4d23-bbd3-5fdc5ec133bb button.colab-df-generate');\n",
              "      buttonEl.style.display =\n",
              "        google.colab.kernel.accessAllowed ? 'block' : 'none';\n",
              "\n",
              "      buttonEl.onclick = () => {\n",
              "        google.colab.notebook.generateWithVariable('compare_results');\n",
              "      }\n",
              "      })();\n",
              "    </script>\n",
              "  </div>\n",
              "\n",
              "    </div>\n",
              "  </div>\n"
            ],
            "application/vnd.google.colaboratory.intrinsic+json": {
              "type": "dataframe",
              "variable_name": "compare_results",
              "summary": "{\n  \"name\": \"compare_results\",\n  \"rows\": 3,\n  \"fields\": [\n    {\n      \"column\": \"model_name\",\n      \"properties\": {\n        \"dtype\": \"string\",\n        \"num_unique_values\": 3,\n        \"samples\": [\n          \"FashionMNISTModelV0\",\n          \"FashionMNISTModelV1\",\n          \"FashionMNISTModelV2\"\n        ],\n        \"semantic_type\": \"\",\n        \"description\": \"\"\n      }\n    },\n    {\n      \"column\": \"model_loss\",\n      \"properties\": {\n        \"dtype\": \"number\",\n        \"std\": 0.13084809923635657,\n        \"min\": 0.322832852602005,\n        \"max\": 0.57332843542099,\n        \"num_unique_values\": 3,\n        \"samples\": [\n          0.5136752128601074,\n          0.57332843542099,\n          0.322832852602005\n        ],\n        \"semantic_type\": \"\",\n        \"description\": \"\"\n      }\n    },\n    {\n      \"column\": \"model_acc\",\n      \"properties\": {\n        \"dtype\": \"number\",\n        \"std\": 4.33271434006286,\n        \"min\": 79.84225239616613,\n        \"max\": 88.18889776357827,\n        \"num_unique_values\": 3,\n        \"samples\": [\n          81.9988019169329,\n          79.84225239616613,\n          88.18889776357827\n        ],\n        \"semantic_type\": \"\",\n        \"description\": \"\"\n      }\n    }\n  ]\n}"
            }
          },
          "metadata": {},
          "execution_count": 50
        }
      ]
    },
    {
      "cell_type": "code",
      "source": [
        "# Add training time to results comparison\n",
        "compare_results[\"training_time\"] = [total_train_time_model_0,\n",
        "                                    total_train_time_model_1,\n",
        "                                    total_train_time_model_2]\n",
        "compare_results"
      ],
      "metadata": {
        "colab": {
          "base_uri": "https://localhost:8080/",
          "height": 144
        },
        "id": "7qY9Xmjk4a0T",
        "outputId": "690ee824-c75d-47b9-efda-78bc7e8d4930"
      },
      "execution_count": 51,
      "outputs": [
        {
          "output_type": "execute_result",
          "data": {
            "text/plain": [
              "            model_name  model_loss  model_acc  training_time\n",
              "0  FashionMNISTModelV0    0.513675  81.998802      28.664425\n",
              "1  FashionMNISTModelV1    0.573328  79.842252      32.395634\n",
              "2  FashionMNISTModelV2    0.322833  88.188898      37.434590"
            ],
            "text/html": [
              "\n",
              "  <div id=\"df-c63d2049-5ce9-4ed8-831c-dd749609814a\" class=\"colab-df-container\">\n",
              "    <div>\n",
              "<style scoped>\n",
              "    .dataframe tbody tr th:only-of-type {\n",
              "        vertical-align: middle;\n",
              "    }\n",
              "\n",
              "    .dataframe tbody tr th {\n",
              "        vertical-align: top;\n",
              "    }\n",
              "\n",
              "    .dataframe thead th {\n",
              "        text-align: right;\n",
              "    }\n",
              "</style>\n",
              "<table border=\"1\" class=\"dataframe\">\n",
              "  <thead>\n",
              "    <tr style=\"text-align: right;\">\n",
              "      <th></th>\n",
              "      <th>model_name</th>\n",
              "      <th>model_loss</th>\n",
              "      <th>model_acc</th>\n",
              "      <th>training_time</th>\n",
              "    </tr>\n",
              "  </thead>\n",
              "  <tbody>\n",
              "    <tr>\n",
              "      <th>0</th>\n",
              "      <td>FashionMNISTModelV0</td>\n",
              "      <td>0.513675</td>\n",
              "      <td>81.998802</td>\n",
              "      <td>28.664425</td>\n",
              "    </tr>\n",
              "    <tr>\n",
              "      <th>1</th>\n",
              "      <td>FashionMNISTModelV1</td>\n",
              "      <td>0.573328</td>\n",
              "      <td>79.842252</td>\n",
              "      <td>32.395634</td>\n",
              "    </tr>\n",
              "    <tr>\n",
              "      <th>2</th>\n",
              "      <td>FashionMNISTModelV2</td>\n",
              "      <td>0.322833</td>\n",
              "      <td>88.188898</td>\n",
              "      <td>37.434590</td>\n",
              "    </tr>\n",
              "  </tbody>\n",
              "</table>\n",
              "</div>\n",
              "    <div class=\"colab-df-buttons\">\n",
              "\n",
              "  <div class=\"colab-df-container\">\n",
              "    <button class=\"colab-df-convert\" onclick=\"convertToInteractive('df-c63d2049-5ce9-4ed8-831c-dd749609814a')\"\n",
              "            title=\"Convert this dataframe to an interactive table.\"\n",
              "            style=\"display:none;\">\n",
              "\n",
              "  <svg xmlns=\"http://www.w3.org/2000/svg\" height=\"24px\" viewBox=\"0 -960 960 960\">\n",
              "    <path d=\"M120-120v-720h720v720H120Zm60-500h600v-160H180v160Zm220 220h160v-160H400v160Zm0 220h160v-160H400v160ZM180-400h160v-160H180v160Zm440 0h160v-160H620v160ZM180-180h160v-160H180v160Zm440 0h160v-160H620v160Z\"/>\n",
              "  </svg>\n",
              "    </button>\n",
              "\n",
              "  <style>\n",
              "    .colab-df-container {\n",
              "      display:flex;\n",
              "      gap: 12px;\n",
              "    }\n",
              "\n",
              "    .colab-df-convert {\n",
              "      background-color: #E8F0FE;\n",
              "      border: none;\n",
              "      border-radius: 50%;\n",
              "      cursor: pointer;\n",
              "      display: none;\n",
              "      fill: #1967D2;\n",
              "      height: 32px;\n",
              "      padding: 0 0 0 0;\n",
              "      width: 32px;\n",
              "    }\n",
              "\n",
              "    .colab-df-convert:hover {\n",
              "      background-color: #E2EBFA;\n",
              "      box-shadow: 0px 1px 2px rgba(60, 64, 67, 0.3), 0px 1px 3px 1px rgba(60, 64, 67, 0.15);\n",
              "      fill: #174EA6;\n",
              "    }\n",
              "\n",
              "    .colab-df-buttons div {\n",
              "      margin-bottom: 4px;\n",
              "    }\n",
              "\n",
              "    [theme=dark] .colab-df-convert {\n",
              "      background-color: #3B4455;\n",
              "      fill: #D2E3FC;\n",
              "    }\n",
              "\n",
              "    [theme=dark] .colab-df-convert:hover {\n",
              "      background-color: #434B5C;\n",
              "      box-shadow: 0px 1px 3px 1px rgba(0, 0, 0, 0.15);\n",
              "      filter: drop-shadow(0px 1px 2px rgba(0, 0, 0, 0.3));\n",
              "      fill: #FFFFFF;\n",
              "    }\n",
              "  </style>\n",
              "\n",
              "    <script>\n",
              "      const buttonEl =\n",
              "        document.querySelector('#df-c63d2049-5ce9-4ed8-831c-dd749609814a button.colab-df-convert');\n",
              "      buttonEl.style.display =\n",
              "        google.colab.kernel.accessAllowed ? 'block' : 'none';\n",
              "\n",
              "      async function convertToInteractive(key) {\n",
              "        const element = document.querySelector('#df-c63d2049-5ce9-4ed8-831c-dd749609814a');\n",
              "        const dataTable =\n",
              "          await google.colab.kernel.invokeFunction('convertToInteractive',\n",
              "                                                    [key], {});\n",
              "        if (!dataTable) return;\n",
              "\n",
              "        const docLinkHtml = 'Like what you see? Visit the ' +\n",
              "          '<a target=\"_blank\" href=https://colab.research.google.com/notebooks/data_table.ipynb>data table notebook</a>'\n",
              "          + ' to learn more about interactive tables.';\n",
              "        element.innerHTML = '';\n",
              "        dataTable['output_type'] = 'display_data';\n",
              "        await google.colab.output.renderOutput(dataTable, element);\n",
              "        const docLink = document.createElement('div');\n",
              "        docLink.innerHTML = docLinkHtml;\n",
              "        element.appendChild(docLink);\n",
              "      }\n",
              "    </script>\n",
              "  </div>\n",
              "\n",
              "\n",
              "    <div id=\"df-d7314656-cc9d-4ff0-ad60-f97aec0d2fe6\">\n",
              "      <button class=\"colab-df-quickchart\" onclick=\"quickchart('df-d7314656-cc9d-4ff0-ad60-f97aec0d2fe6')\"\n",
              "                title=\"Suggest charts\"\n",
              "                style=\"display:none;\">\n",
              "\n",
              "<svg xmlns=\"http://www.w3.org/2000/svg\" height=\"24px\"viewBox=\"0 0 24 24\"\n",
              "     width=\"24px\">\n",
              "    <g>\n",
              "        <path d=\"M19 3H5c-1.1 0-2 .9-2 2v14c0 1.1.9 2 2 2h14c1.1 0 2-.9 2-2V5c0-1.1-.9-2-2-2zM9 17H7v-7h2v7zm4 0h-2V7h2v10zm4 0h-2v-4h2v4z\"/>\n",
              "    </g>\n",
              "</svg>\n",
              "      </button>\n",
              "\n",
              "<style>\n",
              "  .colab-df-quickchart {\n",
              "      --bg-color: #E8F0FE;\n",
              "      --fill-color: #1967D2;\n",
              "      --hover-bg-color: #E2EBFA;\n",
              "      --hover-fill-color: #174EA6;\n",
              "      --disabled-fill-color: #AAA;\n",
              "      --disabled-bg-color: #DDD;\n",
              "  }\n",
              "\n",
              "  [theme=dark] .colab-df-quickchart {\n",
              "      --bg-color: #3B4455;\n",
              "      --fill-color: #D2E3FC;\n",
              "      --hover-bg-color: #434B5C;\n",
              "      --hover-fill-color: #FFFFFF;\n",
              "      --disabled-bg-color: #3B4455;\n",
              "      --disabled-fill-color: #666;\n",
              "  }\n",
              "\n",
              "  .colab-df-quickchart {\n",
              "    background-color: var(--bg-color);\n",
              "    border: none;\n",
              "    border-radius: 50%;\n",
              "    cursor: pointer;\n",
              "    display: none;\n",
              "    fill: var(--fill-color);\n",
              "    height: 32px;\n",
              "    padding: 0;\n",
              "    width: 32px;\n",
              "  }\n",
              "\n",
              "  .colab-df-quickchart:hover {\n",
              "    background-color: var(--hover-bg-color);\n",
              "    box-shadow: 0 1px 2px rgba(60, 64, 67, 0.3), 0 1px 3px 1px rgba(60, 64, 67, 0.15);\n",
              "    fill: var(--button-hover-fill-color);\n",
              "  }\n",
              "\n",
              "  .colab-df-quickchart-complete:disabled,\n",
              "  .colab-df-quickchart-complete:disabled:hover {\n",
              "    background-color: var(--disabled-bg-color);\n",
              "    fill: var(--disabled-fill-color);\n",
              "    box-shadow: none;\n",
              "  }\n",
              "\n",
              "  .colab-df-spinner {\n",
              "    border: 2px solid var(--fill-color);\n",
              "    border-color: transparent;\n",
              "    border-bottom-color: var(--fill-color);\n",
              "    animation:\n",
              "      spin 1s steps(1) infinite;\n",
              "  }\n",
              "\n",
              "  @keyframes spin {\n",
              "    0% {\n",
              "      border-color: transparent;\n",
              "      border-bottom-color: var(--fill-color);\n",
              "      border-left-color: var(--fill-color);\n",
              "    }\n",
              "    20% {\n",
              "      border-color: transparent;\n",
              "      border-left-color: var(--fill-color);\n",
              "      border-top-color: var(--fill-color);\n",
              "    }\n",
              "    30% {\n",
              "      border-color: transparent;\n",
              "      border-left-color: var(--fill-color);\n",
              "      border-top-color: var(--fill-color);\n",
              "      border-right-color: var(--fill-color);\n",
              "    }\n",
              "    40% {\n",
              "      border-color: transparent;\n",
              "      border-right-color: var(--fill-color);\n",
              "      border-top-color: var(--fill-color);\n",
              "    }\n",
              "    60% {\n",
              "      border-color: transparent;\n",
              "      border-right-color: var(--fill-color);\n",
              "    }\n",
              "    80% {\n",
              "      border-color: transparent;\n",
              "      border-right-color: var(--fill-color);\n",
              "      border-bottom-color: var(--fill-color);\n",
              "    }\n",
              "    90% {\n",
              "      border-color: transparent;\n",
              "      border-bottom-color: var(--fill-color);\n",
              "    }\n",
              "  }\n",
              "</style>\n",
              "\n",
              "      <script>\n",
              "        async function quickchart(key) {\n",
              "          const quickchartButtonEl =\n",
              "            document.querySelector('#' + key + ' button');\n",
              "          quickchartButtonEl.disabled = true;  // To prevent multiple clicks.\n",
              "          quickchartButtonEl.classList.add('colab-df-spinner');\n",
              "          try {\n",
              "            const charts = await google.colab.kernel.invokeFunction(\n",
              "                'suggestCharts', [key], {});\n",
              "          } catch (error) {\n",
              "            console.error('Error during call to suggestCharts:', error);\n",
              "          }\n",
              "          quickchartButtonEl.classList.remove('colab-df-spinner');\n",
              "          quickchartButtonEl.classList.add('colab-df-quickchart-complete');\n",
              "        }\n",
              "        (() => {\n",
              "          let quickchartButtonEl =\n",
              "            document.querySelector('#df-d7314656-cc9d-4ff0-ad60-f97aec0d2fe6 button');\n",
              "          quickchartButtonEl.style.display =\n",
              "            google.colab.kernel.accessAllowed ? 'block' : 'none';\n",
              "        })();\n",
              "      </script>\n",
              "    </div>\n",
              "\n",
              "  <div id=\"id_981ca409-e88f-458d-ab45-2d5a87b4f143\">\n",
              "    <style>\n",
              "      .colab-df-generate {\n",
              "        background-color: #E8F0FE;\n",
              "        border: none;\n",
              "        border-radius: 50%;\n",
              "        cursor: pointer;\n",
              "        display: none;\n",
              "        fill: #1967D2;\n",
              "        height: 32px;\n",
              "        padding: 0 0 0 0;\n",
              "        width: 32px;\n",
              "      }\n",
              "\n",
              "      .colab-df-generate:hover {\n",
              "        background-color: #E2EBFA;\n",
              "        box-shadow: 0px 1px 2px rgba(60, 64, 67, 0.3), 0px 1px 3px 1px rgba(60, 64, 67, 0.15);\n",
              "        fill: #174EA6;\n",
              "      }\n",
              "\n",
              "      [theme=dark] .colab-df-generate {\n",
              "        background-color: #3B4455;\n",
              "        fill: #D2E3FC;\n",
              "      }\n",
              "\n",
              "      [theme=dark] .colab-df-generate:hover {\n",
              "        background-color: #434B5C;\n",
              "        box-shadow: 0px 1px 3px 1px rgba(0, 0, 0, 0.15);\n",
              "        filter: drop-shadow(0px 1px 2px rgba(0, 0, 0, 0.3));\n",
              "        fill: #FFFFFF;\n",
              "      }\n",
              "    </style>\n",
              "    <button class=\"colab-df-generate\" onclick=\"generateWithVariable('compare_results')\"\n",
              "            title=\"Generate code using this dataframe.\"\n",
              "            style=\"display:none;\">\n",
              "\n",
              "  <svg xmlns=\"http://www.w3.org/2000/svg\" height=\"24px\"viewBox=\"0 0 24 24\"\n",
              "       width=\"24px\">\n",
              "    <path d=\"M7,19H8.4L18.45,9,17,7.55,7,17.6ZM5,21V16.75L18.45,3.32a2,2,0,0,1,2.83,0l1.4,1.43a1.91,1.91,0,0,1,.58,1.4,1.91,1.91,0,0,1-.58,1.4L9.25,21ZM18.45,9,17,7.55Zm-12,3A5.31,5.31,0,0,0,4.9,8.1,5.31,5.31,0,0,0,1,6.5,5.31,5.31,0,0,0,4.9,4.9,5.31,5.31,0,0,0,6.5,1,5.31,5.31,0,0,0,8.1,4.9,5.31,5.31,0,0,0,12,6.5,5.46,5.46,0,0,0,6.5,12Z\"/>\n",
              "  </svg>\n",
              "    </button>\n",
              "    <script>\n",
              "      (() => {\n",
              "      const buttonEl =\n",
              "        document.querySelector('#id_981ca409-e88f-458d-ab45-2d5a87b4f143 button.colab-df-generate');\n",
              "      buttonEl.style.display =\n",
              "        google.colab.kernel.accessAllowed ? 'block' : 'none';\n",
              "\n",
              "      buttonEl.onclick = () => {\n",
              "        google.colab.notebook.generateWithVariable('compare_results');\n",
              "      }\n",
              "      })();\n",
              "    </script>\n",
              "  </div>\n",
              "\n",
              "    </div>\n",
              "  </div>\n"
            ],
            "application/vnd.google.colaboratory.intrinsic+json": {
              "type": "dataframe",
              "variable_name": "compare_results",
              "summary": "{\n  \"name\": \"compare_results\",\n  \"rows\": 3,\n  \"fields\": [\n    {\n      \"column\": \"model_name\",\n      \"properties\": {\n        \"dtype\": \"string\",\n        \"num_unique_values\": 3,\n        \"samples\": [\n          \"FashionMNISTModelV0\",\n          \"FashionMNISTModelV1\",\n          \"FashionMNISTModelV2\"\n        ],\n        \"semantic_type\": \"\",\n        \"description\": \"\"\n      }\n    },\n    {\n      \"column\": \"model_loss\",\n      \"properties\": {\n        \"dtype\": \"number\",\n        \"std\": 0.13084809923635657,\n        \"min\": 0.322832852602005,\n        \"max\": 0.57332843542099,\n        \"num_unique_values\": 3,\n        \"samples\": [\n          0.5136752128601074,\n          0.57332843542099,\n          0.322832852602005\n        ],\n        \"semantic_type\": \"\",\n        \"description\": \"\"\n      }\n    },\n    {\n      \"column\": \"model_acc\",\n      \"properties\": {\n        \"dtype\": \"number\",\n        \"std\": 4.33271434006286,\n        \"min\": 79.84225239616613,\n        \"max\": 88.18889776357827,\n        \"num_unique_values\": 3,\n        \"samples\": [\n          81.9988019169329,\n          79.84225239616613,\n          88.18889776357827\n        ],\n        \"semantic_type\": \"\",\n        \"description\": \"\"\n      }\n    },\n    {\n      \"column\": \"training_time\",\n      \"properties\": {\n        \"dtype\": \"number\",\n        \"std\": 4.401302664768799,\n        \"min\": 28.664424595,\n        \"max\": 37.43458955400001,\n        \"num_unique_values\": 3,\n        \"samples\": [\n          28.664424595,\n          32.395633704000005,\n          37.43458955400001\n        ],\n        \"semantic_type\": \"\",\n        \"description\": \"\"\n      }\n    }\n  ]\n}"
            }
          },
          "metadata": {},
          "execution_count": 51
        }
      ]
    },
    {
      "cell_type": "code",
      "source": [
        "# Visualize our model results\n",
        "compare_results.set_index(\"model_name\")[\"model_acc\"].plot(kind=\"barh\")\n",
        "plt.xlabel(\"accuracy (%)\")\n",
        "plt.ylabel(\"Model\");"
      ],
      "metadata": {
        "colab": {
          "base_uri": "https://localhost:8080/",
          "height": 449
        },
        "id": "ZS9ilnCa5n_l",
        "outputId": "9c6c457a-b522-47e8-d711-c1364270ba44"
      },
      "execution_count": 52,
      "outputs": [
        {
          "output_type": "display_data",
          "data": {
            "text/plain": [
              "<Figure size 640x480 with 1 Axes>"
            ],
            "image/png": "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\n"
          },
          "metadata": {}
        }
      ]
    },
    {
      "cell_type": "markdown",
      "source": [
        "## 9. Make and evaluate random predictions with the best model"
      ],
      "metadata": {
        "id": "4kBBrUBd5n2G"
      }
    },
    {
      "cell_type": "code",
      "source": [
        "def make_predictions(model: torch.nn.Module,\n",
        "                     data: list,\n",
        "                     device: torch.device = device):\n",
        "  pred_probs = []\n",
        "  model.to(device)\n",
        "  model.eval()\n",
        "  with torch.inference_mode():\n",
        "    for sample in data:\n",
        "      # Prepare sample (add a batch dimension and pass to target device)\n",
        "      sample = torch.unsqueeze(sample, dim=0).to(device)\n",
        "\n",
        "      # Forward pass (model outputs raw logits)\n",
        "      pred_logit = model(sample)\n",
        "\n",
        "      # Get prediction probability (logit -> prediction probability)\n",
        "      pred_prob = torch.softmax(pred_logit.squeeze(), dim=0)\n",
        "\n",
        "      # Get pred_prob off GPU for further calculations\n",
        "      pred_probs.append(pred_prob.cpu())\n",
        "\n",
        "  # Stack the pred_probs to turn list into a tensor\n",
        "  return torch.stack(pred_probs)"
      ],
      "metadata": {
        "id": "ymlbJT8c5nlz"
      },
      "execution_count": 53,
      "outputs": []
    },
    {
      "cell_type": "code",
      "source": [
        "import random\n",
        "# random.seed(42)\n",
        "test_samples = []\n",
        "test_labels = []\n",
        "for sample, label in random.sample(list(test_data), k=9):\n",
        "  test_samples.append(sample)\n",
        "  test_labels.append(label)\n",
        "\n",
        "# view the first sample shape\n",
        "test_samples[0].shape"
      ],
      "metadata": {
        "id": "TLk5WYHI5nYm",
        "colab": {
          "base_uri": "https://localhost:8080/"
        },
        "outputId": "58392a82-4ae4-4a8a-e0cd-c6d353ff127d"
      },
      "execution_count": 54,
      "outputs": [
        {
          "output_type": "execute_result",
          "data": {
            "text/plain": [
              "torch.Size([1, 28, 28])"
            ]
          },
          "metadata": {},
          "execution_count": 54
        }
      ]
    },
    {
      "cell_type": "code",
      "source": [
        "plt.imshow(test_samples[0].squeeze(), cmap=\"gray\")\n",
        "plt.title(class_names[test_labels[0]])"
      ],
      "metadata": {
        "id": "Mk0k_fW_5nFl",
        "colab": {
          "base_uri": "https://localhost:8080/",
          "height": 469
        },
        "outputId": "83d5ef21-29d7-456f-a8f2-73743ecdf9b9"
      },
      "execution_count": 55,
      "outputs": [
        {
          "output_type": "execute_result",
          "data": {
            "text/plain": [
              "Text(0.5, 1.0, 'T-shirt/top')"
            ]
          },
          "metadata": {},
          "execution_count": 55
        },
        {
          "output_type": "display_data",
          "data": {
            "text/plain": [
              "<Figure size 640x480 with 1 Axes>"
            ],
            "image/png": "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\n"
          },
          "metadata": {}
        }
      ]
    },
    {
      "cell_type": "code",
      "source": [
        "# Make predictions\n",
        "pred_probs = make_predictions(model=model_2,\n",
        "                              data=test_samples)\n",
        "#view first two probabilities\n",
        "pred_probs[:2]"
      ],
      "metadata": {
        "id": "L-P10Bor5m_y",
        "colab": {
          "base_uri": "https://localhost:8080/"
        },
        "outputId": "78dfcdd4-7cca-4b1e-d5aa-5886844a7aac"
      },
      "execution_count": 56,
      "outputs": [
        {
          "output_type": "execute_result",
          "data": {
            "text/plain": [
              "tensor([[5.2508e-01, 1.6767e-03, 2.4678e-02, 4.8256e-02, 4.0536e-04, 5.8501e-05,\n",
              "         3.9929e-01, 7.4739e-05, 4.4555e-04, 3.0003e-05],\n",
              "        [4.4493e-02, 4.7953e-03, 1.0459e-01, 7.2276e-01, 3.0016e-02, 1.7876e-04,\n",
              "         9.1100e-02, 1.4527e-04, 1.8837e-03, 3.5322e-05]])"
            ]
          },
          "metadata": {},
          "execution_count": 56
        }
      ]
    },
    {
      "cell_type": "code",
      "source": [
        "# Convert prediction probabiliets to labels\n",
        "pred_classes = pred_probs.argmax(dim=1)\n",
        "pred_classes"
      ],
      "metadata": {
        "colab": {
          "base_uri": "https://localhost:8080/"
        },
        "id": "_Gkxqg2_oVLY",
        "outputId": "1a37244b-375e-4de2-a4cd-19ed309bef9b"
      },
      "execution_count": 57,
      "outputs": [
        {
          "output_type": "execute_result",
          "data": {
            "text/plain": [
              "tensor([0, 3, 1, 2, 5, 4, 7, 1, 3])"
            ]
          },
          "metadata": {},
          "execution_count": 57
        }
      ]
    },
    {
      "cell_type": "code",
      "source": [
        "test_labels"
      ],
      "metadata": {
        "colab": {
          "base_uri": "https://localhost:8080/"
        },
        "id": "yN7oILnHpS-b",
        "outputId": "c104b15a-ca50-49b9-a644-4838633cc142"
      },
      "execution_count": 58,
      "outputs": [
        {
          "output_type": "execute_result",
          "data": {
            "text/plain": [
              "[0, 3, 1, 2, 5, 4, 9, 1, 3]"
            ]
          },
          "metadata": {},
          "execution_count": 58
        }
      ]
    },
    {
      "cell_type": "code",
      "source": [
        "# Plot predictions\n",
        "plt.figure(figsize=(9, 9))\n",
        "nrows = 3\n",
        "ncols = 3\n",
        "for i, sample in enumerate(test_samples):\n",
        "  # Create subplot\n",
        "  plt.subplot(nrows, ncols, i+1)\n",
        "\n",
        "  # Plot the target image\n",
        "  plt.imshow(sample.squeeze(), cmap=\"gray\")\n",
        "\n",
        "  # Find the prediction (in text form)\n",
        "  pred_label = class_names[pred_classes[i]]\n",
        "\n",
        "  # Get the truth label (in text form)\n",
        "  truth_label = class_names[test_labels[i]]\n",
        "\n",
        "  # Create the title text of the plot\n",
        "  title_text = f\"Pred: {pred_label} | Truth: {truth_label}\"\n",
        "\n",
        "  # Check for equality between pred and truth and change color of title text\n",
        "  if pred_label == truth_label:\n",
        "    plt.title(title_text, fontsize=10, c=\"g\") # green text if prediction same as truth\n",
        "  else:\n",
        "    plt.title(title_text, fontsize=10, c=\"r\")\n",
        "\n",
        "  plt.axis(\"off\")"
      ],
      "metadata": {
        "colab": {
          "base_uri": "https://localhost:8080/",
          "height": 735
        },
        "id": "zWNOZ3N5oVFG",
        "outputId": "7c122b06-323a-4748-b42f-d274632a4bf6"
      },
      "execution_count": 59,
      "outputs": [
        {
          "output_type": "display_data",
          "data": {
            "text/plain": [
              "<Figure size 900x900 with 9 Axes>"
            ],
            "image/png": "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\n"
          },
          "metadata": {}
        }
      ]
    },
    {
      "cell_type": "markdown",
      "source": [
        "## 10. Making a confusion matrix for further prediction evaluation\n",
        "\n",
        "A confusion matrix is a fantastic way of evaluating your classification models visually\n",
        "\n",
        "1. Make prtedictions with our trained model on the test dataset\n",
        "2. Make a confusion matrix `torchmatrics.ConfusionMatrix`\n",
        "3. Plot the confusion matrix using `mlxtend.plotting.plot_confusion_matrix()`"
      ],
      "metadata": {
        "id": "r0L5rBP0zeVn"
      }
    },
    {
      "cell_type": "code",
      "source": [
        "# Import tqdm.auto\n",
        "from tqdm.auto import tqdm\n",
        "\n",
        "\n",
        "# 1. Make predictions with trained model\n",
        "y_preds = []\n",
        "model_2.eval()\n",
        "with torch.inference_mode():\n",
        "  for X, y in tqdm(test_dataloader, desc=\"Making predictions...\"):\n",
        "    # Put data on target device\n",
        "    X, y = X.to(device), y.to(device)\n",
        "    # Do the forward pass\n",
        "    y_logit = model_2(X)\n",
        "    # Turn predictions from logits -> prediction probabilities -> prediction labels\n",
        "    y_pred = torch.softmax(y_logit.squeeze(), dim=0).argmax(dim=1)\n",
        "    # Put prediction on CPU for evaluation\n",
        "    y_preds.append(y_pred.cpu())\n",
        "\n",
        "# Concatenate list of predictions into a tensor\n",
        "# print(y_preds)\n",
        "y_pred_tensor = torch.cat(y_preds)\n",
        "y_pred_tensor[:10]"
      ],
      "metadata": {
        "colab": {
          "base_uri": "https://localhost:8080/",
          "height": 66,
          "referenced_widgets": [
            "1f1f466c14684fa19c065bafc04d17c5",
            "005775a92aae4764bede99acd07ee32b",
            "b942da9618d94a10b262498de0b1b62c",
            "39c30fc2ecad427f850b66b591f56945",
            "5ff2e90a3300428c91a68696f4e9fadd",
            "27866cd5e3be4846b3783b549956bf75",
            "5c185781d495429a9e61b65c2eba0f04",
            "0551a1ab245d4bf2bdf702eddcff2326",
            "3f9037250ff949ad99fabf6e9c9e5096",
            "155a9443710d4a7688afa3ebc7e60dc4",
            "161b90ce2d424ee3830e77bcbac84802"
          ]
        },
        "id": "5gXxZjoh1ddJ",
        "outputId": "ba52eb78-c7e1-4dce-9ec3-620713033732"
      },
      "execution_count": 60,
      "outputs": [
        {
          "output_type": "display_data",
          "data": {
            "text/plain": [
              "Making predictions...:   0%|          | 0/313 [00:00<?, ?it/s]"
            ],
            "application/vnd.jupyter.widget-view+json": {
              "version_major": 2,
              "version_minor": 0,
              "model_id": "1f1f466c14684fa19c065bafc04d17c5"
            }
          },
          "metadata": {}
        },
        {
          "output_type": "execute_result",
          "data": {
            "text/plain": [
              "tensor([9, 2, 1, 1, 6, 1, 4, 6, 5, 7])"
            ]
          },
          "metadata": {},
          "execution_count": 60
        }
      ]
    },
    {
      "cell_type": "code",
      "source": [
        "len(y_pred_tensor)"
      ],
      "metadata": {
        "colab": {
          "base_uri": "https://localhost:8080/"
        },
        "id": "F1BE2RPo327F",
        "outputId": "3fdfc5bd-a872-4b62-aa89-f64944b9ecf7"
      },
      "execution_count": 61,
      "outputs": [
        {
          "output_type": "execute_result",
          "data": {
            "text/plain": [
              "10000"
            ]
          },
          "metadata": {},
          "execution_count": 61
        }
      ]
    },
    {
      "cell_type": "code",
      "source": [
        "# See if required packages are installed and if not, install them...\n",
        "try:\n",
        "  import torchmetrics, mlxtend\n",
        "  print(f\"mlxtend version: {mlxtend.__version__}\")\n",
        "  assert int(mlxtend.__version__.split(\".\")[1]) >= 19, \"mlxtend version should be 0.19.0 or higher\"\n",
        "except:\n",
        "  !pip install -q torchmetrics -U mlxtend\n",
        "  import torchmetrics, mlxtend\n",
        "  print(f\"mlxtend version: {mlxtend.__version__}\")"
      ],
      "metadata": {
        "colab": {
          "base_uri": "https://localhost:8080/"
        },
        "id": "2olTM4Fz4DnC",
        "outputId": "821548d3-39e1-435b-835e-abbbca3b2231"
      },
      "execution_count": 62,
      "outputs": [
        {
          "output_type": "stream",
          "name": "stdout",
          "text": [
            "\u001b[2K   \u001b[90m━━━━━━━━━━━━━━━━━━━━━━━━━━━━━━━━━━━━━━━━\u001b[0m \u001b[32m981.9/981.9 kB\u001b[0m \u001b[31m39.0 MB/s\u001b[0m eta \u001b[36m0:00:00\u001b[0m\n",
            "\u001b[2K   \u001b[90m━━━━━━━━━━━━━━━━━━━━━━━━━━━━━━━━━━━━━━━━\u001b[0m \u001b[32m363.4/363.4 MB\u001b[0m \u001b[31m2.8 MB/s\u001b[0m eta \u001b[36m0:00:00\u001b[0m\n",
            "\u001b[2K   \u001b[90m━━━━━━━━━━━━━━━━━━━━━━━━━━━━━━━━━━━━━━━━\u001b[0m \u001b[32m13.8/13.8 MB\u001b[0m \u001b[31m112.5 MB/s\u001b[0m eta \u001b[36m0:00:00\u001b[0m\n",
            "\u001b[2K   \u001b[90m━━━━━━━━━━━━━━━━━━━━━━━━━━━━━━━━━━━━━━━━\u001b[0m \u001b[32m24.6/24.6 MB\u001b[0m \u001b[31m91.5 MB/s\u001b[0m eta \u001b[36m0:00:00\u001b[0m\n",
            "\u001b[2K   \u001b[90m━━━━━━━━━━━━━━━━━━━━━━━━━━━━━━━━━━━━━━━━\u001b[0m \u001b[32m883.7/883.7 kB\u001b[0m \u001b[31m52.3 MB/s\u001b[0m eta \u001b[36m0:00:00\u001b[0m\n",
            "\u001b[2K   \u001b[90m━━━━━━━━━━━━━━━━━━━━━━━━━━━━━━━━━━━━━━━━\u001b[0m \u001b[32m664.8/664.8 MB\u001b[0m \u001b[31m2.4 MB/s\u001b[0m eta \u001b[36m0:00:00\u001b[0m\n",
            "\u001b[2K   \u001b[90m━━━━━━━━━━━━━━━━━━━━━━━━━━━━━━━━━━━━━━━━\u001b[0m \u001b[32m211.5/211.5 MB\u001b[0m \u001b[31m5.9 MB/s\u001b[0m eta \u001b[36m0:00:00\u001b[0m\n",
            "\u001b[2K   \u001b[90m━━━━━━━━━━━━━━━━━━━━━━━━━━━━━━━━━━━━━━━━\u001b[0m \u001b[32m56.3/56.3 MB\u001b[0m \u001b[31m14.5 MB/s\u001b[0m eta \u001b[36m0:00:00\u001b[0m\n",
            "\u001b[2K   \u001b[90m━━━━━━━━━━━━━━━━━━━━━━━━━━━━━━━━━━━━━━━━\u001b[0m \u001b[32m127.9/127.9 MB\u001b[0m \u001b[31m8.0 MB/s\u001b[0m eta \u001b[36m0:00:00\u001b[0m\n",
            "\u001b[2K   \u001b[90m━━━━━━━━━━━━━━━━━━━━━━━━━━━━━━━━━━━━━━━━\u001b[0m \u001b[32m207.5/207.5 MB\u001b[0m \u001b[31m5.8 MB/s\u001b[0m eta \u001b[36m0:00:00\u001b[0m\n",
            "\u001b[2K   \u001b[90m━━━━━━━━━━━━━━━━━━━━━━━━━━━━━━━━━━━━━━━━\u001b[0m \u001b[32m21.1/21.1 MB\u001b[0m \u001b[31m104.9 MB/s\u001b[0m eta \u001b[36m0:00:00\u001b[0m\n",
            "\u001b[?25hmlxtend version: 0.23.4\n"
          ]
        }
      ]
    },
    {
      "cell_type": "code",
      "source": [
        "import mlxtend"
      ],
      "metadata": {
        "id": "a2txT_NozeLA"
      },
      "execution_count": 63,
      "outputs": []
    },
    {
      "cell_type": "code",
      "source": [
        "mlxtend.__version__"
      ],
      "metadata": {
        "colab": {
          "base_uri": "https://localhost:8080/",
          "height": 35
        },
        "id": "VeauIQaDzeBH",
        "outputId": "fd457187-4f2a-4e91-9d20-3a736cceaec5"
      },
      "execution_count": 64,
      "outputs": [
        {
          "output_type": "execute_result",
          "data": {
            "text/plain": [
              "'0.23.4'"
            ],
            "application/vnd.google.colaboratory.intrinsic+json": {
              "type": "string"
            }
          },
          "metadata": {},
          "execution_count": 64
        }
      ]
    },
    {
      "cell_type": "code",
      "source": [
        "import mlxtend\n",
        "print(f\"mlxtend version: {mlxtend.__version__}\")"
      ],
      "metadata": {
        "colab": {
          "base_uri": "https://localhost:8080/"
        },
        "id": "Rf3eo3-6zd27",
        "outputId": "38b8693c-de60-4016-f055-678f3769ef50"
      },
      "execution_count": 65,
      "outputs": [
        {
          "output_type": "stream",
          "name": "stdout",
          "text": [
            "mlxtend version: 0.23.4\n"
          ]
        }
      ]
    },
    {
      "cell_type": "code",
      "source": [
        "class_names"
      ],
      "metadata": {
        "colab": {
          "base_uri": "https://localhost:8080/"
        },
        "id": "pONGfyj5aBcd",
        "outputId": "0d5e6a01-213a-4ad8-e3f5-12e11de86a7f"
      },
      "execution_count": 66,
      "outputs": [
        {
          "output_type": "execute_result",
          "data": {
            "text/plain": [
              "['T-shirt/top',\n",
              " 'Trouser',\n",
              " 'Pullover',\n",
              " 'Dress',\n",
              " 'Coat',\n",
              " 'Sandal',\n",
              " 'Shirt',\n",
              " 'Sneaker',\n",
              " 'Bag',\n",
              " 'Ankle boot']"
            ]
          },
          "metadata": {},
          "execution_count": 66
        }
      ]
    },
    {
      "cell_type": "code",
      "source": [
        "from torchmetrics import ConfusionMatrix\n",
        "from mlxtend.plotting import plot_confusion_matrix\n",
        "\n",
        "# 2. Setup confusion instance and compare predictions to targets\n",
        "confmat = ConfusionMatrix(task=\"multiclass\", num_classes=len(class_names))\n",
        "confmat_tensor = confmat(preds=y_pred_tensor,\n",
        "                         target=test_data.targets)\n",
        "\n",
        "# 3. Plot the confusion  matrix\n",
        "fig, ax = plot_confusion_matrix(\n",
        "    conf_mat=confmat_tensor.numpy(), # matplotlib likes working with numpy\n",
        "    class_names=class_names,\n",
        "    figsize=(10, 7),\n",
        ")"
      ],
      "metadata": {
        "id": "ka6WXe_6oU-0",
        "colab": {
          "base_uri": "https://localhost:8080/",
          "height": 667
        },
        "outputId": "b0c58458-921e-4379-f7c3-f34eb4248b66"
      },
      "execution_count": 72,
      "outputs": [
        {
          "output_type": "display_data",
          "data": {
            "text/plain": [
              "<Figure size 1000x700 with 1 Axes>"
            ],
            "image/png": "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\n"
          },
          "metadata": {}
        }
      ]
    },
    {
      "cell_type": "code",
      "source": [
        "confmat_tensor"
      ],
      "metadata": {
        "id": "gbMLnjIRoU5Z",
        "colab": {
          "base_uri": "https://localhost:8080/"
        },
        "outputId": "78aa1cae-94f6-4ad1-df07-69f87305ca96"
      },
      "execution_count": 70,
      "outputs": [
        {
          "output_type": "execute_result",
          "data": {
            "text/plain": [
              "tensor([[623,   7,  51,  82,  11,   0, 221,   0,   5,   0],\n",
              "        [ 11, 899,   3,  64,  19,   0,   3,   0,   1,   0],\n",
              "        [  7,   2, 809,   9, 107,   0,  62,   0,   4,   0],\n",
              "        [ 23,  12,  25, 846,  48,   0,  37,   0,   7,   2],\n",
              "        [  2,   7, 102,  37, 765,   0,  83,   0,   4,   0],\n",
              "        [  7,   3,   3,   9,   0, 810,   4,  61,  83,  20],\n",
              "        [ 68,   7, 127,  59,  98,   0, 635,   0,   6,   0],\n",
              "        [  1,   1,   0,   0,   0,  24,   0, 902,  16,  56],\n",
              "        [  7,   2,  22,  15,  11,   6,  33,   8, 895,   1],\n",
              "        [  0,   0,   1,   1,   0,  25,   2,  85,   8, 878]])"
            ]
          },
          "metadata": {},
          "execution_count": 70
        }
      ]
    },
    {
      "cell_type": "code",
      "source": [],
      "metadata": {
        "id": "Bncfym11oUyv"
      },
      "execution_count": 65,
      "outputs": []
    }
  ]
}
