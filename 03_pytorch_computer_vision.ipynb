{
  "nbformat": 4,
  "nbformat_minor": 0,
  "metadata": {
    "colab": {
      "provenance": [],
      "authorship_tag": "ABX9TyMkznNi0WT0NkvN8lDbenQm",
      "include_colab_link": true
    },
    "kernelspec": {
      "name": "python3",
      "display_name": "Python 3"
    },
    "language_info": {
      "name": "python"
    },
        },
        "1184aea9298e41f687dd814fb3694631": {
          "model_module": "@jupyter-widgets/controls",
          "model_name": "HTMLModel",
          "model_module_version": "1.5.0",
          "state": {
            "_dom_classes": [],
            "_model_module": "@jupyter-widgets/controls",
            "_model_module_version": "1.5.0",
            "_model_name": "HTMLModel",
            "_view_count": null,
            "_view_module": "@jupyter-widgets/controls",
            "_view_module_version": "1.5.0",
            "_view_name": "HTMLView",
            "description": "",
            "description_tooltip": null,
            "layout": "IPY_MODEL_57bf4d4047ab40c98c7406a62d243add",
            "placeholder": "​",
            "style": "IPY_MODEL_5a58495c1ca5424c9ab95c1e30d7c110",
            "value": "100%"
          }
        },
        "68c33509679c4f50806c99548c0a798e": {
          "model_module": "@jupyter-widgets/controls",
          "model_name": "FloatProgressModel",
          "model_module_version": "1.5.0",
          "state": {
            "_dom_classes": [],
            "_model_module": "@jupyter-widgets/controls",
            "_model_module_version": "1.5.0",
            "_model_name": "FloatProgressModel",
            "_view_count": null,
            "_view_module": "@jupyter-widgets/controls",
            "_view_module_version": "1.5.0",
            "_view_name": "ProgressView",
            "bar_style": "success",
            "description": "",
            "description_tooltip": null,
            "layout": "IPY_MODEL_4abb8fce56b141f9ba7b87cbb68d00cb",
            "max": 3,
            "min": 0,
            "orientation": "horizontal",
            "style": "IPY_MODEL_1b5f2917ab594071a3d927906c6eb177",
            "value": 3
          }
        },
        "cadf1351db56406bb89c354b48e696d4": {
          "model_module": "@jupyter-widgets/controls",
          "model_name": "HTMLModel",
          "model_module_version": "1.5.0",
          "state": {
            "_dom_classes": [],
            "_model_module": "@jupyter-widgets/controls",
            "_model_module_version": "1.5.0",
            "_model_name": "HTMLModel",
            "_view_count": null,
            "_view_module": "@jupyter-widgets/controls",
            "_view_module_version": "1.5.0",
            "_view_name": "HTMLView",
            "description": "",
            "description_tooltip": null,
            "layout": "IPY_MODEL_64203f852e4647dca937fae3a1a84da4",
            "placeholder": "​",
            "style": "IPY_MODEL_fbd5454d80c0401ab5a732505635c0dc",
            "value": " 3/3 [00:25&lt;00:00,  8.59s/it]"
          }
        },
        "9ddffb9404794c65bef8d18353cbbf12": {
          "model_module": "@jupyter-widgets/base",
          "model_name": "LayoutModel",
          "model_module_version": "1.2.0",
          "state": {
            "_model_module": "@jupyter-widgets/base",
            "_model_module_version": "1.2.0",
            "_model_name": "LayoutModel",
            "_view_count": null,
            "_view_module": "@jupyter-widgets/base",
            "_view_module_version": "1.2.0",
            "_view_name": "LayoutView",
            "align_content": null,
            "align_items": null,
            "align_self": null,
            "border": null,
            "bottom": null,
            "display": null,
            "flex": null,
            "flex_flow": null,
            "grid_area": null,
            "grid_auto_columns": null,
            "grid_auto_flow": null,
            "grid_auto_rows": null,
            "grid_column": null,
            "grid_gap": null,
            "grid_row": null,
            "grid_template_areas": null,
            "grid_template_columns": null,
            "grid_template_rows": null,
            "height": null,
            "justify_content": null,
            "justify_items": null,
            "left": null,
            "margin": null,
            "max_height": null,
            "max_width": null,
            "min_height": null,
            "min_width": null,
            "object_fit": null,
            "object_position": null,
            "order": null,
            "overflow": null,
            "overflow_x": null,
            "overflow_y": null,
            "padding": null,
            "right": null,
            "top": null,
            "visibility": null,
            "width": null
          }
        },
        "57bf4d4047ab40c98c7406a62d243add": {
          "model_module": "@jupyter-widgets/base",
          "model_name": "LayoutModel",
          "model_module_version": "1.2.0",
          "state": {
            "_model_module": "@jupyter-widgets/base",
            "_model_module_version": "1.2.0",
            "_model_name": "LayoutModel",
            "_view_count": null,
            "_view_module": "@jupyter-widgets/base",
            "_view_module_version": "1.2.0",
            "_view_name": "LayoutView",
            "align_content": null,
            "align_items": null,
            "align_self": null,
            "border": null,
            "bottom": null,
            "display": null,
            "flex": null,
            "flex_flow": null,
            "grid_area": null,
            "grid_auto_columns": null,
            "grid_auto_flow": null,
            "grid_auto_rows": null,
            "grid_column": null,
            "grid_gap": null,
            "grid_row": null,
            "grid_template_areas": null,
            "grid_template_columns": null,
            "grid_template_rows": null,
            "height": null,
            "justify_content": null,
            "justify_items": null,
            "left": null,
            "margin": null,
            "max_height": null,
            "max_width": null,
            "min_height": null,
            "min_width": null,
            "object_fit": null,
            "object_position": null,
            "order": null,
            "overflow": null,
            "overflow_x": null,
            "overflow_y": null,
            "padding": null,
            "right": null,
            "top": null,
            "visibility": null,
            "width": null
          }
        },
        "5a58495c1ca5424c9ab95c1e30d7c110": {
          "model_module": "@jupyter-widgets/controls",
          "model_name": "DescriptionStyleModel",
          "model_module_version": "1.5.0",
          "state": {
            "_model_module": "@jupyter-widgets/controls",
            "_model_module_version": "1.5.0",
            "_model_name": "DescriptionStyleModel",
            "_view_count": null,
            "_view_module": "@jupyter-widgets/base",
            "_view_module_version": "1.2.0",
            "_view_name": "StyleView",
            "description_width": ""
          }
        },
        "4abb8fce56b141f9ba7b87cbb68d00cb": {
          "model_module": "@jupyter-widgets/base",
          "model_name": "LayoutModel",
          "model_module_version": "1.2.0",
          "state": {
            "_model_module": "@jupyter-widgets/base",
            "_model_module_version": "1.2.0",
            "_model_name": "LayoutModel",
            "_view_count": null,
            "_view_module": "@jupyter-widgets/base",
            "_view_module_version": "1.2.0",
            "_view_name": "LayoutView",
            "align_content": null,
            "align_items": null,
            "align_self": null,
            "border": null,
            "bottom": null,
            "display": null,
            "flex": null,
            "flex_flow": null,
            "grid_area": null,
            "grid_auto_columns": null,
            "grid_auto_flow": null,
            "grid_auto_rows": null,
            "grid_column": null,
            "grid_gap": null,
            "grid_row": null,
            "grid_template_areas": null,
            "grid_template_columns": null,
            "grid_template_rows": null,
            "height": null,
            "justify_content": null,
            "justify_items": null,
            "left": null,
            "margin": null,
            "max_height": null,
            "max_width": null,
            "min_height": null,
            "min_width": null,
            "object_fit": null,
            "object_position": null,
            "order": null,
            "overflow": null,
            "overflow_x": null,
            "overflow_y": null,
            "padding": null,
            "right": null,
            "top": null,
            "visibility": null,
            "width": null
          }
        },
        "1b5f2917ab594071a3d927906c6eb177": {
          "model_module": "@jupyter-widgets/controls",
          "model_name": "ProgressStyleModel",
          "model_module_version": "1.5.0",
          "state": {
            "_model_module": "@jupyter-widgets/controls",
            "_model_module_version": "1.5.0",
            "_model_name": "ProgressStyleModel",
            "_view_count": null,
            "_view_module": "@jupyter-widgets/base",
            "_view_module_version": "1.2.0",
            "_view_name": "StyleView",
            "bar_color": null,
            "description_width": ""
          }
        },
        "64203f852e4647dca937fae3a1a84da4": {
          "model_module": "@jupyter-widgets/base",
          "model_name": "LayoutModel",
          "model_module_version": "1.2.0",
          "state": {
            "_model_module": "@jupyter-widgets/base",
            "_model_module_version": "1.2.0",
            "_model_name": "LayoutModel",
            "_view_count": null,
            "_view_module": "@jupyter-widgets/base",
            "_view_module_version": "1.2.0",
            "_view_name": "LayoutView",
            "align_content": null,
            "align_items": null,
            "align_self": null,
            "border": null,
            "bottom": null,
            "display": null,
            "flex": null,
            "flex_flow": null,
            "grid_area": null,
            "grid_auto_columns": null,
            "grid_auto_flow": null,
            "grid_auto_rows": null,
            "grid_column": null,
            "grid_gap": null,
            "grid_row": null,
            "grid_template_areas": null,
            "grid_template_columns": null,
            "grid_template_rows": null,
            "height": null,
            "justify_content": null,
            "justify_items": null,
            "left": null,
            "margin": null,
            "max_height": null,
            "max_width": null,
            "min_height": null,
            "min_width": null,
            "object_fit": null,
            "object_position": null,
            "order": null,
            "overflow": null,
            "overflow_x": null,
            "overflow_y": null,
            "padding": null,
            "right": null,
            "top": null,
            "visibility": null,
            "width": null
          }
        },
        "fbd5454d80c0401ab5a732505635c0dc": {
          "model_module": "@jupyter-widgets/controls",
          "model_name": "DescriptionStyleModel",
          "model_module_version": "1.5.0",
          "state": {
            "_model_module": "@jupyter-widgets/controls",
            "_model_module_version": "1.5.0",
            "_model_name": "DescriptionStyleModel",
            "_view_count": null,
            "_view_module": "@jupyter-widgets/base",
            "_view_module_version": "1.2.0",
            "_view_name": "StyleView",
            "description_width": ""
          }
        },
        "6964c24caa3848fdab5c5c1dd3399649": {
          "model_module": "@jupyter-widgets/controls",
          "model_name": "HBoxModel",
          "model_module_version": "1.5.0",
          "state": {
            "_dom_classes": [],
            "_model_module": "@jupyter-widgets/controls",
            "_model_module_version": "1.5.0",
            "_model_name": "HBoxModel",
            "_view_count": null,
            "_view_module": "@jupyter-widgets/controls",
            "_view_module_version": "1.5.0",
            "_view_name": "HBoxView",
            "box_style": "",
            "children": [
              "IPY_MODEL_0bce88a5af364eaea9bc7c0a5dee951b",
              "IPY_MODEL_79f69e9fdba44b0f9156b15d498b978d",
              "IPY_MODEL_efa9cc493a2e417dbb6a76063b0495df"
            ],
            "layout": "IPY_MODEL_9aadd50d9540472ea41e2e4cc410fb71"
          }
        },
        "0bce88a5af364eaea9bc7c0a5dee951b": {
          "model_module": "@jupyter-widgets/controls",
          "model_name": "HTMLModel",
          "model_module_version": "1.5.0",
          "state": {
            "_dom_classes": [],
            "_model_module": "@jupyter-widgets/controls",
            "_model_module_version": "1.5.0",
            "_model_name": "HTMLModel",
            "_view_count": null,
            "_view_module": "@jupyter-widgets/controls",
            "_view_module_version": "1.5.0",
            "_view_name": "HTMLView",
            "description": "",
            "description_tooltip": null,
            "layout": "IPY_MODEL_778ec60b310947e29823f2add9e1921e",
            "placeholder": "​",
            "style": "IPY_MODEL_e67f983244fd46f9ae3cabf11d508a97",
            "value": "100%"
          }
        },
        "79f69e9fdba44b0f9156b15d498b978d": {
          "model_module": "@jupyter-widgets/controls",
          "model_name": "FloatProgressModel",
          "model_module_version": "1.5.0",
          "state": {
            "_dom_classes": [],
            "_model_module": "@jupyter-widgets/controls",
            "_model_module_version": "1.5.0",
            "_model_name": "FloatProgressModel",
            "_view_count": null,
            "_view_module": "@jupyter-widgets/controls",
            "_view_module_version": "1.5.0",
            "_view_name": "ProgressView",
            "bar_style": "success",
            "description": "",
            "description_tooltip": null,
            "layout": "IPY_MODEL_ff9fa71ac3794060ae1bcc0072e941d9",
            "max": 313,
            "min": 0,
            "orientation": "horizontal",
            "style": "IPY_MODEL_c91812157cde4aa484fd7f10faf41516",
            "value": 313
          }
        },
        "efa9cc493a2e417dbb6a76063b0495df": {
          "model_module": "@jupyter-widgets/controls",
          "model_name": "HTMLModel",
          "model_module_version": "1.5.0",
          "state": {
            "_dom_classes": [],
            "_model_module": "@jupyter-widgets/controls",
            "_model_module_version": "1.5.0",
            "_model_name": "HTMLModel",
            "_view_count": null,
            "_view_module": "@jupyter-widgets/controls",
            "_view_module_version": "1.5.0",
            "_view_name": "HTMLView",
            "description": "",
            "description_tooltip": null,
            "layout": "IPY_MODEL_56eb5381564a495696053e586f48c347",
            "placeholder": "​",
            "style": "IPY_MODEL_d227000107ef4cb39e4ded9a40f8677b",
            "value": " 313/313 [00:01&lt;00:00, 234.95it/s]"
          }
        },
        "9aadd50d9540472ea41e2e4cc410fb71": {
          "model_module": "@jupyter-widgets/base",
          "model_name": "LayoutModel",
          "model_module_version": "1.2.0",
          "state": {
            "_model_module": "@jupyter-widgets/base",
            "_model_module_version": "1.2.0",
            "_model_name": "LayoutModel",
            "_view_count": null,
            "_view_module": "@jupyter-widgets/base",
            "_view_module_version": "1.2.0",
            "_view_name": "LayoutView",
            "align_content": null,
            "align_items": null,
            "align_self": null,
            "border": null,
            "bottom": null,
            "display": null,
            "flex": null,
            "flex_flow": null,
            "grid_area": null,
            "grid_auto_columns": null,
            "grid_auto_flow": null,
            "grid_auto_rows": null,
            "grid_column": null,
            "grid_gap": null,
            "grid_row": null,
            "grid_template_areas": null,
            "grid_template_columns": null,
            "grid_template_rows": null,
            "height": null,
            "justify_content": null,
            "justify_items": null,
            "left": null,
            "margin": null,
            "max_height": null,
            "max_width": null,
            "min_height": null,
            "min_width": null,
            "object_fit": null,
            "object_position": null,
            "order": null,
            "overflow": null,
            "overflow_x": null,
            "overflow_y": null,
            "padding": null,
            "right": null,
            "top": null,
            "visibility": null,
            "width": null
          }
        },
        "778ec60b310947e29823f2add9e1921e": {
          "model_module": "@jupyter-widgets/base",
          "model_name": "LayoutModel",
          "model_module_version": "1.2.0",
          "state": {
            "_model_module": "@jupyter-widgets/base",
            "_model_module_version": "1.2.0",
            "_model_name": "LayoutModel",
            "_view_count": null,
            "_view_module": "@jupyter-widgets/base",
            "_view_module_version": "1.2.0",
            "_view_name": "LayoutView",
            "align_content": null,
            "align_items": null,
            "align_self": null,
            "border": null,
            "bottom": null,
            "display": null,
            "flex": null,
            "flex_flow": null,
            "grid_area": null,
            "grid_auto_columns": null,
            "grid_auto_flow": null,
            "grid_auto_rows": null,
            "grid_column": null,
            "grid_gap": null,
            "grid_row": null,
            "grid_template_areas": null,
            "grid_template_columns": null,
            "grid_template_rows": null,
            "height": null,
            "justify_content": null,
            "justify_items": null,
            "left": null,
            "margin": null,
            "max_height": null,
            "max_width": null,
            "min_height": null,
            "min_width": null,
            "object_fit": null,
            "object_position": null,
            "order": null,
            "overflow": null,
            "overflow_x": null,
            "overflow_y": null,
            "padding": null,
            "right": null,
            "top": null,
            "visibility": null,
            "width": null
          }
        },
        "e67f983244fd46f9ae3cabf11d508a97": {
          "model_module": "@jupyter-widgets/controls",
          "model_name": "DescriptionStyleModel",
          "model_module_version": "1.5.0",
          "state": {
            "_model_module": "@jupyter-widgets/controls",
            "_model_module_version": "1.5.0",
            "_model_name": "DescriptionStyleModel",
            "_view_count": null,
            "_view_module": "@jupyter-widgets/base",
            "_view_module_version": "1.2.0",
            "_view_name": "StyleView",
            "description_width": ""
          }
        },
        "ff9fa71ac3794060ae1bcc0072e941d9": {
          "model_module": "@jupyter-widgets/base",
          "model_name": "LayoutModel",
          "model_module_version": "1.2.0",
          "state": {
            "_model_module": "@jupyter-widgets/base",
            "_model_module_version": "1.2.0",
            "_model_name": "LayoutModel",
            "_view_count": null,
            "_view_module": "@jupyter-widgets/base",
            "_view_module_version": "1.2.0",
            "_view_name": "LayoutView",
            "align_content": null,
            "align_items": null,
            "align_self": null,
            "border": null,
            "bottom": null,
            "display": null,
            "flex": null,
            "flex_flow": null,
            "grid_area": null,
            "grid_auto_columns": null,
            "grid_auto_flow": null,
            "grid_auto_rows": null,
            "grid_column": null,
            "grid_gap": null,
            "grid_row": null,
            "grid_template_areas": null,
            "grid_template_columns": null,
            "grid_template_rows": null,
            "height": null,
            "justify_content": null,
            "justify_items": null,
            "left": null,
            "margin": null,
            "max_height": null,
            "max_width": null,
            "min_height": null,
            "min_width": null,
            "object_fit": null,
            "object_position": null,
            "order": null,
            "overflow": null,
            "overflow_x": null,
            "overflow_y": null,
            "padding": null,
            "right": null,
            "top": null,
            "visibility": null,
            "width": null
          }
        },
        "c91812157cde4aa484fd7f10faf41516": {
          "model_module": "@jupyter-widgets/controls",
          "model_name": "ProgressStyleModel",
          "model_module_version": "1.5.0",
          "state": {
            "_model_module": "@jupyter-widgets/controls",
            "_model_module_version": "1.5.0",
            "_model_name": "ProgressStyleModel",
            "_view_count": null,
            "_view_module": "@jupyter-widgets/base",
            "_view_module_version": "1.2.0",
            "_view_name": "StyleView",
            "bar_color": null,
            "description_width": ""
          }
        },
        "56eb5381564a495696053e586f48c347": {
          "model_module": "@jupyter-widgets/base",
          "model_name": "LayoutModel",
          "model_module_version": "1.2.0",
          "state": {
            "_model_module": "@jupyter-widgets/base",
            "_model_module_version": "1.2.0",
            "_model_name": "LayoutModel",
            "_view_count": null,
            "_view_module": "@jupyter-widgets/base",
            "_view_module_version": "1.2.0",
            "_view_name": "LayoutView",
            "align_content": null,
            "align_items": null,
            "align_self": null,
            "border": null,
            "bottom": null,
            "display": null,
            "flex": null,
            "flex_flow": null,
            "grid_area": null,
            "grid_auto_columns": null,
            "grid_auto_flow": null,
            "grid_auto_rows": null,
            "grid_column": null,
            "grid_gap": null,
            "grid_row": null,
            "grid_template_areas": null,
            "grid_template_columns": null,
            "grid_template_rows": null,
            "height": null,
            "justify_content": null,
            "justify_items": null,
            "left": null,
            "margin": null,
            "max_height": null,
            "max_width": null,
            "min_height": null,
            "min_width": null,
            "object_fit": null,
            "object_position": null,
            "order": null,
            "overflow": null,
            "overflow_x": null,
            "overflow_y": null,
            "padding": null,
            "right": null,
            "top": null,
            "visibility": null,
            "width": null
          }
        },
        "d227000107ef4cb39e4ded9a40f8677b": {
          "model_module": "@jupyter-widgets/controls",
          "model_name": "DescriptionStyleModel",
          "model_module_version": "1.5.0",
          "state": {
            "_model_module": "@jupyter-widgets/controls",
            "_model_module_version": "1.5.0",
            "_model_name": "DescriptionStyleModel",
            "_view_count": null,
            "_view_module": "@jupyter-widgets/base",
            "_view_module_version": "1.2.0",
            "_view_name": "StyleView",
            "description_width": ""
          }
        }
      }
    }
  },
  "cells": [
    {
      "cell_type": "markdown",
      "metadata": {
        "id": "view-in-github",
        "colab_type": "text"
      },
      "source": [
        "<a href=\"https://colab.research.google.com/github/Cyborgkong/pytorch-crashcourse-for-beginners/blob/main/03_pytorch_computer_vision.ipynb\" target=\"_parent\"><img src=\"https://colab.research.google.com/assets/colab-badge.svg\" alt=\"Open In Colab\"/></a>"
      ]
    },
    {
      "cell_type": "markdown",
      "source": [
        "# PyTorch Computer Vision"
      ],
      "metadata": {
        "id": "ow_JC5DbS14E"
      }
    },
    {
      "cell_type": "markdown",
      "source": [
        "## 0. Computer vision libraries in PyTorch\n",
        "\n",
        "* `torchvision` - base domain library for PyTorch computer vision\n",
        "* `torchvision.datasets` - get datasets and data loading functions for computer vision here\n",
        "* `torchvision.models` - get pretrained computer vision models that we can leverage for our problems\n",
        "* `torchvision.transform` - functions for manipulating your vision data (images) to be suitable for use with an ML model\n",
        "* `torch.utils.data.Dataset` - Base dataset class for PyTorch.\n",
        "* `torch.utils.data.DataLoader` - Creates a Python iterable over a dataset"
      ],
      "metadata": {
        "id": "l-rGF4afTUsb"
      }
    },
    {
      "cell_type": "code",
      "source": [
        "# Import PyTorch\n",
        "import torch\n",
        "from torch import nn\n",
        "\n",
        "# Import torchvision\n",
        "import torchvision\n",
        "from torchvision import datasets\n",
        "from torchvision import transforms\n",
        "from torchvision.transforms import ToTensor\n",
        "\n",
        "# Import matplotlib for visualization\n",
        "import matplotlib.pyplot as plt\n",
        "\n",
        "# Check versions\n",
        "print(torch.__version__)\n",
        "print(torchvision.__version__)"
      ],
      "metadata": {
        "colab": {
          "base_uri": "https://localhost:8080/"
        },
        "id": "Ept-RO7qVhCP",
        "outputId": "c5535dba-6a7e-4fae-c715-88015c101dc7"
      },
      "execution_count": 1,
      "outputs": [
        {
          "output_type": "stream",
          "name": "stdout",
          "text": [
            "2.6.0+cu124\n",
            "0.21.0+cu124\n"
          ]
        }
      ]
    },
    {
      "cell_type": "markdown",
      "source": [
        "## 1. Getting a dataset\n",
        "\n",
        "The dataset we'll be using is FashionMNIST from torchvision.dataset"
      ],
      "metadata": {
        "id": "B3XmAB4xpp-L"
      }
    },
    {
      "cell_type": "code",
      "source": [
        "# Setup training data\n",
        "train_data = datasets.FashionMNIST(\n",
        "    root=\"data\", # Where to download data to\n",
        "    train=True, # Do we want the training dataset\n",
        "    download=True, # Do we want to download\n",
        "    transform=torchvision.transforms.ToTensor(), # How do we want to transform the data?\n",
        "    target_transform=None # How do we want to transform the labels/targets?\n",
        ")\n",
        "\n",
        "test_data = datasets.FashionMNIST(\n",
        "    root=\"data\",\n",
        "    train=False,\n",
        "    download=True,\n",
        "    transform=torchvision.transforms.ToTensor(),\n",
        "    target_transform=None\n",
        ")"
      ],
      "metadata": {
        "id": "zw6w-wkWppzU",
        "colab": {
          "base_uri": "https://localhost:8080/"
        },
        "outputId": "47829c12-7f0a-4a5f-d29e-c33eab3abfce"
      },
      "execution_count": 2,
      "outputs": [
        {
          "output_type": "stream",
          "name": "stderr",
          "text": [
            "100%|██████████| 26.4M/26.4M [00:03<00:00, 8.23MB/s]\n",
            "100%|██████████| 29.5k/29.5k [00:00<00:00, 131kB/s]\n",
            "100%|██████████| 4.42M/4.42M [00:01<00:00, 2.48MB/s]\n",
            "100%|██████████| 5.15k/5.15k [00:00<00:00, 13.8MB/s]\n"
          ]
        }
      ]
    },
    {
      "cell_type": "code",
      "source": [
        "len(train_data), len(test_data)"
      ],
      "metadata": {
        "id": "1W9UcUXar7qY",
        "colab": {
          "base_uri": "https://localhost:8080/"
        },
        "outputId": "fb45c953-9704-41f0-aa9d-972f19098aec"
      },
      "execution_count": 3,
      "outputs": [
        {
          "output_type": "execute_result",
          "data": {
            "text/plain": [
              "(60000, 10000)"
            ]
          },
          "metadata": {},
          "execution_count": 3
        }
      ]
    },
    {
      "cell_type": "code",
      "source": [
        "# See first training example\n",
        "image, label = train_data[0]\n",
        "image, label"
      ],
      "metadata": {
        "id": "QbEWwBIhppnE",
        "colab": {
          "base_uri": "https://localhost:8080/"
        },
        "outputId": "740e1fcc-2ba5-4802-af3b-14795235c0e2"
      },
      "execution_count": 4,
      "outputs": [
        {
          "output_type": "execute_result",
          "data": {
            "text/plain": [
              "(tensor([[[0.0000, 0.0000, 0.0000, 0.0000, 0.0000, 0.0000, 0.0000, 0.0000,\n",
              "           0.0000, 0.0000, 0.0000, 0.0000, 0.0000, 0.0000, 0.0000, 0.0000,\n",
              "           0.0000, 0.0000, 0.0000, 0.0000, 0.0000, 0.0000, 0.0000, 0.0000,\n",
              "           0.0000, 0.0000, 0.0000, 0.0000],\n",
              "          [0.0000, 0.0000, 0.0000, 0.0000, 0.0000, 0.0000, 0.0000, 0.0000,\n",
              "           0.0000, 0.0000, 0.0000, 0.0000, 0.0000, 0.0000, 0.0000, 0.0000,\n",
              "           0.0000, 0.0000, 0.0000, 0.0000, 0.0000, 0.0000, 0.0000, 0.0000,\n",
              "           0.0000, 0.0000, 0.0000, 0.0000],\n",
              "          [0.0000, 0.0000, 0.0000, 0.0000, 0.0000, 0.0000, 0.0000, 0.0000,\n",
              "           0.0000, 0.0000, 0.0000, 0.0000, 0.0000, 0.0000, 0.0000, 0.0000,\n",
              "           0.0000, 0.0000, 0.0000, 0.0000, 0.0000, 0.0000, 0.0000, 0.0000,\n",
              "           0.0000, 0.0000, 0.0000, 0.0000],\n",
              "          [0.0000, 0.0000, 0.0000, 0.0000, 0.0000, 0.0000, 0.0000, 0.0000,\n",
              "           0.0000, 0.0000, 0.0000, 0.0000, 0.0039, 0.0000, 0.0000, 0.0510,\n",
              "           0.2863, 0.0000, 0.0000, 0.0039, 0.0157, 0.0000, 0.0000, 0.0000,\n",
              "           0.0000, 0.0039, 0.0039, 0.0000],\n",
              "          [0.0000, 0.0000, 0.0000, 0.0000, 0.0000, 0.0000, 0.0000, 0.0000,\n",
              "           0.0000, 0.0000, 0.0000, 0.0000, 0.0118, 0.0000, 0.1412, 0.5333,\n",
              "           0.4980, 0.2431, 0.2118, 0.0000, 0.0000, 0.0000, 0.0039, 0.0118,\n",
              "           0.0157, 0.0000, 0.0000, 0.0118],\n",
              "          [0.0000, 0.0000, 0.0000, 0.0000, 0.0000, 0.0000, 0.0000, 0.0000,\n",
              "           0.0000, 0.0000, 0.0000, 0.0000, 0.0235, 0.0000, 0.4000, 0.8000,\n",
              "           0.6902, 0.5255, 0.5647, 0.4824, 0.0902, 0.0000, 0.0000, 0.0000,\n",
              "           0.0000, 0.0471, 0.0392, 0.0000],\n",
              "          [0.0000, 0.0000, 0.0000, 0.0000, 0.0000, 0.0000, 0.0000, 0.0000,\n",
              "           0.0000, 0.0000, 0.0000, 0.0000, 0.0000, 0.0000, 0.6078, 0.9255,\n",
              "           0.8118, 0.6980, 0.4196, 0.6118, 0.6314, 0.4275, 0.2510, 0.0902,\n",
              "           0.3020, 0.5098, 0.2824, 0.0588],\n",
              "          [0.0000, 0.0000, 0.0000, 0.0000, 0.0000, 0.0000, 0.0000, 0.0000,\n",
              "           0.0000, 0.0000, 0.0000, 0.0039, 0.0000, 0.2706, 0.8118, 0.8745,\n",
              "           0.8549, 0.8471, 0.8471, 0.6392, 0.4980, 0.4745, 0.4784, 0.5725,\n",
              "           0.5529, 0.3451, 0.6745, 0.2588],\n",
              "          [0.0000, 0.0000, 0.0000, 0.0000, 0.0000, 0.0000, 0.0000, 0.0000,\n",
              "           0.0000, 0.0039, 0.0039, 0.0039, 0.0000, 0.7843, 0.9098, 0.9098,\n",
              "           0.9137, 0.8980, 0.8745, 0.8745, 0.8431, 0.8353, 0.6431, 0.4980,\n",
              "           0.4824, 0.7686, 0.8980, 0.0000],\n",
              "          [0.0000, 0.0000, 0.0000, 0.0000, 0.0000, 0.0000, 0.0000, 0.0000,\n",
              "           0.0000, 0.0000, 0.0000, 0.0000, 0.0000, 0.7176, 0.8824, 0.8471,\n",
              "           0.8745, 0.8941, 0.9216, 0.8902, 0.8784, 0.8706, 0.8784, 0.8667,\n",
              "           0.8745, 0.9608, 0.6784, 0.0000],\n",
              "          [0.0000, 0.0000, 0.0000, 0.0000, 0.0000, 0.0000, 0.0000, 0.0000,\n",
              "           0.0000, 0.0000, 0.0000, 0.0000, 0.0000, 0.7569, 0.8941, 0.8549,\n",
              "           0.8353, 0.7765, 0.7059, 0.8314, 0.8235, 0.8275, 0.8353, 0.8745,\n",
              "           0.8627, 0.9529, 0.7922, 0.0000],\n",
              "          [0.0000, 0.0000, 0.0000, 0.0000, 0.0000, 0.0000, 0.0000, 0.0000,\n",
              "           0.0000, 0.0039, 0.0118, 0.0000, 0.0471, 0.8588, 0.8627, 0.8314,\n",
              "           0.8549, 0.7529, 0.6627, 0.8902, 0.8157, 0.8549, 0.8784, 0.8314,\n",
              "           0.8863, 0.7725, 0.8196, 0.2039],\n",
              "          [0.0000, 0.0000, 0.0000, 0.0000, 0.0000, 0.0000, 0.0000, 0.0000,\n",
              "           0.0000, 0.0000, 0.0235, 0.0000, 0.3882, 0.9569, 0.8706, 0.8627,\n",
              "           0.8549, 0.7961, 0.7765, 0.8667, 0.8431, 0.8353, 0.8706, 0.8627,\n",
              "           0.9608, 0.4667, 0.6549, 0.2196],\n",
              "          [0.0000, 0.0000, 0.0000, 0.0000, 0.0000, 0.0000, 0.0000, 0.0000,\n",
              "           0.0000, 0.0157, 0.0000, 0.0000, 0.2157, 0.9255, 0.8941, 0.9020,\n",
              "           0.8941, 0.9412, 0.9098, 0.8353, 0.8549, 0.8745, 0.9176, 0.8510,\n",
              "           0.8510, 0.8196, 0.3608, 0.0000],\n",
              "          [0.0000, 0.0000, 0.0039, 0.0157, 0.0235, 0.0275, 0.0078, 0.0000,\n",
              "           0.0000, 0.0000, 0.0000, 0.0000, 0.9294, 0.8863, 0.8510, 0.8745,\n",
              "           0.8706, 0.8588, 0.8706, 0.8667, 0.8471, 0.8745, 0.8980, 0.8431,\n",
              "           0.8549, 1.0000, 0.3020, 0.0000],\n",
              "          [0.0000, 0.0118, 0.0000, 0.0000, 0.0000, 0.0000, 0.0000, 0.0000,\n",
              "           0.0000, 0.2431, 0.5686, 0.8000, 0.8941, 0.8118, 0.8353, 0.8667,\n",
              "           0.8549, 0.8157, 0.8275, 0.8549, 0.8784, 0.8745, 0.8588, 0.8431,\n",
              "           0.8784, 0.9569, 0.6235, 0.0000],\n",
              "          [0.0000, 0.0000, 0.0000, 0.0000, 0.0706, 0.1725, 0.3216, 0.4196,\n",
              "           0.7412, 0.8941, 0.8627, 0.8706, 0.8510, 0.8863, 0.7843, 0.8039,\n",
              "           0.8275, 0.9020, 0.8784, 0.9176, 0.6902, 0.7373, 0.9804, 0.9725,\n",
              "           0.9137, 0.9333, 0.8431, 0.0000],\n",
              "          [0.0000, 0.2235, 0.7333, 0.8157, 0.8784, 0.8667, 0.8784, 0.8157,\n",
              "           0.8000, 0.8392, 0.8157, 0.8196, 0.7843, 0.6235, 0.9608, 0.7569,\n",
              "           0.8078, 0.8745, 1.0000, 1.0000, 0.8667, 0.9176, 0.8667, 0.8275,\n",
              "           0.8627, 0.9098, 0.9647, 0.0000],\n",
              "          [0.0118, 0.7922, 0.8941, 0.8784, 0.8667, 0.8275, 0.8275, 0.8392,\n",
              "           0.8039, 0.8039, 0.8039, 0.8627, 0.9412, 0.3137, 0.5882, 1.0000,\n",
              "           0.8980, 0.8667, 0.7373, 0.6039, 0.7490, 0.8235, 0.8000, 0.8196,\n",
              "           0.8706, 0.8941, 0.8824, 0.0000],\n",
              "          [0.3843, 0.9137, 0.7765, 0.8235, 0.8706, 0.8980, 0.8980, 0.9176,\n",
              "           0.9765, 0.8627, 0.7608, 0.8431, 0.8510, 0.9451, 0.2549, 0.2863,\n",
              "           0.4157, 0.4588, 0.6588, 0.8588, 0.8667, 0.8431, 0.8510, 0.8745,\n",
              "           0.8745, 0.8784, 0.8980, 0.1137],\n",
              "          [0.2941, 0.8000, 0.8314, 0.8000, 0.7569, 0.8039, 0.8275, 0.8824,\n",
              "           0.8471, 0.7255, 0.7725, 0.8078, 0.7765, 0.8353, 0.9412, 0.7647,\n",
              "           0.8902, 0.9608, 0.9373, 0.8745, 0.8549, 0.8314, 0.8196, 0.8706,\n",
              "           0.8627, 0.8667, 0.9020, 0.2627],\n",
              "          [0.1882, 0.7961, 0.7176, 0.7608, 0.8353, 0.7725, 0.7255, 0.7451,\n",
              "           0.7608, 0.7529, 0.7922, 0.8392, 0.8588, 0.8667, 0.8627, 0.9255,\n",
              "           0.8824, 0.8471, 0.7804, 0.8078, 0.7294, 0.7098, 0.6941, 0.6745,\n",
              "           0.7098, 0.8039, 0.8078, 0.4510],\n",
              "          [0.0000, 0.4784, 0.8588, 0.7569, 0.7020, 0.6706, 0.7176, 0.7686,\n",
              "           0.8000, 0.8235, 0.8353, 0.8118, 0.8275, 0.8235, 0.7843, 0.7686,\n",
              "           0.7608, 0.7490, 0.7647, 0.7490, 0.7765, 0.7529, 0.6902, 0.6118,\n",
              "           0.6549, 0.6941, 0.8235, 0.3608],\n",
              "          [0.0000, 0.0000, 0.2902, 0.7412, 0.8314, 0.7490, 0.6863, 0.6745,\n",
              "           0.6863, 0.7098, 0.7255, 0.7373, 0.7412, 0.7373, 0.7569, 0.7765,\n",
              "           0.8000, 0.8196, 0.8235, 0.8235, 0.8275, 0.7373, 0.7373, 0.7608,\n",
              "           0.7529, 0.8471, 0.6667, 0.0000],\n",
              "          [0.0078, 0.0000, 0.0000, 0.0000, 0.2588, 0.7843, 0.8706, 0.9294,\n",
              "           0.9373, 0.9490, 0.9647, 0.9529, 0.9569, 0.8667, 0.8627, 0.7569,\n",
              "           0.7490, 0.7020, 0.7137, 0.7137, 0.7098, 0.6902, 0.6510, 0.6588,\n",
              "           0.3882, 0.2275, 0.0000, 0.0000],\n",
              "          [0.0000, 0.0000, 0.0000, 0.0000, 0.0000, 0.0000, 0.0000, 0.1569,\n",
              "           0.2392, 0.1725, 0.2824, 0.1608, 0.1373, 0.0000, 0.0000, 0.0000,\n",
              "           0.0000, 0.0000, 0.0000, 0.0000, 0.0000, 0.0000, 0.0000, 0.0000,\n",
              "           0.0000, 0.0000, 0.0000, 0.0000],\n",
              "          [0.0000, 0.0000, 0.0000, 0.0000, 0.0000, 0.0000, 0.0000, 0.0000,\n",
              "           0.0000, 0.0000, 0.0000, 0.0000, 0.0000, 0.0000, 0.0000, 0.0000,\n",
              "           0.0000, 0.0000, 0.0000, 0.0000, 0.0000, 0.0000, 0.0000, 0.0000,\n",
              "           0.0000, 0.0000, 0.0000, 0.0000],\n",
              "          [0.0000, 0.0000, 0.0000, 0.0000, 0.0000, 0.0000, 0.0000, 0.0000,\n",
              "           0.0000, 0.0000, 0.0000, 0.0000, 0.0000, 0.0000, 0.0000, 0.0000,\n",
              "           0.0000, 0.0000, 0.0000, 0.0000, 0.0000, 0.0000, 0.0000, 0.0000,\n",
              "           0.0000, 0.0000, 0.0000, 0.0000]]]),\n",
              " 9)"
            ]
          },
          "metadata": {},
          "execution_count": 4
        }
      ]
    },
    {
      "cell_type": "code",
      "source": [
        "class_names = train_data.classes\n",
        "class_names"
      ],
      "metadata": {
        "colab": {
          "base_uri": "https://localhost:8080/"
        },
        "id": "a4KsvtUrSEHi",
        "outputId": "9d423d4e-51e8-4565-8f5f-785043c98170"
      },
      "execution_count": 5,
      "outputs": [
        {
          "output_type": "execute_result",
          "data": {
            "text/plain": [
              "['T-shirt/top',\n",
              " 'Trouser',\n",
              " 'Pullover',\n",
              " 'Dress',\n",
              " 'Coat',\n",
              " 'Sandal',\n",
              " 'Shirt',\n",
              " 'Sneaker',\n",
              " 'Bag',\n",
              " 'Ankle boot']"
            ]
          },
          "metadata": {},
          "execution_count": 5
        }
      ]
    },
    {
      "cell_type": "code",
      "source": [
        "class_to_idx = train_data.class_to_idx\n",
        "class_to_idx"
      ],
      "metadata": {
        "colab": {
          "base_uri": "https://localhost:8080/"
        },
        "id": "mk5h2bLaSEDb",
        "outputId": "4b25416a-fb65-4657-a626-bd5aa9c25777"
      },
      "execution_count": 6,
      "outputs": [
        {
          "output_type": "execute_result",
          "data": {
            "text/plain": [
              "{'T-shirt/top': 0,\n",
              " 'Trouser': 1,\n",
              " 'Pullover': 2,\n",
              " 'Dress': 3,\n",
              " 'Coat': 4,\n",
              " 'Sandal': 5,\n",
              " 'Shirt': 6,\n",
              " 'Sneaker': 7,\n",
              " 'Bag': 8,\n",
              " 'Ankle boot': 9}"
            ]
          },
          "metadata": {},
          "execution_count": 6
        }
      ]
    },
    {
      "cell_type": "markdown",
      "source": [
        "# Check the shape of our image"
      ],
      "metadata": {
        "id": "OfFGzH-ca_Tx"
      }
    },
    {
      "cell_type": "code",
      "source": [
        "print(f\"Image shape: {image.shape} -> [color_channels, height, width]\")\n",
        "print(f\"Image label: {class_names[label]}\")"
      ],
      "metadata": {
        "id": "RknWIukKppcb",
        "colab": {
          "base_uri": "https://localhost:8080/"
        },
        "outputId": "a9579461-7440-4965-c4da-c841bbcf4c37"
      },
      "execution_count": 7,
      "outputs": [
        {
          "output_type": "stream",
          "name": "stdout",
          "text": [
            "Image shape: torch.Size([1, 28, 28]) -> [color_channels, height, width]\n",
            "Image label: Ankle boot\n"
          ]
        }
      ]
    },
    {
      "cell_type": "markdown",
      "source": [
        "### 1.2 Visualizing our data"
      ],
      "metadata": {
        "id": "yf_8nRkQppIC"
      }
    },
    {
      "cell_type": "code",
      "source": [
        "import matplotlib.pyplot as plt\n",
        "image, label = train_data[0]\n",
        "print(f\"Image shape: {image.shape}\")\n",
        "plt.imshow(image.squeeze())\n",
        "plt.title(label)"
      ],
      "metadata": {
        "id": "d81kiDOUpo1V",
        "colab": {
          "base_uri": "https://localhost:8080/",
          "height": 487
        },
        "outputId": "df91e611-8fd0-4f6f-a0a4-41a95e1ba168"
      },
      "execution_count": 8,
      "outputs": [
        {
          "output_type": "stream",
          "name": "stdout",
          "text": [
            "Image shape: torch.Size([1, 28, 28])\n"
          ]
        },
        {
          "output_type": "execute_result",
          "data": {
            "text/plain": [
              "Text(0.5, 1.0, '9')"
            ]
          },
          "metadata": {},
          "execution_count": 8
        },
        {
          "output_type": "display_data",
          "data": {
            "text/plain": [
              "<Figure size 640x480 with 1 Axes>"
            ],
            "image/png": "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\n"
          },
          "metadata": {}
        }
      ]
    },
    {
      "cell_type": "code",
      "source": [
        "plt.imshow(image.squeeze(), cmap=\"gray\")\n",
        "plt.title(class_names[label])\n",
        "plt.axis(False)"
      ],
      "metadata": {
        "colab": {
          "base_uri": "https://localhost:8080/",
          "height": 445
        },
        "id": "GSPKXBxESC4H",
        "outputId": "5df3f6d2-1afb-4170-da1c-65502cb8eb49"
      },
      "execution_count": 9,
      "outputs": [
        {
          "output_type": "execute_result",
          "data": {
            "text/plain": [
              "(np.float64(-0.5), np.float64(27.5), np.float64(27.5), np.float64(-0.5))"
            ]
          },
          "metadata": {},
          "execution_count": 9
        },
        {
          "output_type": "display_data",
          "data": {
            "text/plain": [
              "<Figure size 640x480 with 1 Axes>"
            ],
            "image/png": "iVBORw0KGgoAAAANSUhEUgAAAYUAAAGbCAYAAAAr/4yjAAAAOnRFWHRTb2Z0d2FyZQBNYXRwbG90bGliIHZlcnNpb24zLjEwLjAsIGh0dHBzOi8vbWF0cGxvdGxpYi5vcmcvlHJYcgAAAAlwSFlzAAAPYQAAD2EBqD+naQAAFrtJREFUeJzt3WtsnnX9P/DP3fWwbh0wdmBU9qMIm0xEIAM5jh0QlMPEILL4wDCBiCYEIRif+IAYjcpBJAiGocaQsWSgGSflIChBZZgxDEIMRAYbCsONwTa3dm239vo/MHziHNJ+r78tU1+vZCH33e/7/l697vvuu9fWfmhUVVUFAERE03t9AADsPZQCAEkpAJCUAgBJKQCQlAIASSkAkJQCAEkpAJCUAv9xFi9eHB0dHUOumzdvXsybN+/ftu+8efPiQx/60L/t8WBvpBQYFd///vej0WjE8ccf/14fyn+kb37zm3HPPfe814fB/wClwKhYtmxZdHV1xapVq2LNmjXv9eH8x1EKjBalwIhbu3ZtrFy5Mm644YaYMmVKLFu27L0+JOBfUAqMuGXLlsXEiRPj7LPPjvPPP/8dS2HdunXRaDTi+uuvj9tuuy0OPfTQaGtri+OOOy6eeuqpIfd45plnYsqUKTFv3rzYvn37v1zX19cXV199dRx22GHR1tYW06dPj6985SvR19c37M/n6aefjpNOOina29vjkEMOiVtvvXWPNRs3boyLL744DjjggBg7dmwcddRRcfvtt++xrru7O6666qqYPn16tLW1xQc+8IG4/vrr4x+HFzcajeju7o7bb789Go1GNBqNWLx48bCPF4pUMMIOP/zw6uKLL66qqqp+/etfVxFRrVq1arc1a9eurSKiOuaYY6rDDjusuuaaa6prr722mjx5cnXQQQdV/f39ufbCCy+sxo8fn7dXrVpVTZw4sTr99NOrnp6evH/u3LnV3Llz8/bAwEB1xhlnVOPGjauuuOKKasmSJdVll11WNTc3V+eee+6Qn8fcuXOrzs7OaurUqdVll11W3XTTTdUpp5xSRUT1ox/9KNf19PRUs2bNqlpaWqorr7yyuummm6o5c+ZUEVHdeOONuW5wcLBasGBB1Wg0qksuuaS6+eabq4ULF1YRUV1xxRW5bunSpVVbW1s1Z86caunSpdXSpUurlStXDn3ioQalwIhavXp1FRHVI488UlXV378QHnTQQdWXvvSl3da9XQqTJk2q3nrrrbz/3nvvrSKiuv/++/O+fyyF3/72t9U+++xTnX322VVvb+9uj/nPpbB06dKqqamp+s1vfrPbultvvbWKiOqJJ554189l7ty5VURU3/nOd/K+vr6+6uijj66mTp2axXXjjTdWEVHdcccdua6/v7868cQTq46Ojupvf/tbVVVVdc8991QRUX3jG9/YbZ/zzz+/ajQa1Zo1a/K+8ePHVxdeeOG7Hh/8O/jrI0bUsmXL4oADDoj58+dHxN//KmTRokWxfPnyGBgY2GP9okWLYuLEiXl7zpw5ERHx8ssv77H2sccei4997GNx2mmnxYoVK6Ktre1dj+UnP/lJzJo1Kw4//PDYtGlT/lmwYEE+3lCam5vj0ksvzdutra1x6aWXxsaNG+Ppp5+OiIgHHnggpk2bFp/5zGdyXUtLS1x++eWxffv2ePzxx3PdmDFj4vLLL99tj6uuuiqqqooHH3xwyOOBfzelwIgZGBiI5cuXx/z582Pt2rWxZs2aWLNmTRx//PGxYcOG+OUvf7lH5v/+7/92u/12QWzevHm3+3t7e+Pss8+OY445Ju66665obW0d8nhefPHF+OMf/xhTpkzZ7c/MmTMj4u//DjCUzs7OGD9+/G73vZ1ft25dRES88sorMWPGjGhq2v3tNWvWrPz42//t7OyMCRMmvOs6GE3N7/UB8N/rV7/6Vbz++uuxfPnyWL58+R4fX7ZsWZxxxhm73TdmzJh3fKzqn/6vsW1tbXHWWWfFvffeGw899FCcc845Qx7P4OBgHHnkkXHDDTe848enT58+5GPAfzulwIhZtmxZTJ06NW655ZY9PrZixYq4++6749Zbb4329vbix240GrFs2bI499xz49Of/nQ8+OCDQ/728qGHHhp/+MMf4rTTTotGo1G8Z0TE+vXro7u7e7erhT/96U8REdHV1RUREQcffHA8++yzMTg4uNvVwgsvvJAff/u/jz76aGzbtm23q4V/Xvf25wujwV8fMSJ27NgRK1asiHPOOSfOP//8Pf5cdtllsW3btrjvvvtq79Ha2horVqyI4447LhYuXBirVq161/UXXHBBvPbaa/GDH/zgHY+3u7t7yD137doVS5Ysydv9/f2xZMmSmDJlSsyePTsiIs4666z461//Gnfeeeduue9973vR0dERc+fOzXUDAwNx880377bHd7/73Wg0GnHmmWfmfePHj48tW7YMeXzw/8uVAiPivvvui23btsUnPvGJd/z4CSeckL/ItmjRotr7tLe3x89+9rNYsGBBnHnmmfH444//y/lEn/3sZ+Ouu+6KL3zhC/HYY4/FySefHAMDA/HCCy/EXXfdFQ8//HAce+yx77pfZ2dnXHPNNbFu3bqYOXNm3HnnnfHMM8/EbbfdFi0tLRER8fnPfz6WLFkSixcvjqeffjq6urripz/9aTzxxBNx44035lXBwoULY/78+fHVr3411q1bF0cddVT84he/iHvvvTeuuOKKOPTQQ3Pf2bNnx6OPPho33HBDdHZ2xiGHHGJkCCPjvf7xJ/47LVy4sBo7dmzV3d39L9csXry4amlpqTZt2pQ/knrdddftsS4iqquvvjpv//PvKVRVVW3atKn64Ac/WE2bNq168cUXq6ra80dSq+rvPxp6zTXXVEcccUTV1tZWTZw4sZo9e3b1ta99rdq6deu7fk5z586tjjjiiGr16tXViSeeWI0dO7Y6+OCDq5tvvnmPtRs2bKg+97nPVZMnT65aW1urI488svrxj3+8x7pt27ZVV155ZdXZ2Vm1tLRUM2bMqK677rpqcHBwt3UvvPBCdeqpp1bt7e1VRPjxVEZMo6r+6V/wAPif5d8UAEhKAYCkFABISgGApBQASEoBgDTsX17za/YA/9mG8xsIrhQASEoBgKQUAEhKAYCkFABISgGApBQASEoBgKQUAEhKAYCkFABISgGApBQASEoBgKQUAEhKAYCkFABISgGApBQASEoBgKQUAEhKAYCkFABISgGApBQASEoBgKQUAEhKAYCkFABISgGApBQASEoBgKQUAEhKAYCkFABISgGApBQASEoBgKQUAEjN7/UBwFAajUZxpqqqETiSPU2YMKE4c8opp9Ta68EHH6yVK1XnfI8ZM6Y4s2vXruLM3q7OuatrpF7jrhQASEoBgKQUAEhKAYCkFABISgGApBQASEoBgKQUAEhKAYCkFABISgGAZCAee72mpvLvXQYGBoozhx12WHHmkksuKc7s2LGjOBMR0d3dXZzp7e0tzqxatao4M5rD7eoMnavzGqqzz2iehzpDCIfDlQIASSkAkJQCAEkpAJCUAgBJKQCQlAIASSkAkJQCAEkpAJCUAgBJKQCQDMRjr1dn8FedgXgLFiwoznz0ox8tzrz66qvFmYiItra24sy4ceOKM6effnpx5oc//GFxZsOGDcWZiIiqqoozdV4PdXR0dNTKDQ4OFmd6enpq7TUUVwoAJKUAQFIKACSlAEBSCgAkpQBAUgoAJKUAQFIKACSlAEBSCgAkpQBAMhCPvV5/f/+o7HPccccVZ7q6uoozdQb8RUQ0NZV/D/fwww8XZ4455pjizLXXXlucWb16dXEmIuK5554rzjz//PPFmY985CPFmTqvoYiIlStXFmeefPLJWnsNxZUCAEkpAJCUAgBJKQCQlAIASSkAkJQCAEkpAJCUAgBJKQCQlAIASSkAkAzEY9Q0Go1auaqqijOnn356cebYY48tzmzbtq04M378+OJMRMTMmTNHJfPUU08VZ9asWVOc6ejoKM5ERJx44onFmfPOO684s3PnzuJMnXMXEXHJJZcUZ/r6+mrtNRRXCgAkpQBAUgoAJKUAQFIKACSlAEBSCgAkpQBAUgoAJKUAQFIKACSlAEBSCgCkRjXMEZR1J1yy99vbn9s6U1J/97vfFWe6urqKM3XUPd+7du0qzvT399faq1Rvb29xZnBwsNZev//974szdaa41jnfH//4x4szERHvf//7izPve9/7ijPDeS+5UgAgKQUAklIAICkFAJJSACApBQCSUgAgKQUAklIAICkFAJJSACApBQBS83t9ALz36gyc29tt3ry5OHPggQcWZ3bs2FGcaWtrK85ERDQ3l79dOzo6ijN1htu1t7cXZ+oOxJszZ05x5qSTTirONDWVf888derU4kxExEMPPVQrNxJcKQCQlAIASSkAkJQCAEkpAJCUAgBJKQCQlAIASSkAkJQCAEkpAJCUAgDJQDz+K40bN644U2cAWp1MT09PcSYiYuvWrcWZN998szjT1dVVnKkzVLHRaBRnIuqd8zqvh4GBgeJM3SF/06dPr5UbCa4UAEhKAYCkFABISgGApBQASEoBgKQUAEhKAYCkFABISgGApBQASEoBgGQgHrUGk9UZSlZnwFhEREdHR3Gms7OzONPX1zcqmba2tuJMRER/f39xps7wvf322684U2fwXp0hdRERra2txZlt27YVZ/bdd9/izLPPPluciaj3Gj/22GNr7TUUVwoAJKUAQFIKACSlAEBSCgAkpQBAUgoAJKUAQFIKACSlAEBSCgAkpQBAUgoAJFNSiaqqijNjxowpztSdkrpo0aLizLRp04ozb7zxRnGmvb29ODM4OFiciYgYP358cWb69OnFmTrTWOtMft25c2dxJiKiubn8y1ad52nSpEnFmVtuuaU4ExFx9NFHF2fqnIfhcKUAQFIKACSlAEBSCgAkpQBAUgoAJKUAQFIKACSlAEBSCgAkpQBAUgoApEY1zGlojUZjpI+F90idwVq7du0agSN5Z8cff3xx5uc//3lxZseOHcWZ0RwMOGHChOJMb29vcebNN98szrS0tIxKJqLeYMDNmzfX2qtUnfMdEXHdddcVZ+64447izHC+3LtSACApBQCSUgAgKQUAklIAICkFAJJSACApBQCSUgAgKQUAklIAICkFAFL5JLQRVnfwXp3BZE1N5Z1Y5/h27txZnBkcHCzO1DWaw+3qeOCBB4oz3d3dxZk6A/FaW1uLM8OcQbmHN954ozhT530xduzY4kyd13hdo/V+qnPuPvzhDxdnIiK2bt1aKzcSXCkAkJQCAEkpAJCUAgBJKQCQlAIASSkAkJQCAEkpAJCUAgBJKQCQlAIAaUQH4tUZKDUwMFBrr719qNve7NRTTy3OfOpTnyrOnHzyycWZiIienp7izJtvvlmcqTPcrrm5/C1U9zVe5zzUeQ+2tbUVZ+oM0as7GLDOeaijzuth+/bttfY677zzijP3339/rb2G4koBgKQUAEhKAYCkFABISgGApBQASEoBgKQUAEhKAYCkFABISgGApBQASI1qmFOpGo3GSB/LqNt///2LM52dncWZGTNmjMo+EfUGa82cObM409fXV5xpaqr3PcjOnTuLM+3t7cWZ9evXF2daWlqKM3UGrUVETJo0qTjT399fnBk3blxxZuXKlcWZjo6O4kxEvQGOg4ODxZmtW7cWZ+q8HiIiNmzYUJyZNWtWcWY4X+5dKQCQlAIASSkAkJQCAEkpAJCUAgBJKQCQlAIASSkAkJQCAEkpAJCUAgBJKQCQRnRK6gknnFCc+frXv16ciYiYMmVKcWa//fYrzgwMDBRnxowZU5zZsmVLcSYiYteuXcWZOlMx60zfrDtpd8eOHcWZ559/vjhzwQUXFGdWr15dnJkwYUJxJiJi4sSJxZmurq5ae5V6+eWXizN1z8O2bduKMz09PcWZOpN2605+3WeffYozdd63pqQCUEQpAJCUAgBJKQCQlAIASSkAkJQCAEkpAJCUAgBJKQCQlAIASSkAkIY9EK+5ubn4wZ988snizIEHHliciag3qK5Ops5grTrqDNGLqDc8brTsu+++tXKTJ08uzixevLg4c8YZZxRnvvjFLxZn1q9fX5yJiOjt7S3OrF27tjhTZ7jdjBkzijOTJk0qzkTUG8bY0tJSnKkzsK/OPhERg4ODxZmDDz64OGMgHgBFlAIASSkAkJQCAEkpAJCUAgBJKQCQlAIASSkAkJQCAEkpAJCUAgBp2APxLrroouIH//a3v12ceemll4ozEREdHR2jkmlrayvO1FF3sFadoXN/+ctfijN1hrpNmTKlOBMR0dRU/r3LtGnTijOf/OQnizNjx44tznR1dRVnIuq9XmfPnj0qmTrPUZ3BdnX3am1trbVXqUajUStX5/1+wgknFGf+/Oc/D7nGlQIASSkAkJQCAEkpAJCUAgBJKQCQlAIASSkAkJQCAEkpAJCUAgBJKQCQmoe7cOPGjcUPXmfQ2oQJE4ozERF9fX3FmTrHV2coWZ1hXPvss09xJiLirbfeKs688sorxZk652HHjh3FmYiI3t7e4syuXbuKM3fffXdx5rnnnivO1B2It//++xdn6gyd27JlS3Fm586dxZk6z1FExODgYHGmzsC5OvvUHYhX52vEzJkza+01FFcKACSlAEBSCgAkpQBAUgoAJKUAQFIKACSlAEBSCgAkpQBAUgoAJKUAQBr2QLzXXnut+MGrqirOvPrqq8WZiIjx48cXZyZPnlycqTMsbNOmTcWZN954ozgTEdHcPOynNLW1tRVn6gwYGzt2bHEmot6QxKam8u936jxPs2bNKs50d3cXZyLqDXDcvHlzcabO66HOuaszRC+i3iC9Onu1t7cXZ6ZNm1aciYjYunVrceboo4+utddQXCkAkJQCAEkpAJCUAgBJKQCQlAIASSkAkJQCAEkpAJCUAgBJKQCQlAIASSkAkIY9UvOZZ54pfvAVK1YUZy666KLiTETE+vXrizMvv/xycaa3t7c409HRUZypM4U0ot5kx9bW1uLMmDFjijN9fX3FmYiIgYGB4kydCb09PT3Fmddff704U+fYIuqdhzpTc0frNd7f31+ciag3qbhOps5k1ToTXCMiDjnkkOLMhg0bau01FFcKACSlAEBSCgAkpQBAUgoAJKUAQFIKACSlAEBSCgAkpQBAUgoAJKUAQGpUw5zO1Wg0RvpYIiLizDPPrJX78pe/XJyZOnVqcWbTpk3FmTrDuOoMP4uoN6iuzkC8OoPW6hxbRL3XXp2hc3WGENbJ1DnfdfcarfdtnX1GaqDbO6lzzgcHB4sz06ZNK85ERDz77LPFmQsuuKA4M5z3hSsFAJJSACApBQCSUgAgKQUAklIAICkFAJJSACApBQCSUgAgKQUAklIAIA17IF6dYWZ1BkqNpvnz5xdnvvWtbxVn6gze23fffYszERFNTeU9X+e5rTMQr+6Qvzo2btxYnKkzRO+1114rztR9X2zfvr04U3cIYak6527nzp219urp6SnO1HlfPPLII8WZ559/vjgTEbFy5cpauVIG4gFQRCkAkJQCAEkpAJCUAgBJKQCQlAIASSkAkJQCAEkpAJCUAgBJKQCQhj0Qr9FojPSx8A8OP/zwWrnJkycXZ7Zs2VKcOeigg4oz69atK85E1Buc9tJLL9XaC/6bGYgHQBGlAEBSCgAkpQBAUgoAJKUAQFIKACSlAEBSCgAkpQBAUgoAJKUAQFIKACRTUgH+R5iSCkARpQBAUgoAJKUAQFIKACSlAEBSCgAkpQBAUgoAJKUAQFIKACSlAEBSCgAkpQBAUgoAJKUAQFIKACSlAEBSCgAkpQBAUgoAJKUAQFIKACSlAEBSCgCk5uEurKpqJI8DgL2AKwUAklIAICkFAJJSACApBQCSUgAgKQUAklIAICkFANL/AyyBi/uVyfQrAAAAAElFTkSuQmCC\n"
          },
          "metadata": {}
        }
      ]
    },
    {
      "cell_type": "code",
      "source": [
        "# Plot more images\n",
        "torch.manual_seed\n",
        "fig = plt.figure(figsize=(9, 9))\n",
        "rows, cols = 4, 4\n",
        "for i in range(1, rows * cols + 1):\n",
        "  random_idx = torch.randint(0, len(train_data), size=[1]).item()\n",
        "  img, label = train_data[random_idx]\n",
        "  fig.add_subplot(rows, cols, i)\n",
        "  plt.imshow(img.squeeze(), cmap=\"gray\")\n",
        "  plt.title(class_names[label])\n",
        "  plt.axis(False)"
      ],
      "metadata": {
        "colab": {
          "base_uri": "https://localhost:8080/",
          "height": 702
        },
        "id": "jb9NF0ZfSCxi",
        "outputId": "a06ce0e0-fa4e-4c16-e219-184dd37f8af8"
      },
      "execution_count": 10,
      "outputs": [
        {
          "output_type": "display_data",
          "data": {
            "text/plain": [
              "<Figure size 900x900 with 16 Axes>"
            ],
            "image/png": "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\n"
          },
          "metadata": {}
        }
      ]
    },
    {
      "cell_type": "markdown",
      "source": [
        "Do you think these items of clothing (images) could be modelled with pure linear lines? Or do you think we'll need non-linearity?"
      ],
      "metadata": {
        "id": "urvP7d9ESCs4"
      }
    },
    {
      "cell_type": "code",
      "source": [
        "train_data, test_data"
      ],
      "metadata": {
        "colab": {
          "base_uri": "https://localhost:8080/"
        },
        "id": "bQYhF-hdiBLa",
        "outputId": "b763662a-3290-4728-f082-9f09a8bfb4a3"
      },
      "execution_count": 11,
      "outputs": [
        {
          "output_type": "execute_result",
          "data": {
            "text/plain": [
              "(Dataset FashionMNIST\n",
              "     Number of datapoints: 60000\n",
              "     Root location: data\n",
              "     Split: Train\n",
              "     StandardTransform\n",
              " Transform: ToTensor(),\n",
              " Dataset FashionMNIST\n",
              "     Number of datapoints: 10000\n",
              "     Root location: data\n",
              "     Split: Test\n",
              "     StandardTransform\n",
              " Transform: ToTensor())"
            ]
          },
          "metadata": {},
          "execution_count": 11
        }
      ]
    },
    {
      "cell_type": "markdown",
      "source": [
        "## 2. Prepare DataLoader\n",
        "\n",
        "Right now our data is in the form of PyTorch datasets.\n",
        "\n",
        "DataLoader turcs our database into a Python iterable.\n",
        "\n",
        "More specifically, we want to turn our data into batches (or mini-batches).\n",
        "\n",
        "Why would we do this?\n",
        "\n",
        "1. It is more computationally efficient, as in, your computer hardware may not be able to look (store in memory) at 60000 images in one hit. So we break it down to 32 images at a time (batch size of 32).\n",
        "2. It gives our neural network more chances to update its gradients per epoch."
      ],
      "metadata": {
        "id": "XbsZ6Cv-huna"
      }
    },
    {
      "cell_type": "code",
      "source": [
        "from torch.utils.data import DataLoader\n",
        "\n",
        "# Setup the batch size hyperparameter\n",
        "BATCH_SIZE = 32\n",
        "\n",
        "# Turn datasets into iterables (batches)\n",
        "train_dataloader = DataLoader(dataset=train_data,\n",
        "                          batch_size=BATCH_SIZE,\n",
        "                          shuffle=True)\n",
        "\n",
        "test_dataloader = DataLoader(dataset=test_data,\n",
        "                         batch_size=BATCH_SIZE,\n",
        "                         shuffle=False)\n",
        "\n",
        "train_dataloader, test_dataloader"
      ],
      "metadata": {
        "colab": {
          "base_uri": "https://localhost:8080/"
        },
        "id": "5QqMwlFFZFqN",
        "outputId": "a3a44d07-8bbb-4a6a-a891-0adee043401b"
      },
      "execution_count": 12,
      "outputs": [
        {
          "output_type": "execute_result",
          "data": {
            "text/plain": [
              "(<torch.utils.data.dataloader.DataLoader at 0x7a554d9ad350>,\n",
              " <torch.utils.data.dataloader.DataLoader at 0x7a555762da10>)"
            ]
          },
          "metadata": {},
          "execution_count": 12
        }
      ]
    },
    {
      "cell_type": "code",
      "source": [
        "# Let's check out what we've created\n",
        "print(f\"Dataloaders: {train_dataloader, train_dataloader}\")\n",
        "print(f\"Length of train_dataloader: {len(train_dataloader)} batches of {BATCH_SIZE}\")\n",
        "print(f\"Length of test_dataloader: {len(test_dataloader)} batches of {BATCH_SIZE}\")"
      ],
      "metadata": {
        "colab": {
          "base_uri": "https://localhost:8080/"
        },
        "id": "DCuTpazcZFlG",
        "outputId": "be40650b-1d68-4bcf-c620-d51fd7b03e51"
      },
      "execution_count": 13,
      "outputs": [
        {
          "output_type": "stream",
          "name": "stdout",
          "text": [
            "Dataloaders: (<torch.utils.data.dataloader.DataLoader object at 0x7a554d9ad350>, <torch.utils.data.dataloader.DataLoader object at 0x7a554d9ad350>)\n",
            "Length of train_dataloader: 1875 batches of 32\n",
            "Length of test_dataloader: 313 batches of 32\n"
          ]
        }
      ]
    },
    {
      "cell_type": "code",
      "source": [
        "# Check out what's inside the training dataloader\n",
        "train_features_batch, train_labels_batch = next(iter(train_dataloader))\n",
        "train_features_batch.shape, train_labels_batch.shape"
      ],
      "metadata": {
        "colab": {
          "base_uri": "https://localhost:8080/"
        },
        "id": "G8fDPKFnTtxb",
        "outputId": "40526b1d-da87-4e0e-8791-ca90e1bf0995"
      },
      "execution_count": 14,
      "outputs": [
        {
          "output_type": "execute_result",
          "data": {
            "text/plain": [
              "(torch.Size([32, 1, 28, 28]), torch.Size([32]))"
            ]
          },
          "metadata": {},
          "execution_count": 14
        }
      ]
    },
    {
      "cell_type": "code",
      "source": [
        "# Show a sample\n",
        "#torch.manual_seed(42)\n",
        "random_idx = torch.randint(0, len(train_features_batch), size=[1]).item()\n",
        "img, label = train_features_batch[random_idx], train_labels_batch[random_idx]\n",
        "plt.imshow(img.squeeze(), cmap=\"gray\")\n",
        "plt.title(class_names[label])\n",
        "plt.axis(False)\n",
        "print(f\"Image size: {img.shape}\")\n",
        "print(f\"Label: {label}, label size: {label.shape}\")"
      ],
      "metadata": {
        "colab": {
          "base_uri": "https://localhost:8080/",
          "height": 463
        },
        "id": "tGcaNecRZFgy",
        "outputId": "85784ca9-da91-4e0b-db08-ab48dc14539d"
      },
      "execution_count": 15,
      "outputs": [
        {
          "output_type": "stream",
          "name": "stdout",
          "text": [
            "Image size: torch.Size([1, 28, 28])\n",
            "Label: 1, label size: torch.Size([])\n"
          ]
        },
        {
          "output_type": "display_data",
          "data": {
            "text/plain": [
              "<Figure size 640x480 with 1 Axes>"
            ],
            "image/png": "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\n"
          },
          "metadata": {}
        }
      ]
    },
    {
      "cell_type": "markdown",
      "source": [
        "## 3. Model 0: Build a baseline model\n",
        "\n",
        "when starting to build a series of machine learning modelling experiments, it's best to start with a baseline model.\n",
        "\n",
        "A baseline model is a simple model you will try and improve upon with subsequent models/experiments.\n",
        "\n",
        "In other words: start simply and add complexity when necessary."
      ],
      "metadata": {
        "id": "qhyztJowZD-c"
      }
    },
    {
      "cell_type": "code",
      "source": [
        "# Creating a  flatten layer\n",
        "flatten_model = nn.Flatten()\n",
        "\n",
        "# Get a single sample\n",
        "x = train_features_batch[0]\n",
        "\n",
        "# Flatten the sample\n",
        "output = flatten_model(x) # perform forward pass\n",
        "\n",
        "# Print out what happened\n",
        "print(f\"Shape before flattening: {x.shape} -> [color_channels, height, width]\")\n",
        "print(f\"Shape after flattening: {output.shape} -> [color_channels, height*width]\")"
      ],
      "metadata": {
        "colab": {
          "base_uri": "https://localhost:8080/"
        },
        "id": "k0TfNf62ZD7e",
        "outputId": "7cca9956-1d5e-4801-895f-928201f46477"
      },
      "execution_count": 16,
      "outputs": [
        {
          "output_type": "stream",
          "name": "stdout",
          "text": [
            "Shape before flattening: torch.Size([1, 28, 28]) -> [color_channels, height, width]\n",
            "Shape after flattening: torch.Size([1, 784]) -> [color_channels, height*width]\n"
          ]
        }
      ]
    },
    {
      "cell_type": "code",
      "source": [
        "from torch import nn\n",
        "class FashionMNISTModelV0(nn.Module):\n",
        "  def __init__(self,\n",
        "               input_shape: int,\n",
        "               hidden_units: int,\n",
        "               output_shape: int):\n",
        "    super().__init__()\n",
        "    self.layer_stack = nn.Sequential(\n",
        "        nn.Flatten(),\n",
        "        nn.Linear(in_features=input_shape,\n",
        "                  out_features=hidden_units),\n",
        "        nn.Linear(in_features=hidden_units,\n",
        "                  out_features=output_shape,)\n",
        "    )\n",
        "  def forward(self, x):\n",
        "    return self.layer_stack(x)"
      ],
      "metadata": {
        "id": "8WTMHpPCZD1x"
      },
      "execution_count": 17,
      "outputs": []
    },
    {
      "cell_type": "code",
      "source": [
        "torch.manual_seed(42)\n",
        "\n",
        "# Setup model with input parameters\n",
        "model_0 = FashionMNISTModelV0(\n",
        "    input_shape=784, # this is 28*28\n",
        "    hidden_units=10, # how many units in the hidden layer\n",
        "    output_shape=len(class_names) # one for every class\n",
        ").to(\"cpu\")\n",
        "model_0"
      ],
      "metadata": {
        "colab": {
          "base_uri": "https://localhost:8080/"
        },
        "id": "lcpOGO_-ZDQe",
        "outputId": "a308223f-6863-439f-8d55-fc3e088ff74a"
      },
      "execution_count": 18,
      "outputs": [
        {
          "output_type": "execute_result",
          "data": {
            "text/plain": [
              "FashionMNISTModelV0(\n",
              "  (layer_stack): Sequential(\n",
              "    (0): Flatten(start_dim=1, end_dim=-1)\n",
              "    (1): Linear(in_features=784, out_features=10, bias=True)\n",
              "    (2): Linear(in_features=10, out_features=10, bias=True)\n",
              "  )\n",
              ")"
            ]
          },
          "metadata": {},
          "execution_count": 18
        }
      ]
    },
    {
      "cell_type": "code",
      "source": [
        "dummy_x = torch.rand([1, 1, 28, 28])\n",
        "model_0(dummy_x)"
      ],
      "metadata": {
        "colab": {
          "base_uri": "https://localhost:8080/"
        },
        "id": "_bE-TCf-huYk",
        "outputId": "781565e7-b0ed-4de4-aea0-e82d0eecf30d"
      },
      "execution_count": 19,
      "outputs": [
        {
          "output_type": "execute_result",
          "data": {
            "text/plain": [
              "tensor([[-0.0315,  0.3171,  0.0531, -0.2525,  0.5959,  0.2112,  0.3233,  0.2694,\n",
              "         -0.1004,  0.0157]], grad_fn=<AddmmBackward0>)"
            ]
          },
          "metadata": {},
          "execution_count": 19
        }
      ]
    },
    {
      "cell_type": "code",
      "source": [
        "model_0.state_dict()"
      ],
      "metadata": {
        "colab": {
          "base_uri": "https://localhost:8080/"
        },
        "id": "pncVySTMdOYt",
        "outputId": "9092cf3c-b8ce-4869-803d-f49e2cebeecc"
      },
      "execution_count": 20,
      "outputs": [
        {
          "output_type": "execute_result",
          "data": {
            "text/plain": [
              "OrderedDict([('layer_stack.1.weight',\n",
              "              tensor([[ 0.0273,  0.0296, -0.0084,  ..., -0.0142,  0.0093,  0.0135],\n",
              "                      [-0.0188, -0.0354,  0.0187,  ..., -0.0106, -0.0001,  0.0115],\n",
              "                      [-0.0008,  0.0017,  0.0045,  ..., -0.0127, -0.0188,  0.0059],\n",
              "                      ...,\n",
              "                      [-0.0116,  0.0273, -0.0344,  ...,  0.0176,  0.0283, -0.0011],\n",
              "                      [-0.0230,  0.0257,  0.0291,  ..., -0.0187, -0.0087,  0.0001],\n",
              "                      [ 0.0176, -0.0147,  0.0053,  ..., -0.0336, -0.0221,  0.0205]])),\n",
              "             ('layer_stack.1.bias',\n",
              "              tensor([-0.0093,  0.0283, -0.0033,  0.0255,  0.0017,  0.0037, -0.0302, -0.0123,\n",
              "                       0.0018,  0.0163])),\n",
              "             ('layer_stack.2.weight',\n",
              "              tensor([[ 0.0614, -0.0687,  0.0021,  0.2718,  0.2109,  0.1079, -0.2279, -0.1063,\n",
              "                        0.2019,  0.2847],\n",
              "                      [-0.1495,  0.1344, -0.0740,  0.2006, -0.0475, -0.2514, -0.3130, -0.0118,\n",
              "                        0.0932, -0.1864],\n",
              "                      [ 0.2488,  0.1500,  0.1907,  0.1457, -0.3050, -0.0580,  0.1643,  0.1565,\n",
              "                       -0.2877, -0.1792],\n",
              "                      [ 0.2305, -0.2618,  0.2397, -0.0610,  0.0232,  0.1542,  0.0851, -0.2027,\n",
              "                        0.1030, -0.2715],\n",
              "                      [-0.1596, -0.0555, -0.0633,  0.2302, -0.1726,  0.2654,  0.1473,  0.1029,\n",
              "                        0.2252, -0.2160],\n",
              "                      [-0.2725,  0.0118,  0.1559,  0.1596,  0.0132,  0.3024,  0.1124,  0.1366,\n",
              "                       -0.1533,  0.0965],\n",
              "                      [-0.1184, -0.2555, -0.2057, -0.1909, -0.0477, -0.1324,  0.2905,  0.1307,\n",
              "                       -0.2629,  0.0133],\n",
              "                      [ 0.2727, -0.0127,  0.0513,  0.0863, -0.1043, -0.2047, -0.1185, -0.0825,\n",
              "                        0.2488, -0.2571],\n",
              "                      [ 0.0425, -0.1209, -0.0336, -0.0281, -0.1227,  0.0730,  0.0747, -0.1816,\n",
              "                        0.1943,  0.2853],\n",
              "                      [-0.1310,  0.0645, -0.1171,  0.2168, -0.0245, -0.2820,  0.0736,  0.2621,\n",
              "                        0.0012, -0.0810]])),\n",
              "             ('layer_stack.2.bias',\n",
              "              tensor([-0.0087,  0.1791,  0.2712, -0.0791,  0.1685,  0.1762,  0.2825,  0.2266,\n",
              "                      -0.2612, -0.2613]))])"
            ]
          },
          "metadata": {},
          "execution_count": 20
        }
      ]
    },
    {
      "cell_type": "markdown",
      "source": [
        "### 3.1 Setup loss, optimizer and evaluation metrics\n",
        "\n",
        "* Loss funtion - since we're working  with multi-class data, our loss function will be `nn.CrossEntropyLoss()`\n",
        "* Optimizer - our optimizer `torch.optim.SGD()` (Stochastic Gradient Descent)\n",
        "* Evalution metric - since we are working on a classification problem, let's use accuracy as our evalution metric"
      ],
      "metadata": {
        "id": "jAHh80F_dOSZ"
      }
    },
    {
      "cell_type": "code",
      "source": [
        "import requests\n",
        "from pathlib import Path\n",
        "\n",
        "# Download helper functions from Learn PyTorch repo\n",
        "if Path(\"helper_functions.py\").is_file():\n",
        "  print(\"helper_functions.py already exists, skipping download\")\n",
        "else:\n",
        "  print(\"Downloading helper_functions.py\")\n",
        "  request = requests.get(\"https://raw.githubusercontent.com/mrdbourke/pytorch-deep-learning/main/helper_functions.py\")\n",
        "  with open(\"helper_functions.py\", \"wb\") as f:\n",
        "    f.write(request.content)"
      ],
      "metadata": {
        "colab": {
          "base_uri": "https://localhost:8080/"
        },
        "id": "eqCTsLaZdOND",
        "outputId": "75fb42f5-e842-4bf8-ad86-fb2c563efde7"
      },
      "execution_count": 21,
      "outputs": [
        {
          "output_type": "stream",
          "name": "stdout",
          "text": [
            "Downloading helper_functions.py\n"
          ]
        }
      ]
    },
    {
      "cell_type": "code",
      "source": [
        "# Import accuracy metric\n",
        "from helper_functions import accuracy_fn\n",
        "\n",
        "# Setup loss function and optimizer\n",
        "loss_fn = nn.CrossEntropyLoss()\n",
        "optimizer = torch.optim.SGD(params=model_0.parameters(),\n",
        "                            lr=0.1)"
      ],
      "metadata": {
        "id": "Fa-7jCfwdNuW"
      },
      "execution_count": 22,
      "outputs": []
    },
    {
      "cell_type": "markdown",
      "source": [
        "### Creating a function to time our experiments\n",
        "\n",
        "Machine leaning is very experimental.\n",
        "\n",
        "Two of the main things you'll often want to track are:\n",
        "1. Model's performance (loss and accuracy values etc)\n",
        "2. How fast it runs"
      ],
      "metadata": {
        "id": "3nmAfdAXjPLb"
      }
    },
    {
      "cell_type": "code",
      "source": [
        "from timeit import default_timer as timer\n",
        "def print_train_time(start: float,\n",
        "                     end: float,\n",
        "                     device: torch.device = None):\n",
        "  \"\"\"Prints difference between start and end time.\"\"\"\n",
        "  total_time = end - start\n",
        "  print(f\"Train time on {device}: {total_time:.3f} seconds\")\n",
        "  return total_time"
      ],
      "metadata": {
        "id": "mfqyNphwdNk6"
      },
      "execution_count": 23,
      "outputs": []
    },
    {
      "cell_type": "code",
      "source": [
        "start_time = timer()\n",
        "# some code...\n",
        "end_time = timer()\n",
        "print_train_time(start=start_time,\n",
        "                 end=end_time,\n",
        "                 device=\"cpu\")"
      ],
      "metadata": {
        "colab": {
          "base_uri": "https://localhost:8080/"
        },
        "id": "wvKekAkFdNev",
        "outputId": "9bb7ec4e-bf5e-4899-8537-f9fb7b2c8e92"
      },
      "execution_count": 24,
      "outputs": [
        {
          "output_type": "stream",
          "name": "stdout",
          "text": [
            "Train time on cpu: 0.000 seconds\n"
          ]
        },
        {
          "output_type": "execute_result",
          "data": {
            "text/plain": [
              "2.6130000009061405e-05"
            ]
          },
          "metadata": {},
          "execution_count": 24
        }
      ]
    },
    {
      "cell_type": "markdown",
      "source": [
        "### 3.3 Creating a training loop and training a model on batches of data\n",
        "\n",
        "1. Loop through epochs.\n",
        "2. Loop through training batches, perform training steps, calculate the training loss *per batch*.\n",
        "3. Loop through testing batches, perform testing steps, calculate the test loss *per batch*.\n",
        "4. Print out what's happening.\n",
        "5. Time it all (for fun)."
      ],
      "metadata": {
        "id": "k2weuUdAEd3Q"
      }
    },
    {
      "cell_type": "code",
      "source": [
        "# Import tqdm for progress bar\n",
        "from tqdm.auto import tqdm\n",
        "\n",
        "# Set the seed and start the timer\n",
        "torch.manual_seed(42)\n",
        "train_time_start_on_cpu = timer()\n",
        "\n",
        "# Set the number of epochs (we'll keep this small for faster time)\n",
        "epochs = 3\n",
        "\n",
        "# Create training and test loop\n",
        "for epoch in tqdm(range(epochs)):\n",
        "  print(f\"Epoch: {epochs}\\n------\")\n",
        "  ### Training\n",
        "  train_loss = 0\n",
        "  # Add a loop to loop through the training batches\n",
        "  for batch, (X, y) in enumerate(train_dataloader):\n",
        "    model_0.train()\n",
        "    # 1. Forward pass\n",
        "    y_pred = model_0(X)\n",
        "\n",
        "    # 2. Calculate loss (per batch)\n",
        "    loss = loss_fn(y_pred, y)\n",
        "    train_loss += loss # accumulate train loss\n",
        "\n",
        "    # 3. Optimizer zero grad\n",
        "    optimizer.zero_grad()\n",
        "\n",
        "    # 4. Loss backward\n",
        "    loss.backward()\n",
        "\n",
        "    # 5. Optimizer step\n",
        "    optimizer.step()\n",
        "\n",
        "    # Print out what's happening\n",
        "    if batch % 400 == 0:\n",
        "      print(f\"Looked at {batch * len(X)}/{len(train_dataloader.dataset)} samples.\")\n",
        "  # Divide total train loss by length of train dataloader\n",
        "  train_loss /= len(train_dataloader)\n",
        "\n",
        "  ### Testing\n",
        "  test_loss, test_acc = 0, 0\n",
        "  model_0.eval()\n",
        "  with torch.inference_mode():\n",
        "    for X_test, y_test in test_dataloader:\n",
        "      # 1. Forward pass (prediction)\n",
        "      test_pred = model_0(X_test)\n",
        "\n",
        "      # 2. Calculate loss (accumulatively)\n",
        "      test_loss += loss_fn(test_pred, y_test)\n",
        "\n",
        "      # 3. Calculate accuracy (accumulatively)\n",
        "      test_acc += accuracy_fn(y_true=y_test,\n",
        "                               y_pred=test_pred.argmax(dim=1))\n",
        "\n",
        "    # Calculate the test loss average per batch\n",
        "    test_loss /= len(test_dataloader)\n",
        "\n",
        "    # Calculate the test accuracy average per batch\n",
        "    test_acc /= len(test_dataloader)\n",
        "\n",
        "  # Print out what's happening\n",
        "  print(f\"\\nTrain loss: {train_loss:.4f} | Test loss: {test_loss:.4f}, Test acc: {test_acc:.4f}\")\n",
        "\n",
        "# Calculate the training time\n",
        "train_time_end_on_cpu = timer()\n",
        "total_train_time_model_0 = print_train_time(start=train_time_start_on_cpu,\n",
        "                                            end=train_time_end_on_cpu,\n",
        "                                            device=str(next(model_0.parameters()).device))"
      ],
      "metadata": {
        "colab": {
          "base_uri": "https://localhost:8080/",
          "height": 535,
          "referenced_widgets": [
            "19fd4a201bf84afa8fd8228eff4e8cf8",
            "1184aea9298e41f687dd814fb3694631",
            "68c33509679c4f50806c99548c0a798e",
            "cadf1351db56406bb89c354b48e696d4",
            "9ddffb9404794c65bef8d18353cbbf12",
            "57bf4d4047ab40c98c7406a62d243add",
            "5a58495c1ca5424c9ab95c1e30d7c110",
            "4abb8fce56b141f9ba7b87cbb68d00cb",
            "1b5f2917ab594071a3d927906c6eb177",
            "64203f852e4647dca937fae3a1a84da4",
            "fbd5454d80c0401ab5a732505635c0dc"
          ]
        },
        "id": "GAKTlEmcEdzB",
        "outputId": "a33bfea4-17df-4480-cd89-dab570d6fab8"
      },
      "execution_count": 25,
      "outputs": [
        {
          "output_type": "display_data",
          "data": {
            "text/plain": [
              "  0%|          | 0/3 [00:00<?, ?it/s]"
            ],
            "application/vnd.jupyter.widget-view+json": {
              "version_major": 2,
              "version_minor": 0,
              "model_id": "19fd4a201bf84afa8fd8228eff4e8cf8"
            }
          },
          "metadata": {}
        },
        {
          "output_type": "stream",
          "name": "stdout",
          "text": [
            "Epoch: 3\n",
            "------\n",
            "Looked at 0/60000 samples.\n",
            "Looked at 12800/60000 samples.\n",
            "Looked at 25600/60000 samples.\n",
            "Looked at 38400/60000 samples.\n",
            "Looked at 51200/60000 samples.\n",
            "\n",
            "Train loss: 0.5904 | Test loss: 0.5095, Test acc: 82.0387\n",
            "Epoch: 3\n",
            "------\n",
            "Looked at 0/60000 samples.\n",
            "Looked at 12800/60000 samples.\n",
            "Looked at 25600/60000 samples.\n",
            "Looked at 38400/60000 samples.\n",
            "Looked at 51200/60000 samples.\n",
            "\n",
            "Train loss: 0.4763 | Test loss: 0.4799, Test acc: 83.1969\n",
            "Epoch: 3\n",
            "------\n",
            "Looked at 0/60000 samples.\n",
            "Looked at 12800/60000 samples.\n",
            "Looked at 25600/60000 samples.\n",
            "Looked at 38400/60000 samples.\n",
            "Looked at 51200/60000 samples.\n",
            "\n",
            "Train loss: 0.4550 | Test loss: 0.4766, Test acc: 83.4265\n",
            "Train time on cpu: 25.480 seconds\n"
          ]
        }
      ]
    },
    {
      "cell_type": "markdown",
      "source": [
        "### 4. Make predictions and get Model 0 results"
      ],
      "metadata": {
        "id": "_v_z2-7sLvcW"
      }
    },
    {
      "cell_type": "code",
      "source": [
        "torch.manual_seed(42)\n",
        "def eval_model(model: torch.nn.Module,\n",
        "               data_loader: torch.utils.data.DataLoader,\n",
        "               loss_fn: torch.nn.Module,\n",
        "               accuracy_fn):\n",
        "  '''Returns a dictionary containing the results of model predicting on data_loader.'''\n",
        "  loss, acc = 0, 0\n",
        "  model.eval()\n",
        "  with torch.inference_mode():\n",
        "    for X, y in tqdm(data_loader):\n",
        "      # Make predictions\n",
        "      y_pred = model(X)\n",
        "\n",
        "      # Accumulate the loss and acc values per batch\n",
        "      loss += loss_fn(y_pred, y)\n",
        "      acc += accuracy_fn(y_true=y,\n",
        "                         y_pred=y_pred.argmax(dim=1))\n",
        "\n",
        "    # Scale loss and acc to find the average loss/acc per batch\n",
        "    loss /= len(data_loader)\n",
        "    acc /= len(data_loader)\n",
        "\n",
        "  return {\"model_name\": model.__class__.__name__, # Only works when model was created with a class\n",
        "          \"model_loss\": loss.item(),\n",
        "          \"model_acc\": acc}\n",
        "\n",
        "# Calculate model 0 results on the test dataset\n",
        "model_0_results = eval_model(model=model_0,\n",
        "                             data_loader=test_dataloader,\n",
        "                             loss_fn=loss_fn,\n",
        "                             accuracy_fn=accuracy_fn)\n",
        "model_0_results"
      ],
      "metadata": {
        "colab": {
          "base_uri": "https://localhost:8080/",
          "height": 101,
          "referenced_widgets": [
            "6964c24caa3848fdab5c5c1dd3399649",
            "0bce88a5af364eaea9bc7c0a5dee951b",
            "79f69e9fdba44b0f9156b15d498b978d",
            "efa9cc493a2e417dbb6a76063b0495df",
            "9aadd50d9540472ea41e2e4cc410fb71",
            "778ec60b310947e29823f2add9e1921e",
            "e67f983244fd46f9ae3cabf11d508a97",
            "ff9fa71ac3794060ae1bcc0072e941d9",
            "c91812157cde4aa484fd7f10faf41516",
            "56eb5381564a495696053e586f48c347",
            "d227000107ef4cb39e4ded9a40f8677b"
          ]
        },
        "id": "29m7QZOMKr70",
        "outputId": "493d8cc1-dc18-4f63-ca3b-c3a2658d6ed5"
      },
      "execution_count": 26,
      "outputs": [
        {
          "output_type": "display_data",
          "data": {
            "text/plain": [
              "  0%|          | 0/313 [00:00<?, ?it/s]"
            ],
            "application/vnd.jupyter.widget-view+json": {
              "version_major": 2,
              "version_minor": 0,
              "model_id": "6964c24caa3848fdab5c5c1dd3399649"
            }
          },
          "metadata": {}
        },
        {
          "output_type": "execute_result",
          "data": {
            "text/plain": [
              "{'model_name': 'FashionMNISTModelV0',\n",
              " 'model_loss': 0.47663894295692444,\n",
              " 'model_acc': 83.42651757188499}"
            ]
          },
          "metadata": {},
          "execution_count": 26
        }
      ]
    },
    {
      "cell_type": "code",
      "source": [],
      "metadata": {
        "id": "nvCv0KCSEdt8"
      },
      "execution_count": 26,
      "outputs": []
    },
    {
      "cell_type": "code",
      "source": [],
      "metadata": {
        "id": "-xQgj40AEddw"
      },
      "execution_count": 26,
      "outputs": []
    },
    {
      "cell_type": "code",
      "source": [],
      "metadata": {
        "id": "J1e1CvKTEPLz"
      },
      "execution_count": 26,
      "outputs": []
    },
    {
      "cell_type": "code",
      "source": [],
      "metadata": {
        "id": "sAnp0YxthuPl"
      },
      "execution_count": 26,
      "outputs": []
    },
    {
      "cell_type": "code",
      "source": [],
      "metadata": {
        "id": "bnlLUyvNhuLp"
      },
      "execution_count": 26,
      "outputs": []
    },
    {
      "cell_type": "code",
      "source": [],
      "metadata": {
        "id": "EG4xOEGShuER"
      },
      "execution_count": 26,
      "outputs": []
    }
  ]
}
